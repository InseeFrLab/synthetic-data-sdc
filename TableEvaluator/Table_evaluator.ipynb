{
 "cells": [
  {
   "cell_type": "code",
   "execution_count": null,
   "id": "86494e13-606d-44b4-89fc-f413d7de856a",
   "metadata": {},
   "outputs": [],
   "source": [
    "pip install scipy\n",
    "pip install table_evaluator"
   ]
  },
  {
   "cell_type": "code",
   "execution_count": 1,
   "id": "bf64671c-d25e-45ec-8938-62815cd590ff",
   "metadata": {},
   "outputs": [],
   "source": [
    "import scipy\n",
    "import pandas as pd"
   ]
  },
  {
   "cell_type": "code",
   "execution_count": 4,
   "id": "91c76a28-1bd4-4c17-be0b-18611b466014",
   "metadata": {},
   "outputs": [
    {
     "name": "stdout",
     "output_type": "stream",
     "text": [
      "IPython not installed.\n"
     ]
    },
    {
     "name": "stderr",
     "output_type": "stream",
     "text": [
      "/opt/conda/lib/python3.12/site-packages/table_evaluator/notebook.py:2: DeprecationWarning: Importing display from IPython.core.display is deprecated since IPython 7.14, please import from IPython display\n",
      "  from IPython.core.display import HTML, display, Markdown\n"
     ]
    }
   ],
   "source": [
    "import mlflow\n",
    "from table_evaluator import TableEvaluator\n",
    "import warnings"
   ]
  },
  {
   "cell_type": "code",
   "execution_count": 5,
   "id": "eaae6001-a1da-4f8f-9900-63274a340f4e",
   "metadata": {},
   "outputs": [],
   "source": [
    "variables = ['sex','age','agegr','placesize','edu','socprof','marital','ls','depress','trust','trustfam','trustneigh','sport','nofriend','smoke','alcabuse','alcsol','wkabint','englang','height','weight','bmi']\n",
    "num = ['age', 'depress', 'nofriend', 'height', 'weight', 'bmi']\n",
    "\n",
    "fac = ['sex','agegr','placesize','edu','socprof','marital','ls','trust','trustfam','trustneigh','sport','smoke','alcabuse','alcsol','wkabint','englang']\n",
    "\n",
    "var_puf71 = [\"AAC\",\"ACTEU\",\"AGE6\",\"ANCCHOM\",\"ANCEMPL4\",\"ANCSSEMP\",\"CHPUB\",\"CL_EMPLOI\",\"COUPL_LOG\",\"DEMNE\",\"DIP7\",\"DISPONE\",\"DISPPLC\",\"ENFRED\",\"EXTRIAN\",\"HALOR\",\"HEFFEMP\",\"HEFFTOT\",\n",
    "           \"HHABEMP\",\"HHABTOT\",\"IDENT\",\"ISCO2\"\"METRODOM\",\"MRANE\",\"MRBNE\",\"MRCNE\",\"MRDNE\",\"MRENE\",\"MRFNE\",\"MRGNE\",\"MRHNE\",\"MRINE\",\"MRJNE\",\"NAFANTG004N\",\"NAFANTG088N\",\"NAFG004UN\",\"NAFG010UN\",\"NAFG017UN\",\n",
    "           \"NAFG021UN\",\"NAFG038UN\",\"NAFG088UN\",\"NOI\",\"OFFICC\",\"PASTRA\",\"PASTRB\",\"PCS1\",\"PCS1Q\",\"PCS2\",\"PUB3FP\",\"RABS\",\"RAISDISPPLC\",\"RAISNDISPONE\",\"RAISNRECNE\",\"RAISNSOUNE\",\"RAISTP\",\"RECNE\",\"SALTYP\",\"SEXE\",\n",
    "           \"SOU_C\",\"SOUSEMPL\",\"SOUSEMPLR\",\"STATUT\",\"STATUTDET\",\"STC\",\"STCOMM2020\",\"STPLC\",\"TEMP\",\"TPPRED\",\"TRAREF\",\"TXTPPRED\",\"TYPLOG5\"]\n",
    "\n",
    "var_puf65 = [\"AAC\",\"ACTEU\",\"AGE6\",\"ANCCHOM\",\"ANCEMPL4\",\"ANCSSEMP\",\"CHPUB\",\"CL_EMPLOI\",\"COUPL_LOG\",\"DEMNE\",\"DIP7\",\"DISPONE\",\"DISPPLC\",\"ENFRED\",\"EXTRIAN\",\"HALOR\",\"HEFFEMP\",\"HEFFTOT\",\n",
    "           \"HHABEMP\",\"HHABTOT\",\"METRODOM\",\"MRANE\",\"MRBNE\",\"MRCNE\",\"MRDNE\",\"MRENE\",\"MRFNE\",\"MRGNE\",\"MRHNE\",\"MRINE\",\"MRJNE\",\"NAFANTG004N\",\"NAFG004UN\",\"NAFG010UN\",\"NAFG017UN\",\n",
    "           \"NAFG021UN\",\"NOI\",\"OFFICC\",\"PASTRA\",\"PASTRB\",\"PCS1\",\"PCS1Q\",\"PUB3FP\",\"RABS\",\"RAISDISPPLC\",\"RAISNDISPONE\",\"RAISNRECNE\",\"RAISNSOUNE\",\"RAISTP\",\"RECNE\",\"SALTYP\",\"SEXE\",\n",
    "           \"SOU_C\",\"SOUSEMPL\",\"SOUSEMPLR\",\"STATUT\",\"STATUTDET\",\"STC\",\"STCOMM2020\",\"STPLC\",\"TEMP\",\"TPPRED\",\"TRAREF\",\"TXTPPRED\",\"TYPLOG5\"]\n",
    "\n",
    "fac_puf71 = [\"AAC\",\"ACTEU\",\"AGE6\",\"ANCCHOM\",\"ANCEMPL4\",\"ANCSSEMP\",\"CHPUB\",\"CL_EMPLOI\",\"COUPL_LOG\",\"DEMNE\",\"DIP7\",\"DISPONE\",\"DISPPLC\",\"ENFRED\",\"HALOR\",\"IDENT\",\"ISCO2\",\"METRODOM\",\"MRANE\",\"MRBNE\",\n",
    "           \"MRCNE\",\"MRDNE\",\"MRENE\",\"MRFNE\",\"MRGNE\",\"MRHNE\",\"MRINE\",\"MRJNE\",\"NAFANTG004N\",\"NAFANTG088N\",\"NAFG004UN\",\"NAFG010UN\",\"NAFG017UN\",\"NAFG021UN\",\"NAFG038UN\",\"NAFG088UN\",\"NOI\",\"OFFICC\",\"PASTRA\",\"PASTRB\",\n",
    "           \"PCS1\",\"PCS1Q\",\"PCS2\",\"PUB3FP\",\"RABS\",\"RAISDISPPLC\",\"RAISNDISPONE\",\"RAISNRECNE\",\"RAISNSOUNE\",\"RAISTP\",\"RECNE\",\"SALTYP\",\"SEXE\",\"SOU_C\",\"SOUSEMPL\",\"SOUSEMPLR\",\"STATUT\",\n",
    "           \"STATUTDET\",\"STC\",\"STCOMM2020\",\"STPLC\",\"TEMP\",\"TPPRED\",\"TRAREF\",\"TXTPPRED\",\"TYPLOG5\"]\n",
    "\n",
    "fac_puf65 = [\"AAC\",\"ACTEU\",\"AGE6\",\"ANCCHOM\",\"ANCEMPL4\",\"ANCSSEMP\",\"CHPUB\",\"CL_EMPLOI\",\"COUPL_LOG\",\"DEMNE\",\"DIP7\",\"DISPONE\",\"DISPPLC\",\"ENFRED\",\"HALOR\",\"METRODOM\",\"MRANE\",\"MRBNE\",\n",
    "           \"MRCNE\",\"MRDNE\",\"MRENE\",\"MRFNE\",\"MRGNE\",\"MRHNE\",\"MRINE\",\"MRJNE\",\"NAFANTG004N\",\"NAFG004UN\",\"NAFG010UN\",\"NAFG017UN\",\"NAFG021UN\",\"NOI\",\"OFFICC\",\"PASTRA\",\"PASTRB\",\n",
    "           \"PCS1\",\"PCS1Q\",\"PUB3FP\",\"RABS\",\"RAISDISPPLC\",\"RAISNDISPONE\",\"RAISNRECNE\",\"RAISNSOUNE\",\"RAISTP\",\"RECNE\",\"SALTYP\",\"SEXE\",\"SOU_C\",\"SOUSEMPL\",\"SOUSEMPLR\",\"STATUT\",\n",
    "           \"STATUTDET\",\"STC\",\"STCOMM2020\",\"STPLC\",\"TEMP\",\"TPPRED\",\"TRAREF\",\"TXTPPRED\",\"TYPLOG5\"]"
   ]
  },
  {
   "cell_type": "code",
   "execution_count": 9,
   "id": "3f111603-f86f-401f-af17-129dfe2ffba7",
   "metadata": {},
   "outputs": [
    {
     "name": "stderr",
     "output_type": "stream",
     "text": [
      "/tmp/ipykernel_3535/37277087.py:10: DtypeWarning: Columns (1,2,3,4,5,6,7,9,10,11,12,13,14,15,16,17,18,19,20,21,22,23,24,25,26,27,28,29,30,31,37,38,39,40,41,42,43,44,45,46,47,48,49,50,51,52,53,54,55,56,57,58,60,61,62,63,64,65) have mixed types. Specify dtype option on import or set low_memory=False.\n",
      "  puf = pd.read_csv(\"puf.csv\", names = var_puf65)\n",
      "/tmp/ipykernel_3535/37277087.py:12: DtypeWarning: Columns (1,2,3,4,5,6,7,9,10,11,12,13,14,15,16,17,18,19,20,21,22,23,24,25,26,27,28,29,30,31,37,38,39,40,41,42,43,44,45,46,47,48,49,50,51,52,53,54,55,56,57,58,60,61,62,63,64,65) have mixed types. Specify dtype option on import or set low_memory=False.\n",
      "  puf_test = pd.read_csv(\"puf_test.csv\", names = var_puf65)\n",
      "/tmp/ipykernel_3535/37277087.py:13: DtypeWarning: Columns (1,2,3,4,5,6,7,9,10,11,12,13,14,15,16,17,18,19,20,21,22,23,24,25,26,27,28,29,30,31,37,38,39,40,41,42,43,44,45,46,47,48,49,50,51,52,53,54,55,56,57,58,60,61,62,63,64,65) have mixed types. Specify dtype option on import or set low_memory=False.\n",
      "  puf_cart = pd.read_csv(\"puf_cart.csv\", names = var_puf65)\n",
      "/tmp/ipykernel_3535/37277087.py:14: DtypeWarning: Columns (1,2,3,4,5,6,7,9,10,11,12,13,14,15,16,17,18,19,20,22,23,24,25,26,27,28,29,30,31,32,33,35,41,42,43,44,45,46,47,48,49,50,51,52,53,54,55,56,57,58,59,60,61,62,63,64,66,67,68,69,70,71) have mixed types. Specify dtype option on import or set low_memory=False.\n",
      "  puf71_tvae = pd.read_csv(\"puf71_tvae.csv\", names = var_puf71)\n"
     ]
    }
   ],
   "source": [
    "original = pd.read_csv(\"df_original.csv\", names = variables)\n",
    "ctgan = pd.read_csv('ctgan_best.csv', names = variables, header = 0)\n",
    "cart = pd.read_csv(\"df1_cart.csv\", names = variables)\n",
    "ctree = pd.read_csv(\"df1_ctree.csv\", names = variables)\n",
    "parametric = pd.read_csv(\"df1_parametric.csv\", names = variables)\n",
    "rf = pd.read_csv(\"df1_rf.csv\", names = variables)\n",
    "bag = pd.read_csv(\"df1_bag.csv\", names = variables)\n",
    "sample = pd.read_csv(\"df1_sample.csv\", names = variables)\n",
    "tvae = pd.read_csv(\"tvae_best.csv\", names = variables, header = 0)\n",
    "puf = pd.read_csv(\"puf.csv\", names = var_puf65)\n",
    "#puf71 = pd.read_csv(\"SDV/puf71.csv\", names = var_puf71)\n",
    "puf_test = pd.read_csv(\"puf_test.csv\", names = var_puf65)\n",
    "puf_cart = pd.read_csv(\"puf_cart.csv\", names = var_puf65)\n",
    "puf71_tvae = pd.read_csv(\"puf71_tvae.csv\", names = var_puf71)"
   ]
  },
  {
   "cell_type": "code",
   "execution_count": null,
   "id": "f32fb900-eb72-4d5a-8600-6a1535b644ef",
   "metadata": {},
   "outputs": [],
   "source": [
    "colonnes_a_convertir = [\"EXTRIAN\", \"HEFFEMP\", \"HEFFTOT\", \"HHABEMP\", \"HHABTOT\"]\n",
    "\n",
    "for colonne in colonnes_a_convertir:\n",
    "    puf[colonne] = pd.to_numeric(puf[colonne], errors='coerce')\n",
    "    puf_test[colonne] = pd.to_numeric(puf_test[colonne], errors='coerce')\n",
    "    puf_cart[colonne] = pd.to_numeric(puf_cart[colonne], errors='coerce')"
   ]
  },
  {
   "cell_type": "code",
   "execution_count": null,
   "id": "cd8258da-a0fe-4977-9a52-9455dbe0b000",
   "metadata": {},
   "outputs": [],
   "source": [
    "evaluator_cart = TableEvaluator(original, cart, cat_cols = fac)\n",
    "evaluator_ctree = TableEvaluator(original, ctree, cat_cols = fac)\n",
    "evaluator_parametric = TableEvaluator(original, parametric, cat_cols = fac)\n",
    "evaluator_rf = TableEvaluator(original, rf, cat_cols = fac)\n",
    "evaluator_bag = TableEvaluator(original, bag, cat_cols = fac)\n",
    "evaluator_sample = TableEvaluator(original, sample, cat_cols = fac)\n",
    "evaluator_ctgan = TableEvaluator(original, ctgan, cat_cols = fac)\n",
    "evaluator_tvae = TableEvaluator(original, tvae, cat_cols = fac)\n",
    "evaluator_puf = TableEvaluator(puf, puf_test, cat_cols = fac_puf)\n",
    "evaluator_puf_cart = TableEvaluator(puf, puf_cart, cat_cols = fac_puf)\n",
    "evaluator_puf71_tvae = TableEvaluator(puf71, puf71_tvae, cat_cols = fac_puf71)"
   ]
  },
  {
   "cell_type": "raw",
   "id": "bebba5f0-7ed1-43db-899c-2c5d98fdaf8f",
   "metadata": {},
   "source": [
    "## Graphiques"
   ]
  },
  {
   "cell_type": "code",
   "execution_count": null,
   "id": "613aed25-fc67-4062-9a3c-922fffb935f6",
   "metadata": {},
   "outputs": [],
   "source": [
    "warnings.filterwarnings(\"ignore\")\n",
    "\n",
    "#evaluator_cart.visual_evaluation()\n",
    "#evaluator_ctree.visual_evaluation()\n",
    "#evaluator_parametric.visual_evaluation()\n",
    "#evaluator_rf.visual_evaluation()\n",
    "#evaluator_bag.visual_evaluation()\n",
    "#evaluator_sample.visual_evaluation()\n",
    "#evaluator_ctgan.visual_evaluation()\n",
    "#evaluator_tvae.visual_evaluation()\n",
    "#evaluator_puf.visual_evaluation()\n",
    "#evaluator_puf_cart.visual_evaluation()\n",
    "evaluator_puf71_tvae.visual_evaluation()\n",
    "#evaluator_ctgan.plot_correlation_difference(fname=\"correlation_ctgan.png\")\n",
    "#evaluator_tvae.plot_distributions(fname=\"distributions_tvae.png\")"
   ]
  },
  {
   "cell_type": "markdown",
   "id": "be8beca3-ae26-4c51-9e05-f55375d4ba53",
   "metadata": {},
   "source": [
    "Les deux premiers graphiques représentent les logarithmes absolu de la moyenne et de l'écart-type de chaque variables numériques.\n",
    "\n",
    "Matrice corrélations :\n",
    "- Continue - Continue : utilise le coefficient de corrélation de Pearson $\\frac{\\sum(x_i - \\bar{x})(y_i - \\bar{y})}{\\sqrt{\\sum(x_i - \\bar{x})^2\\sum(y_i -\\bar{y})^2}} \\in [-1,1]$\n",
    "- Continue - Catégorielle : utilise le rapport de corrélation $\\eta^2(y,x) = \\frac{SCE_{inter}}{SCE_{intra}} \\in [0,1]$ avec $SCE_{intra} = \\sum_j\\sum_{i \\in J_j}(y_{ij} - \\bar{y}_{.j})^2$ qui est la variabilité intra-classe et $SCE_{inter} = \\sum_j\\sum_{i \\in J_j}(\\bar{y}_{.j} - \\bar{y})^2$ qui est la variabilité inter-classe\n",
    "- Catégorielle - Catégorielle : utilise le U de Theil, une métrique de corrélation asymétrique pour les associations catégorielles défini par $U(X|Y) = \\frac{H(X) - H(X|Y)}{H(X)} \\in [0,1]$ avec $H(X) = -\\sum_x P_X(x)\\log P_X(x)$ et $H(X|Y) = -\\sum_{x,y}P_{X,Y}(x,y)\\log P_{X|Y}(x|y)$"
   ]
  },
  {
   "cell_type": "markdown",
   "id": "6cc1a476-790c-4e01-bfb7-addde10eb7ab",
   "metadata": {},
   "source": [
    "Cart : \n",
    "- Les moyennes et écarts types des variables numériques sont très proches après transformation logarithmique.\n",
    "- Les corrélations entre variables sont bien reproduites dans les données synthétiques.\n",
    "- La structure globale des données, telle que capturée par les deux premières composantes principales, est conservée dans les données synthétiques.\n",
    "\n",
    "Ctree : Pareil\n",
    "\n",
    "Parametric : \n",
    "- On constate une différence dans la variabilité des variables numériques entre les données originales et les données synthétiques.\n",
    "- On apperçoit également dans la matrice des différences des cases plus foncées indiquant une plus grande différence dans les corrélations\n",
    "- Les individus ont une représentation différente dans le premier plan factoriel\n",
    "- Le modèle parametric est globalement moins bon que cart et ctree.\n",
    "\n",
    "Rf :\n",
    "- Plus grandes différences dans les effectifs de chaque variables par rapport aux autres modèles\n",
    "- Il y a une assez grande différence dans les corrélations concernant la variable depress\n",
    "\n",
    "Bag :\n",
    "- Quelques différences au niveau des effectifs de cretaines variables\n",
    "\n",
    "Sample :\n",
    "- Est assez bon jusqu'à ce qu'on arrive aux corrélations qui sont catastrophiques tout comme la représentation dans le premier plan factoriel "
   ]
  },
  {
   "cell_type": "code",
   "execution_count": null,
   "id": "3c028166-2277-4cb2-9270-c08ff554dab6",
   "metadata": {},
   "outputs": [],
   "source": []
  },
  {
   "cell_type": "code",
   "execution_count": null,
   "id": "4c0e6b5d-9ce0-4ce7-903e-3cdc4f91a36f",
   "metadata": {},
   "outputs": [],
   "source": []
  },
  {
   "cell_type": "code",
   "execution_count": null,
   "id": "bb3c6bed-daac-4248-b319-2e4d3ef585b0",
   "metadata": {},
   "outputs": [],
   "source": []
  },
  {
   "cell_type": "code",
   "execution_count": null,
   "id": "ea9440c7-b45b-48ba-aa2a-59e4e44918fe",
   "metadata": {},
   "outputs": [],
   "source": []
  }
 ],
 "metadata": {
  "kernelspec": {
   "display_name": "Python 3 (ipykernel)",
   "language": "python",
   "name": "python3"
  },
  "language_info": {
   "codemirror_mode": {
    "name": "ipython",
    "version": 3
   },
   "file_extension": ".py",
   "mimetype": "text/x-python",
   "name": "python",
   "nbconvert_exporter": "python",
   "pygments_lexer": "ipython3",
   "version": "3.12.4"
  }
 },
 "nbformat": 4,
 "nbformat_minor": 5
}
