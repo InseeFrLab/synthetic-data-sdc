{
 "cells": [
  {
   "cell_type": "code",
   "execution_count": 1,
   "id": "c47d7548-7d2b-4a26-b67c-74d72a7d5680",
   "metadata": {},
   "outputs": [],
   "source": [
    "import pandas as pd\n",
    "import os\n",
    "import time\n",
    "import matplotlib.pyplot as plt\n",
    "import matplotlib\n",
    "import numpy as np\n",
    "from sdv.metadata import SingleTableMetadata\n",
    "from sdv.single_table import TVAESynthesizer\n",
    "\n",
    "os.chdir('/home/onyxia/work/synthetic-data-sdc/')\n",
    "os.environ[\"MLFLOW_TRACKING_URI\"] = \"https://projet-donnees-synthetiques-mlflow.user.lab.sspcloud.fr/\""
   ]
  },
  {
   "cell_type": "markdown",
   "id": "f1588f67-b943-4461-92bc-5a6dfee19e4c",
   "metadata": {},
   "source": [
    "# Données"
   ]
  },
  {
   "cell_type": "code",
   "execution_count": 2,
   "id": "bb2a1efb-fea5-4ada-917d-6635b87ccbd9",
   "metadata": {},
   "outputs": [
    {
     "name": "stderr",
     "output_type": "stream",
     "text": [
      "/tmp/ipykernel_1602/145665797.py:19: DtypeWarning: Columns (1,2,3,4,5,6,7,9,10,11,12,13,14,15,16,17,18,19,20,21,22,23,24,25,26,27,28,29,30,31,37,38,39,40,41,42,43,44,45,46,47,48,49,50,51,52,53,54,55,56,57,58,60,61,62,63,64,65) have mixed types. Specify dtype option on import or set low_memory=False.\n",
      "  puf65 = pd.read_csv('TableEvaluator/puf.csv', names = var_puf65)\n"
     ]
    }
   ],
   "source": [
    "variables = ['sex','age','agegr','placesize','edu','socprof','marital','ls','depress','trust','trustfam','trustneigh','sport','nofriend','smoke','alcabuse','alcsol','wkabint','englang','height','weight','bmi']\n",
    "\n",
    "var_puf65 = [\"AAC\",\"ACTEU\",\"AGE6\",\"ANCCHOM\",\"ANCEMPL4\",\"ANCSSEMP\",\"CHPUB\",\"CL_EMPLOI\",\"COUPL_LOG\",\"DEMNE\",\"DIP7\",\"DISPONE\",\"DISPPLC\",\"ENFRED\",\"EXTRIAN\",\"HALOR\",\"HEFFEMP\",\"HEFFTOT\",\n",
    "           \"HHABEMP\",\"HHABTOT\",\"METRODOM\",\"MRANE\",\"MRBNE\",\"MRCNE\",\"MRDNE\",\"MRENE\",\"MRFNE\",\"MRGNE\",\"MRHNE\",\"MRINE\",\"MRJNE\",\"NAFANTG004N\",\"NAFG004UN\",\"NAFG010UN\",\"NAFG017UN\",\n",
    "           \"NAFG021UN\",\"NOI\",\"OFFICC\",\"PASTRA\",\"PASTRB\",\"PCS1\",\"PCS1Q\",\"PUB3FP\",\"RABS\",\"RAISDISPPLC\",\"RAISNDISPONE\",\"RAISNRECNE\",\"RAISNSOUNE\",\"RAISTP\",\"RECNE\",\"SALTYP\",\"SEXE\",\n",
    "           \"SOU_C\",\"SOUSEMPL\",\"SOUSEMPLR\",\"STATUT\",\"STATUTDET\",\"STC\",\"STCOMM2020\",\"STPLC\",\"TEMP\",\"TPPRED\",\"TRAREF\",\"TXTPPRED\",\"TYPLOG5\"]\n",
    "\n",
    "fac_puf71 = [\"AAC\",\"ACTEU\",\"AGE6\",\"ANCCHOM\",\"ANCEMPL4\",\"ANCSSEMP\",\"CHPUB\",\"CL_EMPLOI\",\"COUPL_LOG\",\"DEMNE\",\"DIP7\",\"DISPONE\",\"DISPPLC\",\"ENFRED\",\"HALOR\",\"IDENT\",\"ISCO2\",\"METRODOM\",\"MRANE\",\"MRBNE\",\"MRCNE\",\"MRDNE\",\"MRENE\",\"MRFNE\",\"MRGNE\",\"MRHNE\",\"MRINE\",\"MRJNE\",\"NAFANTG004N\",\"NAFANTG088N\",\"NAFG004UN\",\"NAFG010UN\",\"NAFG017UN\",\n",
    "           \"NAFG021UN\",\"NAFG038UN\",\"NAFG088UN\",\"NOI\",\"OFFICC\",\"PASTRA\",\"PASTRB\",\"PCS1\",\"PCS1Q\",\"PCS2\",\"PUB3FP\",\"RABS\",\"RAISDISPPLC\",\"RAISNDISPONE\",\"RAISNRECNE\",\"RAISNSOUNE\",\"RAISTP\",\"RECNE\",\"SALTYP\",\"SEXE\",\n",
    "           \"SOU_C\",\"SOUSEMPL\",\"SOUSEMPLR\",\"STATUT\",\"STATUTDET\",\"STC\",\"STCOMM2020\",\"STPLC\",\"TEMP\",\"TPPRED\",\"TRAREF\",\"TXTPPRED\",\"TYPLOG5\"]\n",
    "\n",
    "var_puf71 = [\"AAC\",\"ACTEU\",\"AGE6\",\"ANCCHOM\",\"ANCEMPL4\",\"ANCSSEMP\",\"CHPUB\",\"CL_EMPLOI\",\"COUPL_LOG\",\"DEMNE\",\"DIP7\",\"DISPONE\",\"DISPPLC\",\"ENFRED\",\"EXTRIAN\",\"HALOR\",\"HEFFEMP\",\"HEFFTOT\",\n",
    "           \"HHABEMP\",\"HHABTOT\",\"IDENT\",\"ISCO2\",\"METRODOM\",\"MRANE\",\"MRBNE\",\"MRCNE\",\"MRDNE\",\"MRENE\",\"MRFNE\",\"MRGNE\",\"MRHNE\",\"MRINE\",\"MRJNE\",\"NAFANTG004N\",\"NAFANTG088N\",\"NAFG004UN\",\"NAFG010UN\",\"NAFG017UN\",\n",
    "           \"NAFG021UN\",\"NAFG038UN\",\"NAFG088UN\",\"NOI\",\"OFFICC\",\"PASTRA\",\"PASTRB\",\"PCS1\",\"PCS1Q\",\"PCS2\",\"PUB3FP\",\"RABS\",\"RAISDISPPLC\",\"RAISNDISPONE\",\"RAISNRECNE\",\"RAISNSOUNE\",\"RAISTP\",\"RECNE\",\"SALTYP\",\"SEXE\",\n",
    "           \"SOU_C\",\"SOUSEMPL\",\"SOUSEMPLR\",\"STATUT\",\"STATUTDET\",\"STC\",\"STCOMM2020\",\"STPLC\",\"TEMP\",\"TPPRED\",\"TRAREF\",\"TXTPPRED\",\"TYPLOG5\"]\n",
    "\n",
    "\n",
    "original = pd.read_csv('SDV/df_original.csv', names = variables)\n",
    "puf65 = pd.read_csv('TableEvaluator/puf.csv', names = var_puf65)\n"
   ]
  },
  {
   "cell_type": "markdown",
   "id": "eb1d15be-4cf7-4a58-9bad-73a6636533e4",
   "metadata": {},
   "source": [
    "# Metadata"
   ]
  },
  {
   "cell_type": "code",
   "execution_count": 3,
   "id": "82640b26-4913-428f-b7ba-8afb61157d83",
   "metadata": {},
   "outputs": [],
   "source": [
    "metadata = SingleTableMetadata()\n",
    "metadata.detect_from_dataframe(puf65)"
   ]
  },
  {
   "cell_type": "markdown",
   "id": "367fd5cf-3e4a-478b-927b-fc236b76dc2a",
   "metadata": {},
   "source": [
    "# Simulations"
   ]
  },
  {
   "cell_type": "code",
   "execution_count": 4,
   "id": "2c10eaaa-bc3b-4504-86f6-927ec7708020",
   "metadata": {},
   "outputs": [],
   "source": [
    "import itertools\n",
    "import yaml\n",
    "from yaml.loader import SafeLoader\n",
    "import mlflow\n",
    "import mlflow.pyfunc\n",
    "import joblib"
   ]
  },
  {
   "cell_type": "code",
   "execution_count": null,
   "id": "a36de170-2716-4b92-b730-d6c426a72411",
   "metadata": {},
   "outputs": [
    {
     "name": "stderr",
     "output_type": "stream",
     "text": [
      "/opt/conda/lib/python3.12/site-packages/sdv/single_table/base.py:92: UserWarning: We strongly recommend saving the metadata using 'save_to_json' for replicability in future SDV versions.\n",
      "  warnings.warn(\n",
      "Loss: 31.427:  11%|█▏        | 34/300 [19:16<2:56:35, 39.83s/it]"
     ]
    }
   ],
   "source": [
    "with open(\"SDV/config.yml\") as f:\n",
    "    config = yaml.load(f, Loader=SafeLoader)\n",
    "\n",
    "class TVAEWrapper(mlflow.pyfunc.PythonModel):\n",
    "    def __init__(self):\n",
    "        self.model = None\n",
    "\n",
    "    def load_context(self, context):\n",
    "        self.model = joblib.load(context.artifacts[\"model_path\"])\n",
    "\n",
    "    def predict(self, context, model_input):\n",
    "        return self.model.sample(len(model_input))\n",
    "\n",
    "remote_server_uri = os.environ[\"MLFLOW_TRACKING_URI\"]\n",
    "experiment_name = 'Default'\n",
    "run_name = 'sim_puf_tvae'\n",
    "\n",
    "mlflow.set_tracking_uri(remote_server_uri)\n",
    "mlflow.set_experiment(experiment_name)\n",
    "\n",
    "for i in range(20):\n",
    "    with mlflow.start_run(run_name=run_name):\n",
    "        mlflow.log_param('run_name', run_name)\n",
    "    \n",
    "        #Entraînement\n",
    "        start_time = time.time()\n",
    "        tvae = TVAESynthesizer(metadata, verbose=True)\n",
    "        tvae.fit(puf65)\n",
    "        end_time = time.time()\n",
    "        \n",
    "        elapsed_time = end_time - start_time\n",
    "        mlflow.log_metric(\"elapsed_time\", elapsed_time)\n",
    "        print(f\"Temps pris entraîner le modèle : {elapsed_time} secondes\")\n",
    "    \n",
    "        puf65_tvae.to_csv(f\"SDV/puf65_tvae_{i}.csv\")\n",
    "        \n",
    "        params_tvae = tvae.get_parameters()\n",
    "    \n",
    "        # Log des paramètres du modèle\n",
    "        for param_key, param_value in params_tvae.items():\n",
    "            with mlflow.start_run(nested=True):\n",
    "                mlflow.log_param(param_key, param_value)\n",
    "    \n",
    "        loss = tvae.get_loss_values()\n",
    "        losses = loss['Loss'].tolist()\n",
    "        for epoch, loss in enumerate(losses):\n",
    "            mlflow.log_metric(\"loss\", loss, step=epoch)\n",
    "    \n",
    "        model_path = \"tvae_model.pkl\"\n",
    "        joblib.dump(tvae, model_path)\n",
    "        mlflow.pyfunc.log_model(\n",
    "            artifact_path=\"tvae_model\",\n",
    "            python_model=TVAEWrapper(),\n",
    "            artifacts={\"model_path\": model_path},\n",
    "        )\n",
    "    mlflow.end_run()"
   ]
  }
 ],
 "metadata": {
  "kernelspec": {
   "display_name": "Python 3 (ipykernel)",
   "language": "python",
   "name": "python3"
  },
  "language_info": {
   "codemirror_mode": {
    "name": "ipython",
    "version": 3
   },
   "file_extension": ".py",
   "mimetype": "text/x-python",
   "name": "python",
   "nbconvert_exporter": "python",
   "pygments_lexer": "ipython3",
   "version": "3.12.4"
  }
 },
 "nbformat": 4,
 "nbformat_minor": 5
}
