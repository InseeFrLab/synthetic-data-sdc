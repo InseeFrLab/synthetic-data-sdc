{
 "cells": [
  {
   "cell_type": "markdown",
   "id": "ac27406e-c111-4fa9-b881-350e5c336fa3",
   "metadata": {},
   "source": [
    "## Données"
   ]
  },
  {
   "cell_type": "code",
   "execution_count": 9,
   "id": "d03802a3-8f34-40da-95c4-440d150135e5",
   "metadata": {},
   "outputs": [],
   "source": [
    "import pandas as pd\n",
    "\n",
    "variables = ['sex','age','agegr','placesize','edu','socprof','marital','ls','depress','trust','trustfam','trustneigh','sport','nofriend','smoke','alcabuse','alcsol','wkabint','englang','height','weight','bmi']\n",
    "original = pd.read_csv('SDV/df_original.csv', names = variables)\n",
    "sample = pd.read_csv('SDV/df1_sample.csv', names = variables)\n",
    "cart = pd.read_csv('SDV/df1_cart.csv', names = variables)\n",
    "ctree = pd.read_csv('SDV/df1_ctree.csv', names = variables)\n",
    "parametric = pd.read_csv('SDV/df1_parametric.csv', names = variables)\n",
    "rf = pd.read_csv('SDV/df1_rf.csv', names = variables)\n",
    "bag = pd.read_csv('SDV/df1_bag.csv', names = variables)"
   ]
  },
  {
   "cell_type": "code",
   "execution_count": 28,
   "id": "6c81aed8-e221-4946-b0af-b2c157ec09b9",
   "metadata": {},
   "outputs": [
    {
     "data": {
      "text/plain": [
       "4603"
      ]
     },
     "execution_count": 28,
     "metadata": {},
     "output_type": "execute_result"
    }
   ],
   "source": [
    "original.head()"
   ]
  },
  {
   "cell_type": "markdown",
   "id": "9d454867-a908-40bc-a4fa-442211614283",
   "metadata": {},
   "source": [
    "## Génération des données"
   ]
  },
  {
   "cell_type": "code",
   "execution_count": 39,
   "id": "2d3d0369-3617-4c36-aecd-681498a36656",
   "metadata": {},
   "outputs": [
    {
     "name": "stdout",
     "output_type": "stream",
     "text": [
      "Temps pris pour générer les données synthétiques : 39.928112268447876 secondes\n"
     ]
    }
   ],
   "source": [
    "import time\n",
    "from ctgan import CTGAN\n",
    "\n",
    "num = ['age', 'depress', 'nofriend', 'height', 'weight', 'bmi']\n",
    "fac = ['sex', 'agegr', 'placesize', 'edu', 'socprof', 'marital',\n",
    "       'ls', 'trust', 'trustfam', 'trustneigh', 'sport', 'smoke',\n",
    "       'alcabuse', 'alcsol', 'wkabint', 'englang']\n",
    "\n",
    "ctgan = CTGAN(epochs = 10)\n",
    "ctgan.fit(original, fac)\n",
    "\n",
    "start_time = time.time()\n",
    "synthetic_data = ctgan.sample(len(original))\n",
    "end_time = time.time()\n",
    "\n",
    "elapsed_time = end_time - start_time\n",
    "print(f\"Temps pris pour générer les données synthétiques : {elapsed_time} secondes\")\n"
   ]
  },
  {
   "cell_type": "markdown",
   "id": "ed9368e6-1c79-498c-8f6d-fc056e18de9e",
   "metadata": {},
   "source": [
    "## Diagnostique"
   ]
  },
  {
   "cell_type": "markdown",
   "id": "d19249b5-3579-47c1-9b83-a76f332924b3",
   "metadata": {},
   "source": [
    "### Risque"
   ]
  },
  {
   "cell_type": "code",
   "execution_count": 26,
   "id": "e74aed60-034e-4ed4-b750-3fd597ce1dfe",
   "metadata": {},
   "outputs": [
    {
     "ename": "TypeError",
     "evalue": "to_dict() takes from 1 to 2 positional arguments but 4 were given",
     "output_type": "error",
     "traceback": [
      "\u001b[0;31m---------------------------------------------------------------------------\u001b[0m",
      "\u001b[0;31mTypeError\u001b[0m                                 Traceback (most recent call last)",
      "\u001b[0;32m/tmp/ipykernel_2352/1149658405.py\u001b[0m in \u001b[0;36m?\u001b[0;34m()\u001b[0m\n\u001b[1;32m     26\u001b[0m         \u001b[0;34m\"bmi\"\u001b[0m\u001b[0;34m:\u001b[0m \u001b[0;34m{\u001b[0m\u001b[0;34m\"type\"\u001b[0m\u001b[0;34m:\u001b[0m \u001b[0;34m\"numerical\"\u001b[0m\u001b[0;34m}\u001b[0m\u001b[0;34m,\u001b[0m\u001b[0;34m\u001b[0m\u001b[0;34m\u001b[0m\u001b[0m\n\u001b[1;32m     27\u001b[0m     \u001b[0;34m}\u001b[0m\u001b[0;34m\u001b[0m\u001b[0;34m\u001b[0m\u001b[0m\n\u001b[1;32m     28\u001b[0m \u001b[0;34m}\u001b[0m\u001b[0;34m)\u001b[0m\u001b[0;34m\u001b[0m\u001b[0;34m\u001b[0m\u001b[0m\n\u001b[1;32m     29\u001b[0m \u001b[0;34m\u001b[0m\u001b[0m\n\u001b[0;32m---> 30\u001b[0;31m diagnostic = run_diagnostic(\n\u001b[0m\u001b[1;32m     31\u001b[0m     \u001b[0mreal_data\u001b[0m \u001b[0;34m=\u001b[0m \u001b[0moriginal\u001b[0m\u001b[0;34m,\u001b[0m\u001b[0;34m\u001b[0m\u001b[0;34m\u001b[0m\u001b[0m\n\u001b[1;32m     32\u001b[0m     \u001b[0msynthetic_data\u001b[0m \u001b[0;34m=\u001b[0m \u001b[0mcart\u001b[0m\u001b[0;34m,\u001b[0m\u001b[0;34m\u001b[0m\u001b[0;34m\u001b[0m\u001b[0m\n\u001b[1;32m     33\u001b[0m     \u001b[0mmetadata\u001b[0m \u001b[0;34m=\u001b[0m \u001b[0moriginal\u001b[0m\u001b[0;34m\u001b[0m\u001b[0;34m\u001b[0m\u001b[0m\n",
      "\u001b[0;32m/opt/mamba/lib/python3.12/site-packages/sdv/evaluation/single_table.py\u001b[0m in \u001b[0;36m?\u001b[0;34m(real_data, synthetic_data, metadata, verbose)\u001b[0m\n\u001b[1;32m     49\u001b[0m         \u001b[0mDiagnosticReport\u001b[0m\u001b[0;34m:\u001b[0m\u001b[0;34m\u001b[0m\u001b[0;34m\u001b[0m\u001b[0m\n\u001b[1;32m     50\u001b[0m             \u001b[0mSingle\u001b[0m \u001b[0mtable\u001b[0m \u001b[0mdiagnostic\u001b[0m \u001b[0mreport\u001b[0m \u001b[0mobject\u001b[0m\u001b[0;34m.\u001b[0m\u001b[0;34m\u001b[0m\u001b[0;34m\u001b[0m\u001b[0m\n\u001b[1;32m     51\u001b[0m     \"\"\"\n\u001b[1;32m     52\u001b[0m     \u001b[0mdiagnostic_report\u001b[0m \u001b[0;34m=\u001b[0m \u001b[0mDiagnosticReport\u001b[0m\u001b[0;34m(\u001b[0m\u001b[0;34m)\u001b[0m\u001b[0;34m\u001b[0m\u001b[0;34m\u001b[0m\u001b[0m\n\u001b[0;32m---> 53\u001b[0;31m     \u001b[0mdiagnostic_report\u001b[0m\u001b[0;34m.\u001b[0m\u001b[0mgenerate\u001b[0m\u001b[0;34m(\u001b[0m\u001b[0mreal_data\u001b[0m\u001b[0;34m,\u001b[0m \u001b[0msynthetic_data\u001b[0m\u001b[0;34m,\u001b[0m \u001b[0mmetadata\u001b[0m\u001b[0;34m.\u001b[0m\u001b[0mto_dict\u001b[0m\u001b[0;34m(\u001b[0m\u001b[0;34m)\u001b[0m\u001b[0;34m,\u001b[0m \u001b[0mverbose\u001b[0m\u001b[0;34m)\u001b[0m\u001b[0;34m\u001b[0m\u001b[0;34m\u001b[0m\u001b[0m\n\u001b[0m\u001b[1;32m     54\u001b[0m     \u001b[0;32mreturn\u001b[0m \u001b[0mdiagnostic_report\u001b[0m\u001b[0;34m\u001b[0m\u001b[0;34m\u001b[0m\u001b[0m\n",
      "\u001b[0;32m/opt/mamba/lib/python3.12/site-packages/pandas/core/frame.py\u001b[0m in \u001b[0;36m?\u001b[0;34m(self, orient, into, index)\u001b[0m\n\u001b[1;32m   1984\u001b[0m                 \u001b[0;34mf\"\u001b[0m\u001b[0;34mExpected 'index', 'columns' or 'tight' for orient parameter. \u001b[0m\u001b[0;34m\"\u001b[0m\u001b[0;34m\u001b[0m\u001b[0;34m\u001b[0m\u001b[0m\n\u001b[1;32m   1985\u001b[0m                 \u001b[0;34mf\"\u001b[0m\u001b[0;34mGot '\u001b[0m\u001b[0;34m{\u001b[0m\u001b[0morient\u001b[0m\u001b[0;34m}\u001b[0m\u001b[0;34m' instead\u001b[0m\u001b[0;34m\"\u001b[0m\u001b[0;34m\u001b[0m\u001b[0;34m\u001b[0m\u001b[0m\n\u001b[1;32m   1986\u001b[0m             \u001b[0;34m)\u001b[0m\u001b[0;34m\u001b[0m\u001b[0;34m\u001b[0m\u001b[0m\n\u001b[1;32m   1987\u001b[0m \u001b[0;34m\u001b[0m\u001b[0m\n\u001b[0;32m-> 1988\u001b[0;31m         \u001b[0;32mif\u001b[0m \u001b[0morient\u001b[0m \u001b[0;34m!=\u001b[0m \u001b[0;34m\"tight\"\u001b[0m\u001b[0;34m:\u001b[0m\u001b[0;34m\u001b[0m\u001b[0;34m\u001b[0m\u001b[0m\n\u001b[0m\u001b[1;32m   1989\u001b[0m             \u001b[0;32mreturn\u001b[0m \u001b[0mcls\u001b[0m\u001b[0;34m(\u001b[0m\u001b[0mdata\u001b[0m\u001b[0;34m,\u001b[0m \u001b[0mindex\u001b[0m\u001b[0;34m=\u001b[0m\u001b[0mindex\u001b[0m\u001b[0;34m,\u001b[0m \u001b[0mcolumns\u001b[0m\u001b[0;34m=\u001b[0m\u001b[0mcolumns\u001b[0m\u001b[0;34m,\u001b[0m \u001b[0mdtype\u001b[0m\u001b[0;34m=\u001b[0m\u001b[0mdtype\u001b[0m\u001b[0;34m)\u001b[0m\u001b[0;34m\u001b[0m\u001b[0;34m\u001b[0m\u001b[0m\n\u001b[1;32m   1990\u001b[0m         \u001b[0;32melse\u001b[0m\u001b[0;34m:\u001b[0m\u001b[0;34m\u001b[0m\u001b[0;34m\u001b[0m\u001b[0m\n\u001b[1;32m   1991\u001b[0m             \u001b[0mrealdata\u001b[0m \u001b[0;34m=\u001b[0m \u001b[0mdata\u001b[0m\u001b[0;34m[\u001b[0m\u001b[0;34m\"data\"\u001b[0m\u001b[0;34m]\u001b[0m\u001b[0;34m\u001b[0m\u001b[0;34m\u001b[0m\u001b[0m\n",
      "\u001b[0;31mTypeError\u001b[0m: to_dict() takes from 1 to 2 positional arguments but 4 were given"
     ]
    }
   ],
   "source": [
    "from sdv.evaluation.single_table import run_diagnostic\n",
    "\n",
    "metadata = pd.DataFrame({\n",
    "    \"columns\": {\n",
    "        \"sex\": {\"type\": \"categorical\"},\n",
    "        \"age\": {\"type\": \"numerical\"},\n",
    "        \"agegr\": {\"type\": \"categorical\"},\n",
    "        \"placesize\": {\"type\": \"categorical\"},\n",
    "        \"edu\": {\"type\": \"categorical\"},\n",
    "        \"socprof\": {\"type\": \"categorical\"},\n",
    "        \"marital\": {\"type\": \"categorical\"},\n",
    "        \"ls\": {\"type\": \"categorical\"},\n",
    "        \"depress\": {\"type\": \"numerical\"},\n",
    "        \"trust\": {\"type\": \"categorical\"},\n",
    "        \"trustfam\": {\"type\": \"categorical\"},\n",
    "        \"trustneigh\": {\"type\": \"categorical\"},\n",
    "        \"sport\": {\"type\": \"categorical\"},\n",
    "        \"nofriend\": {\"type\": \"numerical\"},\n",
    "        \"smoke\": {\"type\": \"categorical\"},\n",
    "        \"alcabuse\": {\"type\": \"categorical\"},\n",
    "        \"alcsol\": {\"type\": \"categorical\"},\n",
    "        \"wkabint\": {\"type\": \"categorical\"},\n",
    "        \"englang\": {\"type\": \"categorical\"},\n",
    "        \"height\": {\"type\": \"numerical\"},\n",
    "        \"weight\": {\"type\": \"numerical\"},\n",
    "        \"bmi\": {\"type\": \"numerical\"},\n",
    "    }\n",
    "})\n",
    "\n",
    "diagnostic = run_diagnostic(\n",
    "    real_data = original,\n",
    "    synthetic_data = cart,\n",
    "    metadata = original\n",
    ")"
   ]
  },
  {
   "cell_type": "markdown",
   "id": "139b819e-b954-4497-bdfd-8f213399bbef",
   "metadata": {},
   "source": [
    "### Utilité"
   ]
  },
  {
   "cell_type": "code",
   "execution_count": 94,
   "id": "27ae8497-7b6d-46be-8734-8276c69f9a19",
   "metadata": {},
   "outputs": [
    {
     "name": "stdout",
     "output_type": "stream",
     "text": [
      "Generating report ...\n",
      "\n",
      "(1/2) Evaluating Column Shapes: |██████████| 9/9 [00:00<00:00, 903.34it/s]|\n",
      "Column Shapes Score: 72.53%\n",
      "\n",
      "(2/2) Evaluating Column Pair Trends: |██████████| 36/36 [00:00<00:00, 231.14it/s]|\n",
      "Column Pair Trends Score: 72.95%\n",
      "\n",
      "Overall Score (Average): 72.74%\n",
      "\n"
     ]
    }
   ],
   "source": [
    "from sdv.evaluation.single_table import evaluate_quality\n",
    "\n",
    "quality_report = evaluate_quality(\n",
    "    real_data,\n",
    "    synthetic_data,\n",
    "    metadata\n",
    ")"
   ]
  },
  {
   "cell_type": "markdown",
   "id": "8c7ca67a-61ed-496b-8dbd-a2a0536442b7",
   "metadata": {},
   "source": [
    "## Graphiques"
   ]
  },
  {
   "cell_type": "code",
   "execution_count": 100,
   "id": "b5e48678-57d3-4bd7-b1e7-454dbf112058",
   "metadata": {},
   "outputs": [
    {
     "data": {
      "text/html": [
       "<iframe\n",
       "    scrolling=\"no\"\n",
       "    width=\"100%\"\n",
       "    height=\"545px\"\n",
       "    src=\"iframe_figures/figure_100.html\"\n",
       "    frameborder=\"0\"\n",
       "    allowfullscreen\n",
       "></iframe>\n"
      ]
     },
     "metadata": {},
     "output_type": "display_data"
    }
   ],
   "source": [
    "from sdv.evaluation.single_table import get_column_plot\n",
    "\n",
    "fig = get_column_plot(\n",
    "    real_data = real_data,\n",
    "    synthetic_data = synthetic_data,\n",
    "    column_name = 'room_type',\n",
    "    metadata = metadata\n",
    ")\n",
    "fig.show()"
   ]
  }
 ],
 "metadata": {
  "kernelspec": {
   "display_name": "Python 3 (ipykernel)",
   "language": "python",
   "name": "python3"
  },
  "language_info": {
   "codemirror_mode": {
    "name": "ipython",
    "version": 3
   },
   "file_extension": ".py",
   "mimetype": "text/x-python",
   "name": "python",
   "nbconvert_exporter": "python",
   "pygments_lexer": "ipython3",
   "version": "3.12.3"
  }
 },
 "nbformat": 4,
 "nbformat_minor": 5
}
