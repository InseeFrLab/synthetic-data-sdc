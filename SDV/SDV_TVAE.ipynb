{
 "cells": [
  {
   "cell_type": "code",
   "execution_count": null,
   "id": "9a178919-4e39-4628-8267-3bdf24589933",
   "metadata": {},
   "outputs": [],
   "source": [
    "import pandas as pd\n",
    "import os\n",
    "import time\n",
    "import matplotlib.pyplot as plt\n",
    "import matplotlib\n",
    "import numpy as np\n",
    "from sdv.evaluation.single_table import run_diagnostic\n",
    "from sdv.metadata import SingleTableMetadata\n",
    "from sdv.single_table import TVAESynthesizer\n",
    "from sdv.metadata import SingleTableMetadata\n",
    "from sdv.evaluation.single_table import get_column_plot\n",
    "from sdv.evaluation.single_table import get_column_pair_plot\n",
    "from sdv.evaluation.single_table import evaluate_quality\n",
    "from sklearn.tree import DecisionTreeClassifier\n",
    "from sklearn.metrics import mean_squared_error\n",
    "from sklearn.model_selection import train_test_split\n",
    "\n",
    "os.chdir('/home/onyxia/work/synthetic-data-sdc/')\n",
    "os.environ[\"MLFLOW_TRACKING_URI\"] = \"https://projet-donnees-synthetiques-mlflow.user.lab.sspcloud.fr/\" "
   ]
  },
  {
   "cell_type": "code",
   "execution_count": 2,
   "id": "e1b0946b-cd6c-456c-bc96-3c3702cc6b8f",
   "metadata": {},
   "outputs": [],
   "source": [
    "variables = ['sex','age','agegr','placesize','edu','socprof','marital','ls','depress','trust','trustfam','trustneigh','sport','nofriend','smoke','alcabuse','alcsol','wkabint','englang','height','weight','bmi']\n",
    "original = pd.read_csv('SDV/df_original.csv', names = variables)\n",
    "sample = pd.read_csv('SDV/df1_sample.csv', names = variables)\n",
    "cart = pd.read_csv('SDV/df1_cart.csv', names = variables)\n",
    "ctree = pd.read_csv('SDV/df1_ctree.csv', names = variables)\n",
    "parametric = pd.read_csv('SDV/df1_parametric.csv', names = variables)\n",
    "rf = pd.read_csv('SDV/df1_rf.csv', names = variables)\n",
    "bag = pd.read_csv('SDV/df1_bag.csv', names = variables)"
   ]
  },
  {
   "cell_type": "code",
   "execution_count": 3,
   "id": "373a0e7c-fd8c-47e2-8215-9603e888ea35",
   "metadata": {},
   "outputs": [
    {
     "data": {
      "text/plain": [
       "{\n",
       "    \"METADATA_SPEC_VERSION\": \"SINGLE_TABLE_V1\",\n",
       "    \"columns\": {\n",
       "        \"sex\": {\n",
       "            \"sdtype\": \"categorical\"\n",
       "        },\n",
       "        \"age\": {\n",
       "            \"sdtype\": \"numerical\"\n",
       "        },\n",
       "        \"agegr\": {\n",
       "            \"sdtype\": \"categorical\"\n",
       "        },\n",
       "        \"placesize\": {\n",
       "            \"sdtype\": \"categorical\"\n",
       "        },\n",
       "        \"edu\": {\n",
       "            \"sdtype\": \"categorical\"\n",
       "        },\n",
       "        \"socprof\": {\n",
       "            \"sdtype\": \"categorical\"\n",
       "        },\n",
       "        \"marital\": {\n",
       "            \"sdtype\": \"categorical\"\n",
       "        },\n",
       "        \"ls\": {\n",
       "            \"sdtype\": \"categorical\"\n",
       "        },\n",
       "        \"depress\": {\n",
       "            \"sdtype\": \"numerical\"\n",
       "        },\n",
       "        \"trust\": {\n",
       "            \"sdtype\": \"categorical\"\n",
       "        },\n",
       "        \"trustfam\": {\n",
       "            \"sdtype\": \"categorical\"\n",
       "        },\n",
       "        \"trustneigh\": {\n",
       "            \"sdtype\": \"categorical\"\n",
       "        },\n",
       "        \"sport\": {\n",
       "            \"sdtype\": \"categorical\"\n",
       "        },\n",
       "        \"nofriend\": {\n",
       "            \"sdtype\": \"numerical\"\n",
       "        },\n",
       "        \"smoke\": {\n",
       "            \"sdtype\": \"categorical\"\n",
       "        },\n",
       "        \"alcabuse\": {\n",
       "            \"sdtype\": \"categorical\"\n",
       "        },\n",
       "        \"alcsol\": {\n",
       "            \"sdtype\": \"categorical\"\n",
       "        },\n",
       "        \"wkabint\": {\n",
       "            \"sdtype\": \"categorical\"\n",
       "        },\n",
       "        \"englang\": {\n",
       "            \"sdtype\": \"categorical\"\n",
       "        },\n",
       "        \"height\": {\n",
       "            \"sdtype\": \"numerical\"\n",
       "        },\n",
       "        \"weight\": {\n",
       "            \"sdtype\": \"numerical\"\n",
       "        },\n",
       "        \"bmi\": {\n",
       "            \"sdtype\": \"numerical\"\n",
       "        }\n",
       "    }\n",
       "}"
      ]
     },
     "execution_count": 3,
     "metadata": {},
     "output_type": "execute_result"
    }
   ],
   "source": [
    "metadata = SingleTableMetadata()\n",
    "metadata.detect_from_dataframe(original)\n",
    "metadata"
   ]
  },
  {
   "cell_type": "code",
   "execution_count": 6,
   "id": "40c287a9-d5a2-4020-b12d-c8e815ed3a61",
   "metadata": {},
   "outputs": [
    {
     "name": "stderr",
     "output_type": "stream",
     "text": [
      "Loss: 16.792: 100%|██████████| 300/300 [21:22<00:00,  4.27s/it] \n"
     ]
    },
    {
     "name": "stdout",
     "output_type": "stream",
     "text": [
      "Temps pris pour entraîner le modèle : 1296.561350107193 secondes\n",
      "Temps pris pour générer les données : 0.6361339092254639 secondes\n"
     ]
    }
   ],
   "source": [
    "synthesizer = TVAESynthesizer(metadata, verbose=True)\n",
    "start_time = time.time()\n",
    "synthesizer.fit(original)\n",
    "end_time = time.time()\n",
    "elapsed_time = end_time - start_time\n",
    "\n",
    "start_time1 = time.time()\n",
    "synthetic_data = synthesizer.sample(num_rows=len(original))\n",
    "end_time1 = time.time()\n",
    "elapsed_time1 = end_time1 - start_time1\n",
    "\n",
    "\n",
    "\n",
    "print(f\"Temps pris pour entraîner le modèle : {elapsed_time} secondes\")\n",
    "print(f\"Temps pris pour générer les données : {elapsed_time1} secondes\")"
   ]
  },
  {
   "cell_type": "code",
   "execution_count": 8,
   "id": "854b5107-7346-40b2-9765-d2fb6c630ceb",
   "metadata": {},
   "outputs": [],
   "source": [
    "synthetic_data.to_csv(\"tvae.csv\")"
   ]
  },
  {
   "cell_type": "markdown",
   "id": "ccd1ef14-1624-4ebb-85ed-dbfb1b4e5cc7",
   "metadata": {},
   "source": [
    "## Hyperparamètres"
   ]
  },
  {
   "cell_type": "markdown",
   "id": "36feeb50-9ab8-4215-a1f8-65906419fdfe",
   "metadata": {},
   "source": [
    "- **epochs** et **batch_size** : ces arguments contrôlent le nombre d'itérations que le modèle effectuera pour optimiser ses paramètres, ainsi que le nombre d'échantillons utilisés à chaque étape. Ses valeurs par défaut sont respectivement 300 et 500, et **batch_size doit toujours être une valeur multiple de 10**. Ces hyperparamètres ont un effet très direct sur la durée du processus de formation, mais également sur les performances des données. Ainsi, pour les nouveaux ensembles de données, vous souhaiterez peut-être commencer par définir une valeur faible sur les deux pour voir combien de temps prend le processus de formation. vos données et plus tard, augmentez le nombre à des valeurs acceptables afin d'améliorer les performances.\n",
    "\n",
    "- **log_frequency** : s'il faut utiliser la log fréquence des modalités catégorieles dans l'échantillonnage conditionnel. La valeur par défaut est True. Cet argument affecte la manière dont le modèle traite les fréquences des valeurs catégorielles utilisées pour conditionner le reste des valeurs. Dans certains cas, le remplacer par False pourrait entraîner de meilleures performances.\n",
    "\n",
    "- **embedding_dim (int)** : taille de l'échantillon aléatoire transmis au générateur. La valeur par défaut est 128.\n",
    "\n",
    "- **compress_dims (tuple ou liste d'entiers)** : taille de chaque couche cachée dans l'encodeur. La valeur par défaut est (128, 128).\n",
    "\n",
    "- **decompress_dims (tuple ou liste d'entiers)** : Taille de chaque couche cachée dans le décodeur. La valeur par défaut est (128, 128).\n",
    "\n",
    "- **l2scale (int)** : terme de régularisation. La valeur par défaut est 1e-5.\n",
    "\n",
    "- **batch_size (int)** : nombre d'échantillons de données à traiter à chaque étape.\n",
    "\n",
    "- **loss_factor (int)** : Multiplicateur de l'erreur de reconstruction. La valeur par défaut est 2.\n",
    "\n",
    "- **cuda (bool ou str)** : si True, utilisez CUDA. S'il s'agit d'une str, utilisez l'appareil indiqué. Si False, n’utilisez pas du tout cuda."
   ]
  },
  {
   "cell_type": "code",
   "execution_count": 25,
   "id": "e20b4e35-109a-4f28-9b62-32da6b2ec65b",
   "metadata": {},
   "outputs": [
    {
     "name": "stderr",
     "output_type": "stream",
     "text": [
      "Loss: 26.032: 100%|██████████| 300/300 [25:03<00:00,  5.01s/it]\n"
     ]
    },
    {
     "name": "stdout",
     "output_type": "stream",
     "text": [
      "Temps pris entraîner le modèle : 1510.1384444236755 secondes\n"
     ]
    },
    {
     "data": {
      "application/vnd.jupyter.widget-view+json": {
       "model_id": "4723497ffb4b48fc8d1f6785cd35630c",
       "version_major": 2,
       "version_minor": 0
      },
      "text/plain": [
       "Downloading artifacts:   0%|          | 0/1 [00:00<?, ?it/s]"
      ]
     },
     "metadata": {},
     "output_type": "display_data"
    }
   ],
   "source": [
    "with open(\"SDV/config_tvae.yml\") as f:\n",
    "    config = yaml.load(f, Loader=SafeLoader)\n",
    "\n",
    "class TVAEWrapper(mlflow.pyfunc.PythonModel):\n",
    "    def __init__(self):\n",
    "        self.model = None\n",
    "\n",
    "    def load_context(self, context):\n",
    "        self.model = joblib.load(context.artifacts[\"model_path\"])\n",
    "\n",
    "    def predict(self, context, model_input):\n",
    "        return self.model.sample(len(model_input))\n",
    "\n",
    "remote_server_uri = os.environ[\"MLFLOW_TRACKING_URI\"]\n",
    "experiment_name = 'Default'\n",
    "run_name = 'tvae_bs_10_comp_256_256_decomp_256_256'\n",
    "\n",
    "mlflow.set_tracking_uri(remote_server_uri)\n",
    "mlflow.set_experiment(experiment_name)\n",
    "\n",
    "with mlflow.start_run(run_name=run_name):\n",
    "    for param_key, param_value in config.items():\n",
    "        if param_key != 'mlflow':\n",
    "            mlflow.log_param(param_key, param_value)\n",
    "    mlflow.log_param('run_name', run_name)\n",
    "\n",
    "    #Entraînement\n",
    "    start_time = time.time()\n",
    "    tvae = TVAESynthesizer(metadata,\n",
    "                           verbose=True,\n",
    "                           compress_dims=[1024,1024,1024,1024],\n",
    "                           decompress_dims=[1024,1024,1024,1024],\n",
    "                           batch_size=100)\n",
    "    tvae.fit(original)\n",
    "    end_time = time.time()\n",
    "    \n",
    "    elapsed_time = end_time - start_time\n",
    "    mlflow.log_metric(\"elapsed_time\", elapsed_time)\n",
    "    print(f\"Temps pris entraîner le modèle : {elapsed_time} secondes\")\n",
    "    \n",
    "    params_tvae = tvae.get_parameters()\n",
    "\n",
    "    # Log des paramètres du modèle\n",
    "    for param_key, param_value in params_tvae.items():\n",
    "        with mlflow.start_run(nested=True):\n",
    "            mlflow.log_param(param_key, param_value)\n",
    "\n",
    "    loss = tvae.get_loss_values()\n",
    "    losses = loss['Loss'].tolist()\n",
    "    for epoch, loss in enumerate(losses):\n",
    "        mlflow.log_metric(\"loss\", loss, step=epoch)\n",
    "\n",
    "    model_path = \"tvae_model.pkl\"\n",
    "    joblib.dump(tvae, model_path)\n",
    "    mlflow.pyfunc.log_model(\n",
    "        artifact_path=\"tvae_model\",\n",
    "        python_model=TVAEWrapper(),\n",
    "        artifacts={\"model_path\": model_path},\n",
    "    )\n",
    "mlflow.end_run()"
   ]
  },
  {
   "cell_type": "code",
   "execution_count": 15,
   "id": "82274ea5-0626-48bb-b2af-203fe9bc5745",
   "metadata": {},
   "outputs": [
    {
     "data": {
      "text/plain": [
       "{'enforce_min_max_values': True,\n",
       " 'enforce_rounding': True,\n",
       " 'embedding_dim': 128,\n",
       " 'compress_dims': (128, 128),\n",
       " 'decompress_dims': (128, 128),\n",
       " 'l2scale': 1e-05,\n",
       " 'batch_size': 500,\n",
       " 'verbose': True,\n",
       " 'epochs': 500,\n",
       " 'loss_factor': 2,\n",
       " 'cuda': True}"
      ]
     },
     "execution_count": 15,
     "metadata": {},
     "output_type": "execute_result"
    }
   ],
   "source": [
    "tvae.get_parameters()"
   ]
  },
  {
   "cell_type": "markdown",
   "id": "fabd867d-3325-4f7f-b66c-6f683c2eac95",
   "metadata": {},
   "source": [
    "## Grid search"
   ]
  },
  {
   "cell_type": "code",
   "execution_count": null,
   "id": "02fe661e-0ec1-4c10-a69d-658413b54a6e",
   "metadata": {},
   "outputs": [
    {
     "name": "stderr",
     "output_type": "stream",
     "text": [
      "Loss: 26.079: 100%|██████████| 300/300 [01:14<00:00,  4.05it/s]\n"
     ]
    },
    {
     "name": "stdout",
     "output_type": "stream",
     "text": [
      "Temps pris pour entraîner le modèle avec 300 epochs: 79.12482929229736 secondes\n"
     ]
    },
    {
     "data": {
      "application/vnd.jupyter.widget-view+json": {
       "model_id": "233890a9b248489c87d941a778c521c1",
       "version_major": 2,
       "version_minor": 0
      },
      "text/plain": [
       "Downloading artifacts:   0%|          | 0/1 [00:00<?, ?it/s]"
      ]
     },
     "metadata": {},
     "output_type": "display_data"
    },
    {
     "name": "stderr",
     "output_type": "stream",
     "text": [
      "Loss: 24.231: 100%|██████████| 300/300 [01:50<00:00,  2.71it/s]\n"
     ]
    },
    {
     "name": "stdout",
     "output_type": "stream",
     "text": [
      "Temps pris pour entraîner le modèle avec 300 epochs: 115.26674246788025 secondes\n"
     ]
    },
    {
     "data": {
      "application/vnd.jupyter.widget-view+json": {
       "model_id": "63eb523216d843b7a7752efebf519f60",
       "version_major": 2,
       "version_minor": 0
      },
      "text/plain": [
       "Downloading artifacts:   0%|          | 0/1 [00:00<?, ?it/s]"
      ]
     },
     "metadata": {},
     "output_type": "display_data"
    },
    {
     "name": "stderr",
     "output_type": "stream",
     "text": [
      "Loss: 18.282: 100%|██████████| 300/300 [07:51<00:00,  1.57s/it]\n"
     ]
    },
    {
     "name": "stdout",
     "output_type": "stream",
     "text": [
      "Temps pris pour entraîner le modèle avec 300 epochs: 473.8052124977112 secondes\n"
     ]
    },
    {
     "data": {
      "application/vnd.jupyter.widget-view+json": {
       "model_id": "ad9797f583a04013b138dc3d8102af38",
       "version_major": 2,
       "version_minor": 0
      },
      "text/plain": [
       "Downloading artifacts:   0%|          | 0/1 [00:00<?, ?it/s]"
      ]
     },
     "metadata": {},
     "output_type": "display_data"
    },
    {
     "name": "stderr",
     "output_type": "stream",
     "text": [
      "Loss: 26.965: 100%|██████████| 300/300 [01:08<00:00,  4.36it/s]\n"
     ]
    },
    {
     "name": "stdout",
     "output_type": "stream",
     "text": [
      "Temps pris pour entraîner le modèle avec 300 epochs: 73.23221015930176 secondes\n"
     ]
    },
    {
     "data": {
      "application/vnd.jupyter.widget-view+json": {
       "model_id": "6d30624719f54be58c4696afe151da8f",
       "version_major": 2,
       "version_minor": 0
      },
      "text/plain": [
       "Downloading artifacts:   0%|          | 0/1 [00:00<?, ?it/s]"
      ]
     },
     "metadata": {},
     "output_type": "display_data"
    },
    {
     "name": "stderr",
     "output_type": "stream",
     "text": [
      "Loss: 23.016: 100%|██████████| 300/300 [01:47<00:00,  2.79it/s]\n"
     ]
    },
    {
     "name": "stdout",
     "output_type": "stream",
     "text": [
      "Temps pris pour entraîner le modèle avec 300 epochs: 111.68123292922974 secondes\n"
     ]
    },
    {
     "data": {
      "application/vnd.jupyter.widget-view+json": {
       "model_id": "cab76a5931dd41eca3a97f2c34a6c03f",
       "version_major": 2,
       "version_minor": 0
      },
      "text/plain": [
       "Downloading artifacts:   0%|          | 0/1 [00:00<?, ?it/s]"
      ]
     },
     "metadata": {},
     "output_type": "display_data"
    },
    {
     "name": "stderr",
     "output_type": "stream",
     "text": [
      "Loss: 28.752: 100%|██████████| 300/300 [04:56<00:00,  1.01it/s]\n"
     ]
    },
    {
     "name": "stdout",
     "output_type": "stream",
     "text": [
      "Temps pris pour entraîner le modèle avec 300 epochs: 298.7515199184418 secondes\n"
     ]
    },
    {
     "data": {
      "application/vnd.jupyter.widget-view+json": {
       "model_id": "007c4f6a9acf4b5c81fb7d6d03ae9ffb",
       "version_major": 2,
       "version_minor": 0
      },
      "text/plain": [
       "Downloading artifacts:   0%|          | 0/1 [00:00<?, ?it/s]"
      ]
     },
     "metadata": {},
     "output_type": "display_data"
    },
    {
     "name": "stderr",
     "output_type": "stream",
     "text": [
      "Loss: 26.560: 100%|██████████| 300/300 [01:12<00:00,  4.16it/s]\n"
     ]
    },
    {
     "name": "stdout",
     "output_type": "stream",
     "text": [
      "Temps pris pour entraîner le modèle avec 300 epochs: 77.18613266944885 secondes\n"
     ]
    },
    {
     "data": {
      "application/vnd.jupyter.widget-view+json": {
       "model_id": "85706f542cb54d3398406f701aad6394",
       "version_major": 2,
       "version_minor": 0
      },
      "text/plain": [
       "Downloading artifacts:   0%|          | 0/1 [00:00<?, ?it/s]"
      ]
     },
     "metadata": {},
     "output_type": "display_data"
    },
    {
     "name": "stderr",
     "output_type": "stream",
     "text": [
      "Loss: 20.089: 100%|██████████| 300/300 [01:53<00:00,  2.64it/s]\n"
     ]
    },
    {
     "name": "stdout",
     "output_type": "stream",
     "text": [
      "Temps pris pour entraîner le modèle avec 300 epochs: 117.77101707458496 secondes\n"
     ]
    },
    {
     "data": {
      "application/vnd.jupyter.widget-view+json": {
       "model_id": "df0dc66cd8de4684b4173f3e89c11b32",
       "version_major": 2,
       "version_minor": 0
      },
      "text/plain": [
       "Downloading artifacts:   0%|          | 0/1 [00:00<?, ?it/s]"
      ]
     },
     "metadata": {},
     "output_type": "display_data"
    },
    {
     "name": "stderr",
     "output_type": "stream",
     "text": [
      "Loss: 22.261: 100%|██████████| 300/300 [11:57<00:00,  2.39s/it]\n"
     ]
    },
    {
     "name": "stdout",
     "output_type": "stream",
     "text": [
      "Temps pris pour entraîner le modèle avec 300 epochs: 719.5875782966614 secondes\n"
     ]
    },
    {
     "data": {
      "application/vnd.jupyter.widget-view+json": {
       "model_id": "0dc120f97df84c1cae35d4d4abf8799a",
       "version_major": 2,
       "version_minor": 0
      },
      "text/plain": [
       "Downloading artifacts:   0%|          | 0/1 [00:00<?, ?it/s]"
      ]
     },
     "metadata": {},
     "output_type": "display_data"
    },
    {
     "name": "stderr",
     "output_type": "stream",
     "text": [
      "Loss: 27.760: 100%|██████████| 300/300 [01:20<00:00,  3.71it/s]\n"
     ]
    },
    {
     "name": "stdout",
     "output_type": "stream",
     "text": [
      "Temps pris pour entraîner le modèle avec 300 epochs: 86.1658833026886 secondes\n"
     ]
    },
    {
     "data": {
      "application/vnd.jupyter.widget-view+json": {
       "model_id": "0cb2efdf10c3423294a8822146321478",
       "version_major": 2,
       "version_minor": 0
      },
      "text/plain": [
       "Downloading artifacts:   0%|          | 0/1 [00:00<?, ?it/s]"
      ]
     },
     "metadata": {},
     "output_type": "display_data"
    },
    {
     "name": "stderr",
     "output_type": "stream",
     "text": [
      "Loss: 28.326: 100%|██████████| 300/300 [01:52<00:00,  2.68it/s]\n"
     ]
    },
    {
     "name": "stdout",
     "output_type": "stream",
     "text": [
      "Temps pris pour entraîner le modèle avec 300 epochs: 116.05274724960327 secondes\n"
     ]
    },
    {
     "data": {
      "application/vnd.jupyter.widget-view+json": {
       "model_id": "8ef1705ac56046dfa50a8ff98b9203c7",
       "version_major": 2,
       "version_minor": 0
      },
      "text/plain": [
       "Downloading artifacts:   0%|          | 0/1 [00:00<?, ?it/s]"
      ]
     },
     "metadata": {},
     "output_type": "display_data"
    },
    {
     "name": "stderr",
     "output_type": "stream",
     "text": [
      "Loss: 27.491: 100%|██████████| 300/300 [06:04<00:00,  1.21s/it]\n"
     ]
    },
    {
     "name": "stdout",
     "output_type": "stream",
     "text": [
      "Temps pris pour entraîner le modèle avec 300 epochs: 366.2767605781555 secondes\n"
     ]
    },
    {
     "data": {
      "application/vnd.jupyter.widget-view+json": {
       "model_id": "b518c7788d29454abf123effbf8a0779",
       "version_major": 2,
       "version_minor": 0
      },
      "text/plain": [
       "Downloading artifacts:   0%|          | 0/1 [00:00<?, ?it/s]"
      ]
     },
     "metadata": {},
     "output_type": "display_data"
    },
    {
     "name": "stderr",
     "output_type": "stream",
     "text": [
      "Loss: 21.600: 100%|██████████| 300/300 [01:21<00:00,  3.69it/s]\n"
     ]
    },
    {
     "name": "stdout",
     "output_type": "stream",
     "text": [
      "Temps pris pour entraîner le modèle avec 300 epochs: 87.3443648815155 secondes\n"
     ]
    },
    {
     "data": {
      "application/vnd.jupyter.widget-view+json": {
       "model_id": "29502c0c171a475f9f130605c851ad00",
       "version_major": 2,
       "version_minor": 0
      },
      "text/plain": [
       "Downloading artifacts:   0%|          | 0/1 [00:00<?, ?it/s]"
      ]
     },
     "metadata": {},
     "output_type": "display_data"
    },
    {
     "name": "stderr",
     "output_type": "stream",
     "text": [
      "Loss: 18.222: 100%|██████████| 300/300 [01:48<00:00,  2.76it/s]\n"
     ]
    },
    {
     "name": "stdout",
     "output_type": "stream",
     "text": [
      "Temps pris pour entraîner le modèle avec 300 epochs: 113.06883668899536 secondes\n"
     ]
    },
    {
     "data": {
      "application/vnd.jupyter.widget-view+json": {
       "model_id": "a046fb50e11740efb0679f967d09ac20",
       "version_major": 2,
       "version_minor": 0
      },
      "text/plain": [
       "Downloading artifacts:   0%|          | 0/1 [00:00<?, ?it/s]"
      ]
     },
     "metadata": {},
     "output_type": "display_data"
    },
    {
     "name": "stderr",
     "output_type": "stream",
     "text": [
      "Loss: 19.826: 100%|██████████| 300/300 [05:00<00:00,  1.00s/it]\n"
     ]
    },
    {
     "name": "stdout",
     "output_type": "stream",
     "text": [
      "Temps pris pour entraîner le modèle avec 300 epochs: 301.73604464530945 secondes\n"
     ]
    },
    {
     "data": {
      "application/vnd.jupyter.widget-view+json": {
       "model_id": "6727aff299fc45cb9b2996784da23e6e",
       "version_major": 2,
       "version_minor": 0
      },
      "text/plain": [
       "Downloading artifacts:   0%|          | 0/1 [00:00<?, ?it/s]"
      ]
     },
     "metadata": {},
     "output_type": "display_data"
    },
    {
     "name": "stderr",
     "output_type": "stream",
     "text": [
      "Loss: 19.865: 100%|██████████| 300/300 [01:15<00:00,  3.97it/s]\n"
     ]
    },
    {
     "name": "stdout",
     "output_type": "stream",
     "text": [
      "Temps pris pour entraîner le modèle avec 300 epochs: 80.91354966163635 secondes\n"
     ]
    },
    {
     "data": {
      "application/vnd.jupyter.widget-view+json": {
       "model_id": "48a0800471ea4e6fa0b77befb4f82086",
       "version_major": 2,
       "version_minor": 0
      },
      "text/plain": [
       "Downloading artifacts:   0%|          | 0/1 [00:00<?, ?it/s]"
      ]
     },
     "metadata": {},
     "output_type": "display_data"
    },
    {
     "name": "stderr",
     "output_type": "stream",
     "text": [
      "Loss: 14.283: 100%|██████████| 300/300 [01:47<00:00,  2.79it/s]\n"
     ]
    },
    {
     "name": "stdout",
     "output_type": "stream",
     "text": [
      "Temps pris pour entraîner le modèle avec 300 epochs: 111.89073777198792 secondes\n"
     ]
    },
    {
     "data": {
      "application/vnd.jupyter.widget-view+json": {
       "model_id": "4bffa60c5e6b4c02b8f491e968f22c43",
       "version_major": 2,
       "version_minor": 0
      },
      "text/plain": [
       "Downloading artifacts:   0%|          | 0/1 [00:00<?, ?it/s]"
      ]
     },
     "metadata": {},
     "output_type": "display_data"
    },
    {
     "name": "stderr",
     "output_type": "stream",
     "text": [
      "Loss: 12.317: 100%|██████████| 300/300 [04:54<00:00,  1.02it/s]\n"
     ]
    },
    {
     "name": "stdout",
     "output_type": "stream",
     "text": [
      "Temps pris pour entraîner le modèle avec 300 epochs: 296.9525349140167 secondes\n"
     ]
    },
    {
     "data": {
      "application/vnd.jupyter.widget-view+json": {
       "model_id": "0eb1e433711747b8b0cd38e4d35d1a02",
       "version_major": 2,
       "version_minor": 0
      },
      "text/plain": [
       "Downloading artifacts:   0%|          | 0/1 [00:00<?, ?it/s]"
      ]
     },
     "metadata": {},
     "output_type": "display_data"
    },
    {
     "name": "stderr",
     "output_type": "stream",
     "text": [
      "Loss: 19.018: 100%|██████████| 300/300 [03:37<00:00,  1.38it/s]\n"
     ]
    },
    {
     "name": "stdout",
     "output_type": "stream",
     "text": [
      "Temps pris pour entraîner le modèle avec 300 epochs: 222.67951130867004 secondes\n"
     ]
    },
    {
     "data": {
      "application/vnd.jupyter.widget-view+json": {
       "model_id": "63114e8fd7774c2e9e43929d19ffd059",
       "version_major": 2,
       "version_minor": 0
      },
      "text/plain": [
       "Downloading artifacts:   0%|          | 0/1 [00:00<?, ?it/s]"
      ]
     },
     "metadata": {},
     "output_type": "display_data"
    },
    {
     "name": "stderr",
     "output_type": "stream",
     "text": [
      "Loss: 12.336: 100%|██████████| 300/300 [09:50<00:00,  1.97s/it]\n"
     ]
    },
    {
     "name": "stdout",
     "output_type": "stream",
     "text": [
      "Temps pris pour entraîner le modèle avec 300 epochs: 595.3841769695282 secondes\n"
     ]
    },
    {
     "data": {
      "application/vnd.jupyter.widget-view+json": {
       "model_id": "8d0077100eed41d0842c6f3adc3f2528",
       "version_major": 2,
       "version_minor": 0
      },
      "text/plain": [
       "Downloading artifacts:   0%|          | 0/1 [00:00<?, ?it/s]"
      ]
     },
     "metadata": {},
     "output_type": "display_data"
    },
    {
     "name": "stderr",
     "output_type": "stream",
     "text": [
      "Loss: 15.094: 100%|██████████| 300/300 [05:35<00:00,  1.12s/it]\n"
     ]
    },
    {
     "name": "stdout",
     "output_type": "stream",
     "text": [
      "Temps pris pour entraîner le modèle avec 300 epochs: 340.5417742729187 secondes\n"
     ]
    },
    {
     "data": {
      "application/vnd.jupyter.widget-view+json": {
       "model_id": "7acf4d9fe8ce411381f8548bcd42af9e",
       "version_major": 2,
       "version_minor": 0
      },
      "text/plain": [
       "Downloading artifacts:   0%|          | 0/1 [00:00<?, ?it/s]"
      ]
     },
     "metadata": {},
     "output_type": "display_data"
    },
    {
     "name": "stderr",
     "output_type": "stream",
     "text": [
      "Loss: 24.683: 100%|██████████| 300/300 [01:13<00:00,  4.06it/s]\n"
     ]
    },
    {
     "name": "stdout",
     "output_type": "stream",
     "text": [
      "Temps pris pour entraîner le modèle avec 300 epochs: 79.32387375831604 secondes\n"
     ]
    },
    {
     "data": {
      "application/vnd.jupyter.widget-view+json": {
       "model_id": "7b3c15a9d46b476e8638650466a777a3",
       "version_major": 2,
       "version_minor": 0
      },
      "text/plain": [
       "Downloading artifacts:   0%|          | 0/1 [00:00<?, ?it/s]"
      ]
     },
     "metadata": {},
     "output_type": "display_data"
    },
    {
     "name": "stderr",
     "output_type": "stream",
     "text": [
      "Loss: 24.404: 100%|██████████| 300/300 [09:09<00:00,  1.83s/it]\n"
     ]
    },
    {
     "name": "stdout",
     "output_type": "stream",
     "text": [
      "Temps pris pour entraîner le modèle avec 300 epochs: 553.6137158870697 secondes\n"
     ]
    },
    {
     "data": {
      "application/vnd.jupyter.widget-view+json": {
       "model_id": "52fed702890f45f5bbff87f6703cbf17",
       "version_major": 2,
       "version_minor": 0
      },
      "text/plain": [
       "Downloading artifacts:   0%|          | 0/1 [00:00<?, ?it/s]"
      ]
     },
     "metadata": {},
     "output_type": "display_data"
    },
    {
     "name": "stderr",
     "output_type": "stream",
     "text": [
      "Loss: 31.945: 100%|██████████| 300/300 [17:43<00:00,  3.54s/it]\n"
     ]
    },
    {
     "name": "stdout",
     "output_type": "stream",
     "text": [
      "Temps pris pour entraîner le modèle avec 300 epochs: 1068.6984696388245 secondes\n"
     ]
    },
    {
     "data": {
      "application/vnd.jupyter.widget-view+json": {
       "model_id": "40fc75a63c114efe9e3bfd765b1ac3cb",
       "version_major": 2,
       "version_minor": 0
      },
      "text/plain": [
       "Downloading artifacts:   0%|          | 0/1 [00:00<?, ?it/s]"
      ]
     },
     "metadata": {},
     "output_type": "display_data"
    },
    {
     "name": "stderr",
     "output_type": "stream",
     "text": [
      "Loss: 18.695: 100%|██████████| 300/300 [01:18<00:00,  3.80it/s]\n"
     ]
    },
    {
     "name": "stdout",
     "output_type": "stream",
     "text": [
      "Temps pris pour entraîner le modèle avec 300 epochs: 84.32787132263184 secondes\n"
     ]
    },
    {
     "data": {
      "application/vnd.jupyter.widget-view+json": {
       "model_id": "4d5c62f9668b4642b4732faf75c5b4f6",
       "version_major": 2,
       "version_minor": 0
      },
      "text/plain": [
       "Downloading artifacts:   0%|          | 0/1 [00:00<?, ?it/s]"
      ]
     },
     "metadata": {},
     "output_type": "display_data"
    },
    {
     "name": "stderr",
     "output_type": "stream",
     "text": [
      "Loss: 13.467: 100%|██████████| 300/300 [01:55<00:00,  2.61it/s]\n"
     ]
    },
    {
     "name": "stdout",
     "output_type": "stream",
     "text": [
      "Temps pris pour entraîner le modèle avec 300 epochs: 119.38230586051941 secondes\n"
     ]
    },
    {
     "data": {
      "application/vnd.jupyter.widget-view+json": {
       "model_id": "774f076b13f54605bec196054cb36c3f",
       "version_major": 2,
       "version_minor": 0
      },
      "text/plain": [
       "Downloading artifacts:   0%|          | 0/1 [00:00<?, ?it/s]"
      ]
     },
     "metadata": {},
     "output_type": "display_data"
    },
    {
     "name": "stderr",
     "output_type": "stream",
     "text": [
      "Loss: 20.986: 100%|██████████| 300/300 [09:26<00:00,  1.89s/it]\n"
     ]
    },
    {
     "name": "stdout",
     "output_type": "stream",
     "text": [
      "Temps pris pour entraîner le modèle avec 300 epochs: 568.4229543209076 secondes\n"
     ]
    },
    {
     "data": {
      "application/vnd.jupyter.widget-view+json": {
       "model_id": "9b0128ca4e4642baa572c4c531c394ec",
       "version_major": 2,
       "version_minor": 0
      },
      "text/plain": [
       "Downloading artifacts:   0%|          | 0/1 [00:00<?, ?it/s]"
      ]
     },
     "metadata": {},
     "output_type": "display_data"
    },
    {
     "name": "stderr",
     "output_type": "stream",
     "text": [
      "Loss: 17.886: 100%|██████████| 300/300 [02:48<00:00,  1.78it/s]\n"
     ]
    },
    {
     "name": "stdout",
     "output_type": "stream",
     "text": [
      "Temps pris pour entraîner le modèle avec 300 epochs: 173.93637132644653 secondes\n"
     ]
    },
    {
     "data": {
      "application/vnd.jupyter.widget-view+json": {
       "model_id": "13f82ccf3683498391d81b0ec27ea9b6",
       "version_major": 2,
       "version_minor": 0
      },
      "text/plain": [
       "Downloading artifacts:   0%|          | 0/1 [00:00<?, ?it/s]"
      ]
     },
     "metadata": {},
     "output_type": "display_data"
    },
    {
     "name": "stderr",
     "output_type": "stream",
     "text": [
      "Loss: 13.043: 100%|██████████| 300/300 [03:45<00:00,  1.33it/s]\n"
     ]
    },
    {
     "name": "stdout",
     "output_type": "stream",
     "text": [
      "Temps pris pour entraîner le modèle avec 300 epochs: 230.029625415802 secondes\n"
     ]
    },
    {
     "data": {
      "application/vnd.jupyter.widget-view+json": {
       "model_id": "11d7e4403d8e4e7899ccbfd06cf7bc0c",
       "version_major": 2,
       "version_minor": 0
      },
      "text/plain": [
       "Downloading artifacts:   0%|          | 0/1 [00:00<?, ?it/s]"
      ]
     },
     "metadata": {},
     "output_type": "display_data"
    },
    {
     "name": "stderr",
     "output_type": "stream",
     "text": [
      "Loss: 17.366: 100%|██████████| 300/300 [07:15<00:00,  1.45s/it]\n"
     ]
    },
    {
     "name": "stdout",
     "output_type": "stream",
     "text": [
      "Temps pris pour entraîner le modèle avec 300 epochs: 440.5429081916809 secondes\n"
     ]
    },
    {
     "data": {
      "application/vnd.jupyter.widget-view+json": {
       "model_id": "2c958f41bf82438d92d8ddee72f58923",
       "version_major": 2,
       "version_minor": 0
      },
      "text/plain": [
       "Downloading artifacts:   0%|          | 0/1 [00:00<?, ?it/s]"
      ]
     },
     "metadata": {},
     "output_type": "display_data"
    },
    {
     "name": "stderr",
     "output_type": "stream",
     "text": [
      "Loss: 24.610: 100%|██████████| 300/300 [05:32<00:00,  1.11s/it]\n"
     ]
    },
    {
     "name": "stdout",
     "output_type": "stream",
     "text": [
      "Temps pris pour entraîner le modèle avec 300 epochs: 337.7028923034668 secondes\n"
     ]
    },
    {
     "data": {
      "application/vnd.jupyter.widget-view+json": {
       "model_id": "fbcdd6b75b5149e4a802e506e8f20b1a",
       "version_major": 2,
       "version_minor": 0
      },
      "text/plain": [
       "Downloading artifacts:   0%|          | 0/1 [00:00<?, ?it/s]"
      ]
     },
     "metadata": {},
     "output_type": "display_data"
    },
    {
     "name": "stderr",
     "output_type": "stream",
     "text": [
      "Loss: 13.653: 100%|██████████| 300/300 [02:25<00:00,  2.06it/s]\n"
     ]
    },
    {
     "name": "stdout",
     "output_type": "stream",
     "text": [
      "Temps pris pour entraîner le modèle avec 300 epochs: 150.28030848503113 secondes\n"
     ]
    },
    {
     "data": {
      "application/vnd.jupyter.widget-view+json": {
       "model_id": "25fdb0e2e8b64569a6dbc25a60b77471",
       "version_major": 2,
       "version_minor": 0
      },
      "text/plain": [
       "Downloading artifacts:   0%|          | 0/1 [00:00<?, ?it/s]"
      ]
     },
     "metadata": {},
     "output_type": "display_data"
    },
    {
     "name": "stderr",
     "output_type": "stream",
     "text": [
      "Loss: 8.091: 100%|██████████| 300/300 [16:55<00:00,  3.39s/it] \n"
     ]
    },
    {
     "name": "stdout",
     "output_type": "stream",
     "text": [
      "Temps pris pour entraîner le modèle avec 300 epochs: 1020.8478214740753 secondes\n"
     ]
    },
    {
     "data": {
      "application/vnd.jupyter.widget-view+json": {
       "model_id": "0798f20c360a4d7998f1750ee93d306c",
       "version_major": 2,
       "version_minor": 0
      },
      "text/plain": [
       "Downloading artifacts:   0%|          | 0/1 [00:00<?, ?it/s]"
      ]
     },
     "metadata": {},
     "output_type": "display_data"
    },
    {
     "name": "stderr",
     "output_type": "stream",
     "text": [
      "Loss: 25.199: 100%|██████████| 300/300 [01:16<00:00,  3.90it/s]\n"
     ]
    },
    {
     "name": "stdout",
     "output_type": "stream",
     "text": [
      "Temps pris pour entraîner le modèle avec 300 epochs: 82.02880311012268 secondes\n"
     ]
    },
    {
     "data": {
      "application/vnd.jupyter.widget-view+json": {
       "model_id": "11d41a614e18455889a9797f64b89f79",
       "version_major": 2,
       "version_minor": 0
      },
      "text/plain": [
       "Downloading artifacts:   0%|          | 0/1 [00:00<?, ?it/s]"
      ]
     },
     "metadata": {},
     "output_type": "display_data"
    },
    {
     "name": "stderr",
     "output_type": "stream",
     "text": [
      "Loss: 20.097: 100%|██████████| 300/300 [01:55<00:00,  2.61it/s]\n"
     ]
    },
    {
     "name": "stdout",
     "output_type": "stream",
     "text": [
      "Temps pris pour entraîner le modèle avec 300 epochs: 119.51287984848022 secondes\n"
     ]
    },
    {
     "data": {
      "application/vnd.jupyter.widget-view+json": {
       "model_id": "916e8659976f435694f98db47830a60f",
       "version_major": 2,
       "version_minor": 0
      },
      "text/plain": [
       "Downloading artifacts:   0%|          | 0/1 [00:00<?, ?it/s]"
      ]
     },
     "metadata": {},
     "output_type": "display_data"
    },
    {
     "name": "stderr",
     "output_type": "stream",
     "text": [
      "Loss: 24.558: 100%|██████████| 300/300 [06:51<00:00,  1.37s/it]\n"
     ]
    },
    {
     "name": "stdout",
     "output_type": "stream",
     "text": [
      "Temps pris pour entraîner le modèle avec 300 epochs: 413.59067845344543 secondes\n"
     ]
    },
    {
     "data": {
      "application/vnd.jupyter.widget-view+json": {
       "model_id": "737eb302c4d84b5bbf8f3d54ec00224b",
       "version_major": 2,
       "version_minor": 0
      },
      "text/plain": [
       "Downloading artifacts:   0%|          | 0/1 [00:00<?, ?it/s]"
      ]
     },
     "metadata": {},
     "output_type": "display_data"
    },
    {
     "name": "stderr",
     "output_type": "stream",
     "text": [
      "Loss: 24.479: 100%|██████████| 300/300 [01:17<00:00,  3.86it/s]\n"
     ]
    },
    {
     "name": "stdout",
     "output_type": "stream",
     "text": [
      "Temps pris pour entraîner le modèle avec 300 epochs: 82.97265338897705 secondes\n"
     ]
    },
    {
     "data": {
      "application/vnd.jupyter.widget-view+json": {
       "model_id": "a9d8e2dad87d4dec8ad5ca8b690ba7e8",
       "version_major": 2,
       "version_minor": 0
      },
      "text/plain": [
       "Downloading artifacts:   0%|          | 0/1 [00:00<?, ?it/s]"
      ]
     },
     "metadata": {},
     "output_type": "display_data"
    },
    {
     "name": "stderr",
     "output_type": "stream",
     "text": [
      "Loss: 20.769: 100%|██████████| 300/300 [01:56<00:00,  2.56it/s]\n"
     ]
    },
    {
     "name": "stdout",
     "output_type": "stream",
     "text": [
      "Temps pris pour entraîner le modèle avec 300 epochs: 120.83961701393127 secondes\n"
     ]
    },
    {
     "data": {
      "application/vnd.jupyter.widget-view+json": {
       "model_id": "dcfda4effb904df68b6118df7fdaaa3e",
       "version_major": 2,
       "version_minor": 0
      },
      "text/plain": [
       "Downloading artifacts:   0%|          | 0/1 [00:00<?, ?it/s]"
      ]
     },
     "metadata": {},
     "output_type": "display_data"
    },
    {
     "name": "stderr",
     "output_type": "stream",
     "text": [
      "Loss: 22.103: 100%|██████████| 300/300 [05:26<00:00,  1.09s/it]\n"
     ]
    },
    {
     "name": "stdout",
     "output_type": "stream",
     "text": [
      "Temps pris pour entraîner le modèle avec 300 epochs: 328.7895863056183 secondes\n"
     ]
    },
    {
     "data": {
      "application/vnd.jupyter.widget-view+json": {
       "model_id": "f9c6a2485ff344cdb6cb848074f5c5b5",
       "version_major": 2,
       "version_minor": 0
      },
      "text/plain": [
       "Downloading artifacts:   0%|          | 0/1 [00:00<?, ?it/s]"
      ]
     },
     "metadata": {},
     "output_type": "display_data"
    },
    {
     "name": "stderr",
     "output_type": "stream",
     "text": [
      "Loss: 23.966: 100%|██████████| 300/300 [01:15<00:00,  3.95it/s]\n"
     ]
    },
    {
     "name": "stdout",
     "output_type": "stream",
     "text": [
      "Temps pris pour entraîner le modèle avec 300 epochs: 81.25122952461243 secondes\n"
     ]
    },
    {
     "data": {
      "application/vnd.jupyter.widget-view+json": {
       "model_id": "cdbc88f957f0468f8831b2c06e7433b6",
       "version_major": 2,
       "version_minor": 0
      },
      "text/plain": [
       "Downloading artifacts:   0%|          | 0/1 [00:00<?, ?it/s]"
      ]
     },
     "metadata": {},
     "output_type": "display_data"
    },
    {
     "name": "stderr",
     "output_type": "stream",
     "text": [
      "Loss: 28.561:  43%|████▎     | 129/300 [00:49<01:08,  2.51it/s]"
     ]
    }
   ],
   "source": [
    "import itertools\n",
    "import yaml\n",
    "from yaml.loader import SafeLoader\n",
    "import mlflow\n",
    "from sdv.single_table import TVAESynthesizer\n",
    "import mlflow.pyfunc\n",
    "import joblib\n",
    "import os\n",
    "import time\n",
    "import pandas as pd\n",
    "\n",
    "# Charger les configurations du fichier YAML\n",
    "with open(\"SDV/config_tvae.yml\") as f:\n",
    "    config = yaml.load(f, Loader=SafeLoader)\n",
    "\n",
    "class TVAEWrapper(mlflow.pyfunc.PythonModel):\n",
    "    def __init__(self):\n",
    "        self.model = None\n",
    "\n",
    "    def load_context(self, context):\n",
    "        self.model = joblib.load(context.artifacts[\"model_path\"])\n",
    "\n",
    "    def predict(self, context, model_input):\n",
    "        return self.model.sample(len(model_input))\n",
    "\n",
    "remote_server_uri = os.environ[\"MLFLOW_TRACKING_URI\"]\n",
    "experiment_name = 'Default'\n",
    "run_name = 'grid_search'\n",
    "\n",
    "mlflow.set_tracking_uri(remote_server_uri)\n",
    "mlflow.set_experiment(experiment_name)\n",
    "\n",
    "compress_dims_values = config['compress_dims']\n",
    "decompress_dims_values = config['decompress_dims']\n",
    "batch_size_values = config['batch_size']\n",
    "\n",
    "param_combinations = list(itertools.product(compress_dims_values, decompress_dims_values, batch_size_values))\n",
    "\n",
    "for param_set in param_combinations:\n",
    "    compress_dims, decompress_dims, batch_size = param_set\n",
    "    run_name = f\"tvae_bs_{batch_size}_comp_dims_{compress_dims}_decomp_dims_{decompress_dims}\"\n",
    "\n",
    "    with mlflow.start_run(run_name=run_name):\n",
    "        # Log des paramètres de configuration\n",
    "        mlflow.log_param('compress_dims', compress_dims)\n",
    "        mlflow.log_param('decompress_dims', decompress_dims)\n",
    "        mlflow.log_param('batch_size', batch_size)\n",
    "        \n",
    "        # Entraînement\n",
    "        start_time = time.time()\n",
    "        tvae = TVAESynthesizer(metadata,\n",
    "                           verbose=True,\n",
    "                           compress_dims=compress_dims,\n",
    "                           decompress_dims=decompress_dims,\n",
    "                           batch_size=batch_size)\n",
    "        tvae.fit(original)\n",
    "        end_time = time.time()\n",
    "\n",
    "        elapsed_time = end_time - start_time\n",
    "        mlflow.log_metric(\"elapsed_time\", elapsed_time)\n",
    "        print(f\"Temps pris pour entraîner le modèle avec 300 epochs: {elapsed_time} secondes\")\n",
    "\n",
    "        # Log des pertes du générateur et du discriminateur\n",
    "        loss = tvae.get_loss_values()\n",
    "        losses = loss['Loss'].tolist()\n",
    "        for epoch, loss in enumerate(losses):\n",
    "            mlflow.log_metric(\"loss\", loss, step=epoch)\n",
    "\n",
    "        # Sauvegarde du modèle\n",
    "        model_path = f\"tvae_model_{run_name}.pkl\"\n",
    "        joblib.dump(tvae, model_path)\n",
    "        mlflow.pyfunc.log_model(\n",
    "            artifact_path=\"tvae_model\",\n",
    "            python_model=TVAEWrapper(),\n",
    "            artifacts={\"model_path\": model_path},\n",
    "        )\n",
    "    mlflow.end_run()"
   ]
  }
 ],
 "metadata": {
  "kernelspec": {
   "display_name": "Python 3 (ipykernel)",
   "language": "python",
   "name": "python3"
  },
  "language_info": {
   "codemirror_mode": {
    "name": "ipython",
    "version": 3
   },
   "file_extension": ".py",
   "mimetype": "text/x-python",
   "name": "python",
   "nbconvert_exporter": "python",
   "pygments_lexer": "ipython3",
   "version": "3.12.4"
  }
 },
 "nbformat": 4,
 "nbformat_minor": 5
}
