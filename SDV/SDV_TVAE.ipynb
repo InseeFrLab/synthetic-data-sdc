{
 "cells": [
  {
   "cell_type": "code",
   "execution_count": 1,
   "id": "9a178919-4e39-4628-8267-3bdf24589933",
   "metadata": {},
   "outputs": [],
   "source": [
    "import pandas as pd\n",
    "import os\n",
    "import time\n",
    "import matplotlib.pyplot as plt\n",
    "import matplotlib\n",
    "import numpy as np\n",
    "from sdv.evaluation.single_table import run_diagnostic\n",
    "from sdv.metadata import SingleTableMetadata\n",
    "from sdv.single_table import TVAESynthesizer\n",
    "from sdv.metadata import SingleTableMetadata\n",
    "from sdv.evaluation.single_table import get_column_plot\n",
    "from sdv.evaluation.single_table import get_column_pair_plot\n",
    "from sdv.evaluation.single_table import evaluate_quality\n",
    "from sklearn.tree import DecisionTreeClassifier\n",
    "from sklearn.metrics import mean_squared_error\n",
    "from sklearn.model_selection import train_test_split\n",
    "\n",
    "os.chdir('/home/onyxia/work/synthetic-data-sdc/')\n",
    "os.environ[\"MLFLOW_TRACKING_URI\"] = \"https://projet-donnees-synthetiques-mlflow.user.lab.sspcloud.fr/\" "
   ]
  },
  {
   "cell_type": "code",
   "execution_count": 2,
   "id": "e1b0946b-cd6c-456c-bc96-3c3702cc6b8f",
   "metadata": {},
   "outputs": [],
   "source": [
    "variables = ['sex','age','agegr','placesize','edu','socprof','marital','ls','depress','trust','trustfam','trustneigh','sport','nofriend','smoke','alcabuse','alcsol','wkabint','englang','height','weight','bmi']\n",
    "original = pd.read_csv('SDV/df_original.csv', names = variables)\n",
    "sample = pd.read_csv('SDV/df1_sample.csv', names = variables)\n",
    "cart = pd.read_csv('SDV/df1_cart.csv', names = variables)\n",
    "ctree = pd.read_csv('SDV/df1_ctree.csv', names = variables)\n",
    "parametric = pd.read_csv('SDV/df1_parametric.csv', names = variables)\n",
    "rf = pd.read_csv('SDV/df1_rf.csv', names = variables)\n",
    "bag = pd.read_csv('SDV/df1_bag.csv', names = variables)"
   ]
  },
  {
   "cell_type": "code",
   "execution_count": 3,
   "id": "373a0e7c-fd8c-47e2-8215-9603e888ea35",
   "metadata": {},
   "outputs": [
    {
     "data": {
      "text/plain": [
       "{\n",
       "    \"METADATA_SPEC_VERSION\": \"SINGLE_TABLE_V1\",\n",
       "    \"columns\": {\n",
       "        \"sex\": {\n",
       "            \"sdtype\": \"categorical\"\n",
       "        },\n",
       "        \"age\": {\n",
       "            \"sdtype\": \"numerical\"\n",
       "        },\n",
       "        \"agegr\": {\n",
       "            \"sdtype\": \"categorical\"\n",
       "        },\n",
       "        \"placesize\": {\n",
       "            \"sdtype\": \"categorical\"\n",
       "        },\n",
       "        \"edu\": {\n",
       "            \"sdtype\": \"categorical\"\n",
       "        },\n",
       "        \"socprof\": {\n",
       "            \"sdtype\": \"categorical\"\n",
       "        },\n",
       "        \"marital\": {\n",
       "            \"sdtype\": \"categorical\"\n",
       "        },\n",
       "        \"ls\": {\n",
       "            \"sdtype\": \"categorical\"\n",
       "        },\n",
       "        \"depress\": {\n",
       "            \"sdtype\": \"numerical\"\n",
       "        },\n",
       "        \"trust\": {\n",
       "            \"sdtype\": \"categorical\"\n",
       "        },\n",
       "        \"trustfam\": {\n",
       "            \"sdtype\": \"categorical\"\n",
       "        },\n",
       "        \"trustneigh\": {\n",
       "            \"sdtype\": \"categorical\"\n",
       "        },\n",
       "        \"sport\": {\n",
       "            \"sdtype\": \"categorical\"\n",
       "        },\n",
       "        \"nofriend\": {\n",
       "            \"sdtype\": \"numerical\"\n",
       "        },\n",
       "        \"smoke\": {\n",
       "            \"sdtype\": \"categorical\"\n",
       "        },\n",
       "        \"alcabuse\": {\n",
       "            \"sdtype\": \"categorical\"\n",
       "        },\n",
       "        \"alcsol\": {\n",
       "            \"sdtype\": \"categorical\"\n",
       "        },\n",
       "        \"wkabint\": {\n",
       "            \"sdtype\": \"categorical\"\n",
       "        },\n",
       "        \"englang\": {\n",
       "            \"sdtype\": \"categorical\"\n",
       "        },\n",
       "        \"height\": {\n",
       "            \"sdtype\": \"numerical\"\n",
       "        },\n",
       "        \"weight\": {\n",
       "            \"sdtype\": \"numerical\"\n",
       "        },\n",
       "        \"bmi\": {\n",
       "            \"sdtype\": \"numerical\"\n",
       "        }\n",
       "    }\n",
       "}"
      ]
     },
     "execution_count": 3,
     "metadata": {},
     "output_type": "execute_result"
    }
   ],
   "source": [
    "metadata = SingleTableMetadata()\n",
    "metadata.detect_from_dataframe(original)\n",
    "metadata"
   ]
  },
  {
   "cell_type": "code",
   "execution_count": 6,
   "id": "40c287a9-d5a2-4020-b12d-c8e815ed3a61",
   "metadata": {},
   "outputs": [
    {
     "name": "stderr",
     "output_type": "stream",
     "text": [
      "Loss: 16.792: 100%|██████████| 300/300 [21:22<00:00,  4.27s/it] \n"
     ]
    },
    {
     "name": "stdout",
     "output_type": "stream",
     "text": [
      "Temps pris pour entraîner le modèle : 1296.561350107193 secondes\n",
      "Temps pris pour générer les données : 0.6361339092254639 secondes\n"
     ]
    }
   ],
   "source": [
    "synthesizer = TVAESynthesizer(metadata, verbose=True)\n",
    "start_time = time.time()\n",
    "synthesizer.fit(original)\n",
    "end_time = time.time()\n",
    "elapsed_time = end_time - start_time\n",
    "\n",
    "start_time1 = time.time()\n",
    "synthetic_data = synthesizer.sample(num_rows=len(original))\n",
    "end_time1 = time.time()\n",
    "elapsed_time1 = end_time1 - start_time1\n",
    "\n",
    "\n",
    "\n",
    "print(f\"Temps pris pour entraîner le modèle : {elapsed_time} secondes\")\n",
    "print(f\"Temps pris pour générer les données : {elapsed_time1} secondes\")"
   ]
  },
  {
   "cell_type": "code",
   "execution_count": 8,
   "id": "854b5107-7346-40b2-9765-d2fb6c630ceb",
   "metadata": {},
   "outputs": [],
   "source": [
    "synthetic_data.to_csv(\"tvae.csv\")"
   ]
  },
  {
   "cell_type": "markdown",
   "id": "ccd1ef14-1624-4ebb-85ed-dbfb1b4e5cc7",
   "metadata": {},
   "source": [
    "## Hyperparamètres"
   ]
  },
  {
   "cell_type": "markdown",
   "id": "36feeb50-9ab8-4215-a1f8-65906419fdfe",
   "metadata": {},
   "source": [
    "- **epochs** et **batch_size** : ces arguments contrôlent le nombre d'itérations que le modèle effectuera pour optimiser ses paramètres, ainsi que le nombre d'échantillons utilisés à chaque étape. Ses valeurs par défaut sont respectivement 300 et 500, et **batch_size doit toujours être une valeur multiple de 10**. Ces hyperparamètres ont un effet très direct sur la durée du processus de formation, mais également sur les performances des données. Ainsi, pour les nouveaux ensembles de données, vous souhaiterez peut-être commencer par définir une valeur faible sur les deux pour voir combien de temps prend le processus de formation. vos données et plus tard, augmentez le nombre à des valeurs acceptables afin d'améliorer les performances.\n",
    "\n",
    "- **log_frequency** : s'il faut utiliser la log fréquence des modalités catégorieles dans l'échantillonnage conditionnel. La valeur par défaut est True. Cet argument affecte la manière dont le modèle traite les fréquences des valeurs catégorielles utilisées pour conditionner le reste des valeurs. Dans certains cas, le remplacer par False pourrait entraîner de meilleures performances.\n",
    "\n",
    "- **embedding_dim (int)** : taille de l'échantillon aléatoire transmis au générateur. La valeur par défaut est 128.\n",
    "\n",
    "- **compress_dims (tuple ou liste d'entiers)** : taille de chaque couche cachée dans l'encodeur. La valeur par défaut est (128, 128).\n",
    "\n",
    "- **decompress_dims (tuple ou liste d'entiers)** : Taille de chaque couche cachée dans le décodeur. La valeur par défaut est (128, 128).\n",
    "\n",
    "- **l2scale (int)** : terme de régularisation. La valeur par défaut est 1e-5.\n",
    "\n",
    "- **batch_size (int)** : nombre d'échantillons de données à traiter à chaque étape.\n",
    "\n",
    "- **loss_factor (int)** : Multiplicateur de l'erreur de reconstruction. La valeur par défaut est 2.\n",
    "\n",
    "- **cuda (bool ou str)** : si True, utilisez CUDA. S'il s'agit d'une str, utilisez l'appareil indiqué. Si False, n’utilisez pas du tout cuda."
   ]
  },
  {
   "cell_type": "code",
   "execution_count": 16,
   "id": "e20b4e35-109a-4f28-9b62-32da6b2ec65b",
   "metadata": {},
   "outputs": [
    {
     "name": "stderr",
     "output_type": "stream",
     "text": [
      "Loss: 40.776: 100%|██████████| 10/10 [00:21<00:00,  2.16s/it]\n"
     ]
    },
    {
     "name": "stdout",
     "output_type": "stream",
     "text": [
      "Temps pris entraîner le modèle : 34.86447620391846 secondes\n"
     ]
    },
    {
     "data": {
      "application/vnd.jupyter.widget-view+json": {
       "model_id": "c41f608ca53f4897aa84b69fc52a8ddc",
       "version_major": 2,
       "version_minor": 0
      },
      "text/plain": [
       "Downloading artifacts:   0%|          | 0/1 [00:00<?, ?it/s]"
      ]
     },
     "metadata": {},
     "output_type": "display_data"
    }
   ],
   "source": [
    "with open(\"SDV/config_tvae.yml\") as f:\n",
    "    config = yaml.load(f, Loader=SafeLoader)\n",
    "\n",
    "class TVAEWrapper(mlflow.pyfunc.PythonModel):\n",
    "    def __init__(self):\n",
    "        self.model = None\n",
    "\n",
    "    def load_context(self, context):\n",
    "        self.model = joblib.load(context.artifacts[\"model_path\"])\n",
    "\n",
    "    def predict(self, context, model_input):\n",
    "        return self.model.sample(len(model_input))\n",
    "\n",
    "remote_server_uri = os.environ[\"MLFLOW_TRACKING_URI\"]\n",
    "experiment_name = 'Default'\n",
    "run_name = 'tvae_comp_256_256_decomp_256_256'\n",
    "\n",
    "mlflow.set_tracking_uri(remote_server_uri)\n",
    "mlflow.set_experiment(experiment_name)\n",
    "\n",
    "with mlflow.start_run(run_name=run_name):\n",
    "    for param_key, param_value in config.items():\n",
    "        if param_key != 'mlflow':\n",
    "            mlflow.log_param(param_key, param_value)\n",
    "    mlflow.log_param('run_name', run_name)\n",
    "\n",
    "    #Entraînement\n",
    "    start_time = time.time()\n",
    "    tvae = TVAESynthesizer(metadata,\n",
    "                           verbose=True,\n",
    "                           compress_dims=[256,256],\n",
    "                           decompress_dims=[256,256],\n",
    "                        epochs=10)\n",
    "    tvae.fit(original)\n",
    "    end_time = time.time()\n",
    "    \n",
    "    elapsed_time = end_time - start_time\n",
    "    mlflow.log_metric(\"elapsed_time\", elapsed_time)\n",
    "    print(f\"Temps pris entraîner le modèle : {elapsed_time} secondes\")\n",
    "    \n",
    "    params_tvae = tvae.get_parameters()\n",
    "\n",
    "    # Log des paramètres du modèle\n",
    "    for param_key, param_value in params_tvae.items():\n",
    "        with mlflow.start_run(nested=True):\n",
    "            mlflow.log_param(param_key, param_value)\n",
    "\n",
    "    loss = tvae.get_loss_values()\n",
    "    losses = loss['Loss'].tolist()\n",
    "    for epoch, loss in enumerate(losses):\n",
    "        mlflow.log_metric(\"loss\", loss, step=epoch)\n",
    "\n",
    "    model_path = \"tvae_model.pkl\"\n",
    "    joblib.dump(tvae, model_path)\n",
    "    mlflow.pyfunc.log_model(\n",
    "        artifact_path=\"tvae_model\",\n",
    "        python_model=TVAEWrapper(),\n",
    "        artifacts={\"model_path\": model_path},\n",
    "    )\n",
    "mlflow.end_run()"
   ]
  },
  {
   "cell_type": "code",
   "execution_count": 15,
   "id": "82274ea5-0626-48bb-b2af-203fe9bc5745",
   "metadata": {},
   "outputs": [
    {
     "data": {
      "text/plain": [
       "{'enforce_min_max_values': True,\n",
       " 'enforce_rounding': True,\n",
       " 'embedding_dim': 128,\n",
       " 'compress_dims': (128, 128),\n",
       " 'decompress_dims': (128, 128),\n",
       " 'l2scale': 1e-05,\n",
       " 'batch_size': 500,\n",
       " 'verbose': True,\n",
       " 'epochs': 500,\n",
       " 'loss_factor': 2,\n",
       " 'cuda': True}"
      ]
     },
     "execution_count": 15,
     "metadata": {},
     "output_type": "execute_result"
    }
   ],
   "source": [
    "tvae.get_parameters()"
   ]
  },
  {
   "cell_type": "markdown",
   "id": "fabd867d-3325-4f7f-b66c-6f683c2eac95",
   "metadata": {},
   "source": [
    "## Grid search"
   ]
  },
  {
   "cell_type": "code",
   "execution_count": null,
   "id": "02fe661e-0ec1-4c10-a69d-658413b54a6e",
   "metadata": {},
   "outputs": [
    {
     "name": "stderr",
     "output_type": "stream",
     "text": [
      "Loss: 32.918:  30%|███       | 90/300 [02:55<05:00,  1.43s/it]"
     ]
    }
   ],
   "source": [
    "import itertools\n",
    "import yaml\n",
    "from yaml.loader import SafeLoader\n",
    "import mlflow\n",
    "from sdv.single_table import TVAESynthesizer\n",
    "import mlflow.pyfunc\n",
    "import joblib\n",
    "import os\n",
    "import time\n",
    "import pandas as pd\n",
    "\n",
    "# Charger les configurations du fichier YAML\n",
    "with open(\"SDV/config_tvae.yml\") as f:\n",
    "    config = yaml.load(f, Loader=SafeLoader)\n",
    "\n",
    "class TVAEWrapper(mlflow.pyfunc.PythonModel):\n",
    "    def __init__(self):\n",
    "        self.model = None\n",
    "\n",
    "    def load_context(self, context):\n",
    "        self.model = joblib.load(context.artifacts[\"model_path\"])\n",
    "\n",
    "    def predict(self, context, model_input):\n",
    "        return self.model.sample(len(model_input))\n",
    "\n",
    "remote_server_uri = os.environ[\"MLFLOW_TRACKING_URI\"]\n",
    "experiment_name = 'Default'\n",
    "run_name = 'grid_search'\n",
    "\n",
    "mlflow.set_tracking_uri(remote_server_uri)\n",
    "mlflow.set_experiment(experiment_name)\n",
    "\n",
    "compress_dims_values = config['compress_dims']\n",
    "decompress_dims_values = config['decompress_dims']\n",
    "\n",
    "param_combinations = list(itertools.product(compress_dims_values, decompress_dims_values))\n",
    "\n",
    "for param_set in param_combinations:\n",
    "    compress_dims, decompress_dims = param_set\n",
    "    run_name = f\"tvae_compress_dims_{compress_dims}_decompress_dims_{decompress_dims}\"\n",
    "\n",
    "    with mlflow.start_run(run_name=run_name):\n",
    "        # Log des paramètres de configuration\n",
    "        mlflow.log_param('compress_dims', compress_dims)\n",
    "        mlflow.log_param('decompress_dims', decompress_dims)\n",
    "        \n",
    "        # Entraînement\n",
    "        start_time = time.time()\n",
    "        tvae = TVAESynthesizer(metadata,\n",
    "                           verbose=True,\n",
    "                           compress_dims=compress_dims,\n",
    "                           decompress_dims=decompress_dims)\n",
    "        tvae.fit(original)\n",
    "        end_time = time.time()\n",
    "\n",
    "        elapsed_time = end_time - start_time\n",
    "        mlflow.log_metric(\"elapsed_time\", elapsed_time)\n",
    "        print(f\"Temps pris pour entraîner le modèle avec epochs={epochs}: {elapsed_time} secondes\")\n",
    "\n",
    "        # Log des pertes du générateur et du discriminateur\n",
    "        loss = tvae.get_loss_values()\n",
    "        generator_losses = loss['Generator Loss'].tolist()\n",
    "        discriminator_losses = loss['Discriminator Loss'].tolist()\n",
    "        for epoch, loss in enumerate(generator_losses):\n",
    "            mlflow.log_metric(\"generator_loss\", loss, step=epoch)\n",
    "        for epoch, loss in enumerate(discriminator_losses):\n",
    "            mlflow.log_metric(\"discriminator_loss\", loss, step=epoch)\n",
    "\n",
    "        # Sauvegarde du modèle\n",
    "        model_path = f\"tvae_model_{run_name}.pkl\"\n",
    "        joblib.dump(tvae, model_path)\n",
    "        mlflow.pyfunc.log_model(\n",
    "            artifact_path=\"tvae_model\",\n",
    "            python_model=TVAEWrapper(),\n",
    "            artifacts={\"model_path\": model_path},\n",
    "        )\n",
    "    mlflow.end_run()"
   ]
  }
 ],
 "metadata": {
  "kernelspec": {
   "display_name": "Python 3 (ipykernel)",
   "language": "python",
   "name": "python3"
  },
  "language_info": {
   "codemirror_mode": {
    "name": "ipython",
    "version": 3
   },
   "file_extension": ".py",
   "mimetype": "text/x-python",
   "name": "python",
   "nbconvert_exporter": "python",
   "pygments_lexer": "ipython3",
   "version": "3.12.3"
  }
 },
 "nbformat": 4,
 "nbformat_minor": 5
}
