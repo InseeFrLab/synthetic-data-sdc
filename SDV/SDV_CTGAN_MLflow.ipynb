{
 "cells": [
  {
   "cell_type": "markdown",
   "id": "ac27406e-c111-4fa9-b881-350e5c336fa3",
   "metadata": {},
   "source": [
    "## Données"
   ]
  },
  {
   "cell_type": "code",
   "execution_count": 2,
   "id": "d03802a3-8f34-40da-95c4-440d150135e5",
   "metadata": {
    "editable": true,
    "slideshow": {
     "slide_type": ""
    },
    "tags": []
   },
   "outputs": [
    {
     "name": "stdout",
     "output_type": "stream",
     "text": [
      "Collecting sdv\n",
      "  Downloading sdv-1.14.0-py3-none-any.whl.metadata (15 kB)\n",
      "Requirement already satisfied: boto3>=1.28 in /opt/mamba/lib/python3.12/site-packages (from sdv) (1.34.106)\n",
      "Requirement already satisfied: botocore>=1.31 in /opt/mamba/lib/python3.12/site-packages (from sdv) (1.34.106)\n",
      "Requirement already satisfied: cloudpickle>=2.1.0 in /opt/mamba/lib/python3.12/site-packages (from sdv) (3.0.0)\n",
      "Collecting graphviz>=0.13.2 (from sdv)\n",
      "  Downloading graphviz-0.20.3-py3-none-any.whl.metadata (12 kB)\n",
      "Requirement already satisfied: tqdm>=4.29 in /opt/mamba/lib/python3.12/site-packages (from sdv) (4.66.2)\n",
      "Collecting copulas>=0.11.0 (from sdv)\n",
      "  Downloading copulas-0.11.0-py3-none-any.whl.metadata (10 kB)\n",
      "Collecting ctgan>=0.10.0 (from sdv)\n",
      "  Downloading ctgan-0.10.1-py3-none-any.whl.metadata (11 kB)\n",
      "Collecting deepecho>=0.6.0 (from sdv)\n",
      "  Downloading deepecho-0.6.0-py3-none-any.whl.metadata (10 kB)\n",
      "Collecting rdt>=1.12.0 (from sdv)\n",
      "  Downloading rdt-1.12.1-py3-none-any.whl.metadata (10 kB)\n",
      "Collecting sdmetrics>=0.14.0 (from sdv)\n",
      "  Downloading sdmetrics-0.14.1-py3-none-any.whl.metadata (10 kB)\n",
      "Requirement already satisfied: platformdirs>=4.0 in /opt/mamba/lib/python3.12/site-packages (from sdv) (4.2.0)\n",
      "Requirement already satisfied: pyyaml>=6.0.1 in /opt/mamba/lib/python3.12/site-packages (from sdv) (6.0.1)\n",
      "Requirement already satisfied: numpy<2,>=1.26.0 in /opt/mamba/lib/python3.12/site-packages (from sdv) (1.26.4)\n",
      "Requirement already satisfied: pandas>=2.1.1 in /opt/mamba/lib/python3.12/site-packages (from sdv) (2.2.2)\n",
      "Requirement already satisfied: jmespath<2.0.0,>=0.7.1 in /opt/mamba/lib/python3.12/site-packages (from boto3>=1.28->sdv) (1.0.1)\n",
      "Requirement already satisfied: s3transfer<0.11.0,>=0.10.0 in /opt/mamba/lib/python3.12/site-packages (from boto3>=1.28->sdv) (0.10.1)\n",
      "Requirement already satisfied: python-dateutil<3.0.0,>=2.1 in /opt/mamba/lib/python3.12/site-packages (from botocore>=1.31->sdv) (2.9.0)\n",
      "Requirement already satisfied: urllib3!=2.2.0,<3,>=1.25.4 in /opt/mamba/lib/python3.12/site-packages (from botocore>=1.31->sdv) (1.26.18)\n",
      "Requirement already satisfied: plotly>=5.10.0 in /opt/mamba/lib/python3.12/site-packages (from copulas>=0.11.0->sdv) (5.22.0)\n",
      "Requirement already satisfied: scipy>=1.12.0 in /opt/mamba/lib/python3.12/site-packages (from copulas>=0.11.0->sdv) (1.13.1)\n",
      "Collecting torch>=2.2.0 (from ctgan>=0.10.0->sdv)\n",
      "  Downloading torch-2.3.1-cp312-cp312-manylinux1_x86_64.whl.metadata (26 kB)\n",
      "Requirement already satisfied: pytz>=2020.1 in /opt/mamba/lib/python3.12/site-packages (from pandas>=2.1.1->sdv) (2024.1)\n",
      "Requirement already satisfied: tzdata>=2022.7 in /opt/mamba/lib/python3.12/site-packages (from pandas>=2.1.1->sdv) (2024.1)\n",
      "Collecting Faker>=17 (from rdt>=1.12.0->sdv)\n",
      "  Downloading Faker-26.0.0-py3-none-any.whl.metadata (15 kB)\n",
      "Requirement already satisfied: scikit-learn>=1.3.1 in /opt/mamba/lib/python3.12/site-packages (from rdt>=1.12.0->sdv) (1.5.0)\n",
      "Requirement already satisfied: tenacity>=6.2.0 in /opt/mamba/lib/python3.12/site-packages (from plotly>=5.10.0->copulas>=0.11.0->sdv) (8.3.0)\n",
      "Requirement already satisfied: packaging in /opt/mamba/lib/python3.12/site-packages (from plotly>=5.10.0->copulas>=0.11.0->sdv) (24.0)\n",
      "Requirement already satisfied: six>=1.5 in /opt/mamba/lib/python3.12/site-packages (from python-dateutil<3.0.0,>=2.1->botocore>=1.31->sdv) (1.16.0)\n",
      "Requirement already satisfied: joblib>=1.2.0 in /opt/mamba/lib/python3.12/site-packages (from scikit-learn>=1.3.1->rdt>=1.12.0->sdv) (1.4.2)\n",
      "Requirement already satisfied: threadpoolctl>=3.1.0 in /opt/mamba/lib/python3.12/site-packages (from scikit-learn>=1.3.1->rdt>=1.12.0->sdv) (3.5.0)\n",
      "Collecting filelock (from torch>=2.2.0->ctgan>=0.10.0->sdv)\n",
      "  Downloading filelock-3.15.4-py3-none-any.whl.metadata (2.9 kB)\n",
      "Requirement already satisfied: typing-extensions>=4.8.0 in /opt/mamba/lib/python3.12/site-packages (from torch>=2.2.0->ctgan>=0.10.0->sdv) (4.12.2)\n",
      "Collecting sympy (from torch>=2.2.0->ctgan>=0.10.0->sdv)\n",
      "  Downloading sympy-1.12.1-py3-none-any.whl.metadata (12 kB)\n",
      "Requirement already satisfied: networkx in /opt/mamba/lib/python3.12/site-packages (from torch>=2.2.0->ctgan>=0.10.0->sdv) (3.3)\n",
      "Requirement already satisfied: jinja2 in /opt/mamba/lib/python3.12/site-packages (from torch>=2.2.0->ctgan>=0.10.0->sdv) (3.1.4)\n",
      "Requirement already satisfied: fsspec in /opt/mamba/lib/python3.12/site-packages (from torch>=2.2.0->ctgan>=0.10.0->sdv) (2024.6.0)\n",
      "Collecting nvidia-cuda-nvrtc-cu12==12.1.105 (from torch>=2.2.0->ctgan>=0.10.0->sdv)\n",
      "  Downloading nvidia_cuda_nvrtc_cu12-12.1.105-py3-none-manylinux1_x86_64.whl.metadata (1.5 kB)\n",
      "Collecting nvidia-cuda-runtime-cu12==12.1.105 (from torch>=2.2.0->ctgan>=0.10.0->sdv)\n",
      "  Downloading nvidia_cuda_runtime_cu12-12.1.105-py3-none-manylinux1_x86_64.whl.metadata (1.5 kB)\n",
      "Collecting nvidia-cuda-cupti-cu12==12.1.105 (from torch>=2.2.0->ctgan>=0.10.0->sdv)\n",
      "  Downloading nvidia_cuda_cupti_cu12-12.1.105-py3-none-manylinux1_x86_64.whl.metadata (1.6 kB)\n",
      "Collecting nvidia-cudnn-cu12==8.9.2.26 (from torch>=2.2.0->ctgan>=0.10.0->sdv)\n",
      "  Downloading nvidia_cudnn_cu12-8.9.2.26-py3-none-manylinux1_x86_64.whl.metadata (1.6 kB)\n",
      "Collecting nvidia-cublas-cu12==12.1.3.1 (from torch>=2.2.0->ctgan>=0.10.0->sdv)\n",
      "  Downloading nvidia_cublas_cu12-12.1.3.1-py3-none-manylinux1_x86_64.whl.metadata (1.5 kB)\n",
      "Collecting nvidia-cufft-cu12==11.0.2.54 (from torch>=2.2.0->ctgan>=0.10.0->sdv)\n",
      "  Downloading nvidia_cufft_cu12-11.0.2.54-py3-none-manylinux1_x86_64.whl.metadata (1.5 kB)\n",
      "Collecting nvidia-curand-cu12==10.3.2.106 (from torch>=2.2.0->ctgan>=0.10.0->sdv)\n",
      "  Downloading nvidia_curand_cu12-10.3.2.106-py3-none-manylinux1_x86_64.whl.metadata (1.5 kB)\n",
      "Collecting nvidia-cusolver-cu12==11.4.5.107 (from torch>=2.2.0->ctgan>=0.10.0->sdv)\n",
      "  Downloading nvidia_cusolver_cu12-11.4.5.107-py3-none-manylinux1_x86_64.whl.metadata (1.6 kB)\n",
      "Collecting nvidia-cusparse-cu12==12.1.0.106 (from torch>=2.2.0->ctgan>=0.10.0->sdv)\n",
      "  Downloading nvidia_cusparse_cu12-12.1.0.106-py3-none-manylinux1_x86_64.whl.metadata (1.6 kB)\n",
      "Collecting nvidia-nccl-cu12==2.20.5 (from torch>=2.2.0->ctgan>=0.10.0->sdv)\n",
      "  Downloading nvidia_nccl_cu12-2.20.5-py3-none-manylinux2014_x86_64.whl.metadata (1.8 kB)\n",
      "Collecting nvidia-nvtx-cu12==12.1.105 (from torch>=2.2.0->ctgan>=0.10.0->sdv)\n",
      "  Downloading nvidia_nvtx_cu12-12.1.105-py3-none-manylinux1_x86_64.whl.metadata (1.7 kB)\n",
      "Collecting nvidia-nvjitlink-cu12 (from nvidia-cusolver-cu12==11.4.5.107->torch>=2.2.0->ctgan>=0.10.0->sdv)\n",
      "  Downloading nvidia_nvjitlink_cu12-12.5.82-py3-none-manylinux2014_x86_64.whl.metadata (1.5 kB)\n",
      "Requirement already satisfied: MarkupSafe>=2.0 in /opt/mamba/lib/python3.12/site-packages (from jinja2->torch>=2.2.0->ctgan>=0.10.0->sdv) (2.1.5)\n",
      "Collecting mpmath<1.4.0,>=1.1.0 (from sympy->torch>=2.2.0->ctgan>=0.10.0->sdv)\n",
      "  Downloading mpmath-1.3.0-py3-none-any.whl.metadata (8.6 kB)\n",
      "Downloading sdv-1.14.0-py3-none-any.whl (145 kB)\n",
      "\u001b[2K   \u001b[90m━━━━━━━━━━━━━━━━━━━━━━━━━━━━━━━━━━━━━━━━\u001b[0m \u001b[32m145.2/145.2 kB\u001b[0m \u001b[31m6.4 MB/s\u001b[0m eta \u001b[36m0:00:00\u001b[0m\n",
      "\u001b[?25hDownloading copulas-0.11.0-py3-none-any.whl (51 kB)\n",
      "\u001b[2K   \u001b[90m━━━━━━━━━━━━━━━━━━━━━━━━━━━━━━━━━━━━━━━━\u001b[0m \u001b[32m51.9/51.9 kB\u001b[0m \u001b[31m12.0 MB/s\u001b[0m eta \u001b[36m0:00:00\u001b[0m\n",
      "\u001b[?25hDownloading ctgan-0.10.1-py3-none-any.whl (24 kB)\n",
      "Downloading deepecho-0.6.0-py3-none-any.whl (27 kB)\n",
      "Downloading graphviz-0.20.3-py3-none-any.whl (47 kB)\n",
      "\u001b[2K   \u001b[90m━━━━━━━━━━━━━━━━━━━━━━━━━━━━━━━━━━━━━━━━\u001b[0m \u001b[32m47.1/47.1 kB\u001b[0m \u001b[31m19.6 MB/s\u001b[0m eta \u001b[36m0:00:00\u001b[0m\n",
      "\u001b[?25hDownloading rdt-1.12.1-py3-none-any.whl (63 kB)\n",
      "\u001b[2K   \u001b[90m━━━━━━━━━━━━━━━━━━━━━━━━━━━━━━━━━━━━━━━━\u001b[0m \u001b[32m63.7/63.7 kB\u001b[0m \u001b[31m25.5 MB/s\u001b[0m eta \u001b[36m0:00:00\u001b[0m\n",
      "\u001b[?25hDownloading sdmetrics-0.14.1-py3-none-any.whl (169 kB)\n",
      "\u001b[2K   \u001b[90m━━━━━━━━━━━━━━━━━━━━━━━━━━━━━━━━━━━━━━━━\u001b[0m \u001b[32m169.9/169.9 kB\u001b[0m \u001b[31m33.5 MB/s\u001b[0m eta \u001b[36m0:00:00\u001b[0m\n",
      "\u001b[?25hDownloading Faker-26.0.0-py3-none-any.whl (1.8 MB)\n",
      "\u001b[2K   \u001b[90m━━━━━━━━━━━━━━━━━━━━━━━━━━━━━━━━━━━━━━━━\u001b[0m \u001b[32m1.8/1.8 MB\u001b[0m \u001b[31m46.2 MB/s\u001b[0m eta \u001b[36m0:00:00\u001b[0m:00:01\u001b[0m\n",
      "\u001b[?25hDownloading torch-2.3.1-cp312-cp312-manylinux1_x86_64.whl (779.1 MB)\n",
      "\u001b[2K   \u001b[90m━━━━━━━━━━━━━━━━━━━━━━━━━━━━━━━━━━━━━━━━\u001b[0m \u001b[32m779.1/779.1 MB\u001b[0m \u001b[31m8.8 MB/s\u001b[0m eta \u001b[36m0:00:00\u001b[0m:00:01\u001b[0m00:01\u001b[0m\n",
      "\u001b[?25hDownloading nvidia_cublas_cu12-12.1.3.1-py3-none-manylinux1_x86_64.whl (410.6 MB)\n",
      "\u001b[2K   \u001b[90m━━━━━━━━━━━━━━━━━━━━━━━━━━━━━━━━━━━━━━━━\u001b[0m \u001b[32m410.6/410.6 MB\u001b[0m \u001b[31m14.7 MB/s\u001b[0m eta \u001b[36m0:00:00\u001b[0m00:01\u001b[0m00:01\u001b[0m\n",
      "\u001b[?25hDownloading nvidia_cuda_cupti_cu12-12.1.105-py3-none-manylinux1_x86_64.whl (14.1 MB)\n",
      "\u001b[2K   \u001b[90m━━━━━━━━━━━━━━━━━━━━━━━━━━━━━━━━━━━━━━━━\u001b[0m \u001b[32m14.1/14.1 MB\u001b[0m \u001b[31m87.8 MB/s\u001b[0m eta \u001b[36m0:00:00\u001b[0m:00:01\u001b[0m00:01\u001b[0m\n",
      "\u001b[?25hDownloading nvidia_cuda_nvrtc_cu12-12.1.105-py3-none-manylinux1_x86_64.whl (23.7 MB)\n",
      "\u001b[2K   \u001b[90m━━━━━━━━━━━━━━━━━━━━━━━━━━━━━━━━━━━━━━━━\u001b[0m \u001b[32m23.7/23.7 MB\u001b[0m \u001b[31m81.5 MB/s\u001b[0m eta \u001b[36m0:00:00\u001b[0m:00:01\u001b[0m00:01\u001b[0m\n",
      "\u001b[?25hDownloading nvidia_cuda_runtime_cu12-12.1.105-py3-none-manylinux1_x86_64.whl (823 kB)\n",
      "\u001b[2K   \u001b[90m━━━━━━━━━━━━━━━━━━━━━━━━━━━━━━━━━━━━━━━━\u001b[0m \u001b[32m823.6/823.6 kB\u001b[0m \u001b[31m29.2 MB/s\u001b[0m eta \u001b[36m0:00:00\u001b[0m\n",
      "\u001b[?25hDownloading nvidia_cudnn_cu12-8.9.2.26-py3-none-manylinux1_x86_64.whl (731.7 MB)\n",
      "\u001b[2K   \u001b[90m━━━━━━━━━━━━━━━━━━━━━━━━━━━━━━━━━━━━━━━━\u001b[0m \u001b[32m731.7/731.7 MB\u001b[0m \u001b[31m4.1 MB/s\u001b[0m eta \u001b[36m0:00:00\u001b[0m:00:01\u001b[0m00:01\u001b[0m\n",
      "\u001b[?25hDownloading nvidia_cufft_cu12-11.0.2.54-py3-none-manylinux1_x86_64.whl (121.6 MB)\n",
      "\u001b[2K   \u001b[90m━━━━━━━━━━━━━━━━━━━━━━━━━━━━━━━━━━━━━━━━\u001b[0m \u001b[32m121.6/121.6 MB\u001b[0m \u001b[31m33.8 MB/s\u001b[0m eta \u001b[36m0:00:00\u001b[0m00:01\u001b[0m00:01\u001b[0m\n",
      "\u001b[?25hDownloading nvidia_curand_cu12-10.3.2.106-py3-none-manylinux1_x86_64.whl (56.5 MB)\n",
      "\u001b[2K   \u001b[90m━━━━━━━━━━━━━━━━━━━━━━━━━━━━━━━━━━━━━━━━\u001b[0m \u001b[32m56.5/56.5 MB\u001b[0m \u001b[31m41.1 MB/s\u001b[0m eta \u001b[36m0:00:00\u001b[0m:00:01\u001b[0m00:01\u001b[0m\n",
      "\u001b[?25hDownloading nvidia_cusolver_cu12-11.4.5.107-py3-none-manylinux1_x86_64.whl (124.2 MB)\n",
      "\u001b[2K   \u001b[90m━━━━━━━━━━━━━━━━━━━━━━━━━━━━━━━━━━━━━━━━\u001b[0m \u001b[32m124.2/124.2 MB\u001b[0m \u001b[31m39.2 MB/s\u001b[0m eta \u001b[36m0:00:00\u001b[0m00:01\u001b[0m00:01\u001b[0m\n",
      "\u001b[?25hDownloading nvidia_cusparse_cu12-12.1.0.106-py3-none-manylinux1_x86_64.whl (196.0 MB)\n",
      "\u001b[2K   \u001b[90m━━━━━━━━━━━━━━━━━━━━━━━━━━━━━━━━━━━━━━━━\u001b[0m \u001b[32m196.0/196.0 MB\u001b[0m \u001b[31m29.0 MB/s\u001b[0m eta \u001b[36m0:00:00\u001b[0m00:01\u001b[0m00:01\u001b[0m\n",
      "\u001b[?25hDownloading nvidia_nccl_cu12-2.20.5-py3-none-manylinux2014_x86_64.whl (176.2 MB)\n",
      "\u001b[2K   \u001b[90m━━━━━━━━━━━━━━━━━━━━━━━━━━━━━━━━━━━━━━━━\u001b[0m \u001b[32m176.2/176.2 MB\u001b[0m \u001b[31m29.0 MB/s\u001b[0m eta \u001b[36m0:00:00\u001b[0m00:01\u001b[0m00:01\u001b[0m\n",
      "\u001b[?25hDownloading nvidia_nvtx_cu12-12.1.105-py3-none-manylinux1_x86_64.whl (99 kB)\n",
      "\u001b[2K   \u001b[90m━━━━━━━━━━━━━━━━━━━━━━━━━━━━━━━━━━━━━━━━\u001b[0m \u001b[32m99.1/99.1 kB\u001b[0m \u001b[31m22.0 MB/s\u001b[0m eta \u001b[36m0:00:00\u001b[0m\n",
      "\u001b[?25hDownloading filelock-3.15.4-py3-none-any.whl (16 kB)\n",
      "Downloading sympy-1.12.1-py3-none-any.whl (5.7 MB)\n",
      "\u001b[2K   \u001b[90m━━━━━━━━━━━━━━━━━━━━━━━━━━━━━━━━━━━━━━━━\u001b[0m \u001b[32m5.7/5.7 MB\u001b[0m \u001b[31m96.2 MB/s\u001b[0m eta \u001b[36m0:00:00\u001b[0mta \u001b[36m0:00:01\u001b[0m\n",
      "\u001b[?25hDownloading mpmath-1.3.0-py3-none-any.whl (536 kB)\n",
      "\u001b[2K   \u001b[90m━━━━━━━━━━━━━━━━━━━━━━━━━━━━━━━━━━━━━━━\u001b[0m \u001b[32m536.2/536.2 kB\u001b[0m \u001b[31m106.8 MB/s\u001b[0m eta \u001b[36m0:00:00\u001b[0m\n",
      "\u001b[?25hDownloading nvidia_nvjitlink_cu12-12.5.82-py3-none-manylinux2014_x86_64.whl (21.3 MB)\n",
      "\u001b[2K   \u001b[90m━━━━━━━━━━━━━━━━━━━━━━━━━━━━━━━━━━━━━━━━\u001b[0m \u001b[32m21.3/21.3 MB\u001b[0m \u001b[31m59.5 MB/s\u001b[0m eta \u001b[36m0:00:00\u001b[0m:00:01\u001b[0m00:01\u001b[0m\n",
      "\u001b[?25hInstalling collected packages: mpmath, sympy, nvidia-nvtx-cu12, nvidia-nvjitlink-cu12, nvidia-nccl-cu12, nvidia-curand-cu12, nvidia-cufft-cu12, nvidia-cuda-runtime-cu12, nvidia-cuda-nvrtc-cu12, nvidia-cuda-cupti-cu12, nvidia-cublas-cu12, graphviz, filelock, nvidia-cusparse-cu12, nvidia-cudnn-cu12, Faker, rdt, nvidia-cusolver-cu12, copulas, torch, sdmetrics, deepecho, ctgan, sdv\n",
      "Successfully installed Faker-26.0.0 copulas-0.11.0 ctgan-0.10.1 deepecho-0.6.0 filelock-3.15.4 graphviz-0.20.3 mpmath-1.3.0 nvidia-cublas-cu12-12.1.3.1 nvidia-cuda-cupti-cu12-12.1.105 nvidia-cuda-nvrtc-cu12-12.1.105 nvidia-cuda-runtime-cu12-12.1.105 nvidia-cudnn-cu12-8.9.2.26 nvidia-cufft-cu12-11.0.2.54 nvidia-curand-cu12-10.3.2.106 nvidia-cusolver-cu12-11.4.5.107 nvidia-cusparse-cu12-12.1.0.106 nvidia-nccl-cu12-2.20.5 nvidia-nvjitlink-cu12-12.5.82 nvidia-nvtx-cu12-12.1.105 rdt-1.12.1 sdmetrics-0.14.1 sdv-1.14.0 sympy-1.12.1 torch-2.3.1\n",
      "Note: you may need to restart the kernel to use updated packages.\n"
     ]
    }
   ],
   "source": [
    "pip install sdv"
   ]
  },
  {
   "cell_type": "code",
   "execution_count": 3,
   "id": "fece59da-6681-4d47-a06d-d696483bca8a",
   "metadata": {},
   "outputs": [
    {
     "name": "stdout",
     "output_type": "stream",
     "text": [
      "Requirement already satisfied: matplotlib in /opt/mamba/lib/python3.12/site-packages (3.8.4)\n",
      "Requirement already satisfied: contourpy>=1.0.1 in /opt/mamba/lib/python3.12/site-packages (from matplotlib) (1.2.1)\n",
      "Requirement already satisfied: cycler>=0.10 in /opt/mamba/lib/python3.12/site-packages (from matplotlib) (0.12.1)\n",
      "Requirement already satisfied: fonttools>=4.22.0 in /opt/mamba/lib/python3.12/site-packages (from matplotlib) (4.53.0)\n",
      "Requirement already satisfied: kiwisolver>=1.3.1 in /opt/mamba/lib/python3.12/site-packages (from matplotlib) (1.4.5)\n",
      "Requirement already satisfied: numpy>=1.21 in /opt/mamba/lib/python3.12/site-packages (from matplotlib) (1.26.4)\n",
      "Requirement already satisfied: packaging>=20.0 in /opt/mamba/lib/python3.12/site-packages (from matplotlib) (24.0)\n",
      "Requirement already satisfied: pillow>=8 in /opt/mamba/lib/python3.12/site-packages (from matplotlib) (10.3.0)\n",
      "Requirement already satisfied: pyparsing>=2.3.1 in /opt/mamba/lib/python3.12/site-packages (from matplotlib) (3.1.2)\n",
      "Requirement already satisfied: python-dateutil>=2.7 in /opt/mamba/lib/python3.12/site-packages (from matplotlib) (2.9.0)\n",
      "Requirement already satisfied: six>=1.5 in /opt/mamba/lib/python3.12/site-packages (from python-dateutil>=2.7->matplotlib) (1.16.0)\n",
      "Note: you may need to restart the kernel to use updated packages.\n"
     ]
    }
   ],
   "source": [
    "pip install matplotlib"
   ]
  },
  {
   "cell_type": "code",
   "execution_count": 4,
   "id": "33024ee4-3ae4-459d-9d37-c07edf40c47e",
   "metadata": {},
   "outputs": [],
   "source": [
    "import pandas as pd\n",
    "import os\n",
    "import time\n",
    "import matplotlib.pyplot as plt\n",
    "import matplotlib\n",
    "import numpy as np\n",
    "from sdv.evaluation.single_table import run_diagnostic\n",
    "from sdv.metadata import SingleTableMetadata\n",
    "from sdv.single_table import CTGANSynthesizer\n",
    "from sdv.metadata import SingleTableMetadata\n",
    "from sdv.evaluation.single_table import get_column_plot\n",
    "from sdv.evaluation.single_table import get_column_pair_plot\n",
    "from sdv.evaluation.single_table import evaluate_quality\n",
    "from sklearn.tree import DecisionTreeClassifier\n",
    "from sklearn.metrics import mean_squared_error\n",
    "from sklearn.model_selection import train_test_split\n",
    "\n",
    "os.chdir('/home/onyxia/work/synthetic-data-sdc/')\n",
    "os.environ[\"MLFLOW_TRACKING_URI\"] = \"https://projet-donnees-synthetiques-mlflow.user.lab.sspcloud.fr/\" "
   ]
  },
  {
   "cell_type": "code",
   "execution_count": 5,
   "id": "db06cc2f-a801-46fd-a3c5-ea1e53ecad43",
   "metadata": {},
   "outputs": [],
   "source": [
    "variables = ['sex','age','agegr','placesize','edu','socprof','marital','ls','depress','trust','trustfam','trustneigh','sport','nofriend','smoke','alcabuse','alcsol','wkabint','englang','height','weight','bmi']\n",
    "original = pd.read_csv('SDV/df_original.csv', names = variables)\n",
    "sample = pd.read_csv('SDV/df1_sample.csv', names = variables)\n",
    "cart = pd.read_csv('SDV/df1_cart.csv', names = variables)\n",
    "ctree = pd.read_csv('SDV/df1_ctree.csv', names = variables)\n",
    "parametric = pd.read_csv('SDV/df1_parametric.csv', names = variables)\n",
    "rf = pd.read_csv('SDV/df1_rf.csv', names = variables)\n",
    "bag = pd.read_csv('SDV/df1_bag.csv', names = variables)"
   ]
  },
  {
   "cell_type": "code",
   "execution_count": 6,
   "id": "6c81aed8-e221-4946-b0af-b2c157ec09b9",
   "metadata": {},
   "outputs": [
    {
     "data": {
      "text/html": [
       "<div>\n",
       "<style scoped>\n",
       "    .dataframe tbody tr th:only-of-type {\n",
       "        vertical-align: middle;\n",
       "    }\n",
       "\n",
       "    .dataframe tbody tr th {\n",
       "        vertical-align: top;\n",
       "    }\n",
       "\n",
       "    .dataframe thead th {\n",
       "        text-align: right;\n",
       "    }\n",
       "</style>\n",
       "<table border=\"1\" class=\"dataframe\">\n",
       "  <thead>\n",
       "    <tr style=\"text-align: right;\">\n",
       "      <th></th>\n",
       "      <th>sex</th>\n",
       "      <th>age</th>\n",
       "      <th>agegr</th>\n",
       "      <th>placesize</th>\n",
       "      <th>edu</th>\n",
       "      <th>socprof</th>\n",
       "      <th>marital</th>\n",
       "      <th>ls</th>\n",
       "      <th>depress</th>\n",
       "      <th>trust</th>\n",
       "      <th>...</th>\n",
       "      <th>sport</th>\n",
       "      <th>nofriend</th>\n",
       "      <th>smoke</th>\n",
       "      <th>alcabuse</th>\n",
       "      <th>alcsol</th>\n",
       "      <th>wkabint</th>\n",
       "      <th>englang</th>\n",
       "      <th>height</th>\n",
       "      <th>weight</th>\n",
       "      <th>bmi</th>\n",
       "    </tr>\n",
       "  </thead>\n",
       "  <tbody>\n",
       "    <tr>\n",
       "      <th>0</th>\n",
       "      <td>FEMALE</td>\n",
       "      <td>57</td>\n",
       "      <td>45-59</td>\n",
       "      <td>URBAN 100,000-200,000</td>\n",
       "      <td>VOCATIONAL/GRAMMAR</td>\n",
       "      <td>RETIRED</td>\n",
       "      <td>MARRIED</td>\n",
       "      <td>PLEASED</td>\n",
       "      <td>6</td>\n",
       "      <td>ONE CAN`T BE TOO CAREFUL</td>\n",
       "      <td>...</td>\n",
       "      <td>NO</td>\n",
       "      <td>6</td>\n",
       "      <td>NO</td>\n",
       "      <td>NO</td>\n",
       "      <td>NO</td>\n",
       "      <td>NO</td>\n",
       "      <td>NONE</td>\n",
       "      <td>170</td>\n",
       "      <td>89</td>\n",
       "      <td>30.795848</td>\n",
       "    </tr>\n",
       "    <tr>\n",
       "      <th>1</th>\n",
       "      <td>MALE</td>\n",
       "      <td>20</td>\n",
       "      <td>16-24</td>\n",
       "      <td>RURAL AREAS</td>\n",
       "      <td>VOCATIONAL/GRAMMAR</td>\n",
       "      <td>PUPIL OR STUDENT</td>\n",
       "      <td>SINGLE</td>\n",
       "      <td>MOSTLY SATISFIED</td>\n",
       "      <td>0</td>\n",
       "      <td>IT`S DIFFICULT TO TELL</td>\n",
       "      <td>...</td>\n",
       "      <td>NO</td>\n",
       "      <td>4</td>\n",
       "      <td>NO</td>\n",
       "      <td>NO</td>\n",
       "      <td>NO</td>\n",
       "      <td>NO</td>\n",
       "      <td>ACTIVE</td>\n",
       "      <td>187</td>\n",
       "      <td>82</td>\n",
       "      <td>23.449341</td>\n",
       "    </tr>\n",
       "    <tr>\n",
       "      <th>2</th>\n",
       "      <td>FEMALE</td>\n",
       "      <td>18</td>\n",
       "      <td>16-24</td>\n",
       "      <td>URBAN 500,000 AND OVER</td>\n",
       "      <td>VOCATIONAL/GRAMMAR</td>\n",
       "      <td>PUPIL OR STUDENT</td>\n",
       "      <td>SINGLE</td>\n",
       "      <td>PLEASED</td>\n",
       "      <td>0</td>\n",
       "      <td>MOST PEOPLE CAN BE TRUSTED</td>\n",
       "      <td>...</td>\n",
       "      <td>NO</td>\n",
       "      <td>20</td>\n",
       "      <td>NO</td>\n",
       "      <td>NO</td>\n",
       "      <td>NO</td>\n",
       "      <td>NO</td>\n",
       "      <td>ACTIVE</td>\n",
       "      <td>165</td>\n",
       "      <td>50</td>\n",
       "      <td>18.365473</td>\n",
       "    </tr>\n",
       "    <tr>\n",
       "      <th>3</th>\n",
       "      <td>FEMALE</td>\n",
       "      <td>78</td>\n",
       "      <td>65+</td>\n",
       "      <td>RURAL AREAS</td>\n",
       "      <td>PRIMARY/NO EDUCATION</td>\n",
       "      <td>RETIRED</td>\n",
       "      <td>WIDOWED</td>\n",
       "      <td>MIXED</td>\n",
       "      <td>16</td>\n",
       "      <td>ONE CAN`T BE TOO CAREFUL</td>\n",
       "      <td>...</td>\n",
       "      <td>YES</td>\n",
       "      <td>0</td>\n",
       "      <td>NO</td>\n",
       "      <td>NO</td>\n",
       "      <td>NO</td>\n",
       "      <td>NO</td>\n",
       "      <td>NONE</td>\n",
       "      <td>160</td>\n",
       "      <td>78</td>\n",
       "      <td>30.468750</td>\n",
       "    </tr>\n",
       "    <tr>\n",
       "      <th>4</th>\n",
       "      <td>FEMALE</td>\n",
       "      <td>54</td>\n",
       "      <td>45-59</td>\n",
       "      <td>URBAN 100,000-200,000</td>\n",
       "      <td>VOCATIONAL/GRAMMAR</td>\n",
       "      <td>SELF-EMPLOYED</td>\n",
       "      <td>MARRIED</td>\n",
       "      <td>MOSTLY SATISFIED</td>\n",
       "      <td>4</td>\n",
       "      <td>ONE CAN`T BE TOO CAREFUL</td>\n",
       "      <td>...</td>\n",
       "      <td>YES</td>\n",
       "      <td>6</td>\n",
       "      <td>YES</td>\n",
       "      <td>NO</td>\n",
       "      <td>NO</td>\n",
       "      <td>NO</td>\n",
       "      <td>NONE</td>\n",
       "      <td>158</td>\n",
       "      <td>50</td>\n",
       "      <td>20.028842</td>\n",
       "    </tr>\n",
       "  </tbody>\n",
       "</table>\n",
       "<p>5 rows × 22 columns</p>\n",
       "</div>"
      ],
      "text/plain": [
       "      sex  age  agegr               placesize                   edu  \\\n",
       "0  FEMALE   57  45-59   URBAN 100,000-200,000    VOCATIONAL/GRAMMAR   \n",
       "1    MALE   20  16-24             RURAL AREAS    VOCATIONAL/GRAMMAR   \n",
       "2  FEMALE   18  16-24  URBAN 500,000 AND OVER    VOCATIONAL/GRAMMAR   \n",
       "3  FEMALE   78    65+             RURAL AREAS  PRIMARY/NO EDUCATION   \n",
       "4  FEMALE   54  45-59   URBAN 100,000-200,000    VOCATIONAL/GRAMMAR   \n",
       "\n",
       "            socprof  marital                ls  depress  \\\n",
       "0           RETIRED  MARRIED           PLEASED        6   \n",
       "1  PUPIL OR STUDENT   SINGLE  MOSTLY SATISFIED        0   \n",
       "2  PUPIL OR STUDENT   SINGLE           PLEASED        0   \n",
       "3           RETIRED  WIDOWED             MIXED       16   \n",
       "4     SELF-EMPLOYED  MARRIED  MOSTLY SATISFIED        4   \n",
       "\n",
       "                        trust  ... sport nofriend smoke  alcabuse alcsol  \\\n",
       "0    ONE CAN`T BE TOO CAREFUL  ...    NO        6    NO        NO     NO   \n",
       "1      IT`S DIFFICULT TO TELL  ...    NO        4    NO        NO     NO   \n",
       "2  MOST PEOPLE CAN BE TRUSTED  ...    NO       20    NO        NO     NO   \n",
       "3    ONE CAN`T BE TOO CAREFUL  ...   YES        0    NO        NO     NO   \n",
       "4    ONE CAN`T BE TOO CAREFUL  ...   YES        6   YES        NO     NO   \n",
       "\n",
       "  wkabint englang height weight        bmi  \n",
       "0      NO    NONE    170     89  30.795848  \n",
       "1      NO  ACTIVE    187     82  23.449341  \n",
       "2      NO  ACTIVE    165     50  18.365473  \n",
       "3      NO    NONE    160     78  30.468750  \n",
       "4      NO    NONE    158     50  20.028842  \n",
       "\n",
       "[5 rows x 22 columns]"
      ]
     },
     "execution_count": 6,
     "metadata": {},
     "output_type": "execute_result"
    }
   ],
   "source": [
    "original.head()"
   ]
  },
  {
   "cell_type": "code",
   "execution_count": 7,
   "id": "d0e2aa3e-9a9c-473a-9c9d-67dda39ab37d",
   "metadata": {},
   "outputs": [
    {
     "data": {
      "text/html": [
       "<div>\n",
       "<style scoped>\n",
       "    .dataframe tbody tr th:only-of-type {\n",
       "        vertical-align: middle;\n",
       "    }\n",
       "\n",
       "    .dataframe tbody tr th {\n",
       "        vertical-align: top;\n",
       "    }\n",
       "\n",
       "    .dataframe thead th {\n",
       "        text-align: right;\n",
       "    }\n",
       "</style>\n",
       "<table border=\"1\" class=\"dataframe\">\n",
       "  <thead>\n",
       "    <tr style=\"text-align: right;\">\n",
       "      <th></th>\n",
       "      <th>age</th>\n",
       "      <th>depress</th>\n",
       "      <th>nofriend</th>\n",
       "      <th>height</th>\n",
       "      <th>weight</th>\n",
       "      <th>bmi</th>\n",
       "    </tr>\n",
       "  </thead>\n",
       "  <tbody>\n",
       "    <tr>\n",
       "      <th>count</th>\n",
       "      <td>4603.000000</td>\n",
       "      <td>4603.000000</td>\n",
       "      <td>4603.000000</td>\n",
       "      <td>4603.000000</td>\n",
       "      <td>4603.000000</td>\n",
       "      <td>4603.000000</td>\n",
       "    </tr>\n",
       "    <tr>\n",
       "      <th>mean</th>\n",
       "      <td>47.449055</td>\n",
       "      <td>4.509016</td>\n",
       "      <td>6.916142</td>\n",
       "      <td>168.732566</td>\n",
       "      <td>73.999566</td>\n",
       "      <td>25.951256</td>\n",
       "    </tr>\n",
       "    <tr>\n",
       "      <th>std</th>\n",
       "      <td>18.465555</td>\n",
       "      <td>4.230392</td>\n",
       "      <td>7.214682</td>\n",
       "      <td>9.276404</td>\n",
       "      <td>15.034077</td>\n",
       "      <td>4.731237</td>\n",
       "    </tr>\n",
       "    <tr>\n",
       "      <th>min</th>\n",
       "      <td>16.000000</td>\n",
       "      <td>0.000000</td>\n",
       "      <td>0.000000</td>\n",
       "      <td>116.000000</td>\n",
       "      <td>37.000000</td>\n",
       "      <td>12.962963</td>\n",
       "    </tr>\n",
       "    <tr>\n",
       "      <th>25%</th>\n",
       "      <td>32.000000</td>\n",
       "      <td>1.000000</td>\n",
       "      <td>3.000000</td>\n",
       "      <td>162.000000</td>\n",
       "      <td>62.000000</td>\n",
       "      <td>22.598140</td>\n",
       "    </tr>\n",
       "    <tr>\n",
       "      <th>50%</th>\n",
       "      <td>48.000000</td>\n",
       "      <td>4.000000</td>\n",
       "      <td>5.000000</td>\n",
       "      <td>168.000000</td>\n",
       "      <td>73.000000</td>\n",
       "      <td>25.535446</td>\n",
       "    </tr>\n",
       "    <tr>\n",
       "      <th>75%</th>\n",
       "      <td>61.000000</td>\n",
       "      <td>7.000000</td>\n",
       "      <td>10.000000</td>\n",
       "      <td>175.000000</td>\n",
       "      <td>84.000000</td>\n",
       "      <td>28.727377</td>\n",
       "    </tr>\n",
       "    <tr>\n",
       "      <th>max</th>\n",
       "      <td>97.000000</td>\n",
       "      <td>21.000000</td>\n",
       "      <td>99.000000</td>\n",
       "      <td>202.000000</td>\n",
       "      <td>150.000000</td>\n",
       "      <td>76.127550</td>\n",
       "    </tr>\n",
       "  </tbody>\n",
       "</table>\n",
       "</div>"
      ],
      "text/plain": [
       "               age      depress     nofriend       height       weight  \\\n",
       "count  4603.000000  4603.000000  4603.000000  4603.000000  4603.000000   \n",
       "mean     47.449055     4.509016     6.916142   168.732566    73.999566   \n",
       "std      18.465555     4.230392     7.214682     9.276404    15.034077   \n",
       "min      16.000000     0.000000     0.000000   116.000000    37.000000   \n",
       "25%      32.000000     1.000000     3.000000   162.000000    62.000000   \n",
       "50%      48.000000     4.000000     5.000000   168.000000    73.000000   \n",
       "75%      61.000000     7.000000    10.000000   175.000000    84.000000   \n",
       "max      97.000000    21.000000    99.000000   202.000000   150.000000   \n",
       "\n",
       "               bmi  \n",
       "count  4603.000000  \n",
       "mean     25.951256  \n",
       "std       4.731237  \n",
       "min      12.962963  \n",
       "25%      22.598140  \n",
       "50%      25.535446  \n",
       "75%      28.727377  \n",
       "max      76.127550  "
      ]
     },
     "execution_count": 7,
     "metadata": {},
     "output_type": "execute_result"
    }
   ],
   "source": [
    "num = ['age', 'depress', 'nofriend', 'height', 'weight', 'bmi']\n",
    "fac = ['sex', 'agegr', 'placesize', 'edu', 'socprof', 'marital',\n",
    "       'ls', 'trust', 'trustfam', 'trustneigh', 'sport', 'smoke',\n",
    "       'alcabuse', 'alcsol', 'wkabint', 'englang']\n",
    "\n",
    "original[num].describe()"
   ]
  },
  {
   "cell_type": "code",
   "execution_count": 8,
   "id": "bbd3076c-ef1e-401f-95ef-7064829700a8",
   "metadata": {},
   "outputs": [
    {
     "data": {
      "text/html": [
       "<div>\n",
       "<style scoped>\n",
       "    .dataframe tbody tr th:only-of-type {\n",
       "        vertical-align: middle;\n",
       "    }\n",
       "\n",
       "    .dataframe tbody tr th {\n",
       "        vertical-align: top;\n",
       "    }\n",
       "\n",
       "    .dataframe thead th {\n",
       "        text-align: right;\n",
       "    }\n",
       "</style>\n",
       "<table border=\"1\" class=\"dataframe\">\n",
       "  <thead>\n",
       "    <tr style=\"text-align: right;\">\n",
       "      <th></th>\n",
       "      <th>sex</th>\n",
       "      <th>agegr</th>\n",
       "      <th>placesize</th>\n",
       "      <th>edu</th>\n",
       "      <th>socprof</th>\n",
       "      <th>marital</th>\n",
       "      <th>ls</th>\n",
       "      <th>trust</th>\n",
       "      <th>trustfam</th>\n",
       "      <th>trustneigh</th>\n",
       "      <th>sport</th>\n",
       "      <th>smoke</th>\n",
       "      <th>alcabuse</th>\n",
       "      <th>alcsol</th>\n",
       "      <th>wkabint</th>\n",
       "      <th>englang</th>\n",
       "    </tr>\n",
       "  </thead>\n",
       "  <tbody>\n",
       "    <tr>\n",
       "      <th>count</th>\n",
       "      <td>4603</td>\n",
       "      <td>4603</td>\n",
       "      <td>4603</td>\n",
       "      <td>4603</td>\n",
       "      <td>4603</td>\n",
       "      <td>4603</td>\n",
       "      <td>4603</td>\n",
       "      <td>4603</td>\n",
       "      <td>4603</td>\n",
       "      <td>4603</td>\n",
       "      <td>4603</td>\n",
       "      <td>4603</td>\n",
       "      <td>4603</td>\n",
       "      <td>4603</td>\n",
       "      <td>4603</td>\n",
       "      <td>4603</td>\n",
       "    </tr>\n",
       "    <tr>\n",
       "      <th>unique</th>\n",
       "      <td>2</td>\n",
       "      <td>6</td>\n",
       "      <td>6</td>\n",
       "      <td>4</td>\n",
       "      <td>9</td>\n",
       "      <td>6</td>\n",
       "      <td>7</td>\n",
       "      <td>3</td>\n",
       "      <td>3</td>\n",
       "      <td>3</td>\n",
       "      <td>2</td>\n",
       "      <td>2</td>\n",
       "      <td>2</td>\n",
       "      <td>2</td>\n",
       "      <td>3</td>\n",
       "      <td>3</td>\n",
       "    </tr>\n",
       "    <tr>\n",
       "      <th>top</th>\n",
       "      <td>FEMALE</td>\n",
       "      <td>45-59</td>\n",
       "      <td>RURAL AREAS</td>\n",
       "      <td>VOCATIONAL/GRAMMAR</td>\n",
       "      <td>RETIRED</td>\n",
       "      <td>MARRIED</td>\n",
       "      <td>PLEASED</td>\n",
       "      <td>ONE CAN`T BE TOO CAREFUL</td>\n",
       "      <td>YES</td>\n",
       "      <td>YES</td>\n",
       "      <td>YES</td>\n",
       "      <td>NO</td>\n",
       "      <td>NO</td>\n",
       "      <td>NO</td>\n",
       "      <td>NO</td>\n",
       "      <td>NONE</td>\n",
       "    </tr>\n",
       "    <tr>\n",
       "      <th>freq</th>\n",
       "      <td>2596</td>\n",
       "      <td>1243</td>\n",
       "      <td>2221</td>\n",
       "      <td>1480</td>\n",
       "      <td>1132</td>\n",
       "      <td>2752</td>\n",
       "      <td>1799</td>\n",
       "      <td>3515</td>\n",
       "      <td>4127</td>\n",
       "      <td>2731</td>\n",
       "      <td>2981</td>\n",
       "      <td>3415</td>\n",
       "      <td>4304</td>\n",
       "      <td>4448</td>\n",
       "      <td>4297</td>\n",
       "      <td>3174</td>\n",
       "    </tr>\n",
       "  </tbody>\n",
       "</table>\n",
       "</div>"
      ],
      "text/plain": [
       "           sex  agegr    placesize                 edu  socprof  marital  \\\n",
       "count     4603   4603         4603                4603     4603     4603   \n",
       "unique       2      6            6                   4        9        6   \n",
       "top     FEMALE  45-59  RURAL AREAS  VOCATIONAL/GRAMMAR  RETIRED  MARRIED   \n",
       "freq      2596   1243         2221                1480     1132     2752   \n",
       "\n",
       "             ls                     trust trustfam trustneigh sport smoke  \\\n",
       "count      4603                      4603     4603       4603  4603  4603   \n",
       "unique        7                         3        3          3     2     2   \n",
       "top     PLEASED  ONE CAN`T BE TOO CAREFUL      YES        YES   YES    NO   \n",
       "freq       1799                      3515     4127       2731  2981  3415   \n",
       "\n",
       "       alcabuse alcsol wkabint englang  \n",
       "count      4603   4603    4603    4603  \n",
       "unique        2      2       3       3  \n",
       "top          NO     NO      NO    NONE  \n",
       "freq       4304   4448    4297    3174  "
      ]
     },
     "execution_count": 8,
     "metadata": {},
     "output_type": "execute_result"
    }
   ],
   "source": [
    "original[fac].describe()"
   ]
  },
  {
   "cell_type": "markdown",
   "id": "9d454867-a908-40bc-a4fa-442211614283",
   "metadata": {},
   "source": [
    "## Génération des données"
   ]
  },
  {
   "cell_type": "code",
   "execution_count": 23,
   "id": "2d3d0369-3617-4c36-aecd-681498a36656",
   "metadata": {
    "scrolled": true
   },
   "outputs": [
    {
     "data": {
      "text/plain": [
       "{\n",
       "    \"columns\": {\n",
       "        \"sex\": {\n",
       "            \"sdtype\": \"categorical\"\n",
       "        },\n",
       "        \"age\": {\n",
       "            \"sdtype\": \"numerical\"\n",
       "        },\n",
       "        \"agegr\": {\n",
       "            \"sdtype\": \"categorical\"\n",
       "        },\n",
       "        \"placesize\": {\n",
       "            \"sdtype\": \"categorical\"\n",
       "        },\n",
       "        \"edu\": {\n",
       "            \"sdtype\": \"categorical\"\n",
       "        },\n",
       "        \"socprof\": {\n",
       "            \"sdtype\": \"categorical\"\n",
       "        },\n",
       "        \"marital\": {\n",
       "            \"sdtype\": \"categorical\"\n",
       "        },\n",
       "        \"ls\": {\n",
       "            \"sdtype\": \"categorical\"\n",
       "        },\n",
       "        \"depress\": {\n",
       "            \"sdtype\": \"numerical\"\n",
       "        },\n",
       "        \"trust\": {\n",
       "            \"sdtype\": \"categorical\"\n",
       "        },\n",
       "        \"trustfam\": {\n",
       "            \"sdtype\": \"categorical\"\n",
       "        },\n",
       "        \"trustneigh\": {\n",
       "            \"sdtype\": \"categorical\"\n",
       "        },\n",
       "        \"sport\": {\n",
       "            \"sdtype\": \"categorical\"\n",
       "        },\n",
       "        \"nofriend\": {\n",
       "            \"sdtype\": \"numerical\"\n",
       "        },\n",
       "        \"smoke\": {\n",
       "            \"sdtype\": \"categorical\"\n",
       "        },\n",
       "        \"alcabuse\": {\n",
       "            \"sdtype\": \"categorical\"\n",
       "        },\n",
       "        \"alcsol\": {\n",
       "            \"sdtype\": \"categorical\"\n",
       "        },\n",
       "        \"wkabint\": {\n",
       "            \"sdtype\": \"categorical\"\n",
       "        },\n",
       "        \"englang\": {\n",
       "            \"sdtype\": \"categorical\"\n",
       "        },\n",
       "        \"height\": {\n",
       "            \"sdtype\": \"numerical\"\n",
       "        },\n",
       "        \"weight\": {\n",
       "            \"sdtype\": \"numerical\"\n",
       "        },\n",
       "        \"bmi\": {\n",
       "            \"sdtype\": \"numerical\"\n",
       "        },\n",
       "        \"t\": {\n",
       "            \"sdtype\": \"categorical\"\n",
       "        }\n",
       "    },\n",
       "    \"METADATA_SPEC_VERSION\": \"SINGLE_TABLE_V1\"\n",
       "}"
      ]
     },
     "execution_count": 23,
     "metadata": {},
     "output_type": "execute_result"
    }
   ],
   "source": [
    "original['t'] = 0\n",
    "metadata = SingleTableMetadata()\n",
    "metadata.detect_from_dataframe(original)\n",
    "metadata"
   ]
  },
  {
   "cell_type": "markdown",
   "id": "9989179d-ffe1-4c12-b80b-3798f624338c",
   "metadata": {},
   "source": [
    "## Grid search"
   ]
  },
  {
   "cell_type": "code",
   "execution_count": 169,
   "id": "3b53a39b-993f-4c1d-bb14-ed707739dc98",
   "metadata": {},
   "outputs": [
    {
     "name": "stderr",
     "output_type": "stream",
     "text": [
      "Gen. (-8.25) | Discrim. (6.76): 100%|██████████| 500/500 [06:42<00:00,  1.24it/s]       \n"
     ]
    },
    {
     "name": "stdout",
     "output_type": "stream",
     "text": [
      "Temps pris pour entraîner le modèle avec batch_size=1000, discriminator_lr=0.1, generator_lr=0.1: 408.0361828804016 secondes\n",
      "pMSE: 0.012926352378883336\n"
     ]
    },
    {
     "data": {
      "application/vnd.jupyter.widget-view+json": {
       "model_id": "41aec149729d4b3184c781bfa38fa8a9",
       "version_major": 2,
       "version_minor": 0
      },
      "text/plain": [
       "Downloading artifacts:   0%|          | 0/1 [00:00<?, ?it/s]"
      ]
     },
     "metadata": {},
     "output_type": "display_data"
    },
    {
     "name": "stderr",
     "output_type": "stream",
     "text": [
      "Gen. (-104.38) | Discrim. (2.09): 100%|██████████| 500/500 [06:26<00:00,  1.29it/s]    \n"
     ]
    },
    {
     "name": "stdout",
     "output_type": "stream",
     "text": [
      "Temps pris pour entraîner le modèle avec batch_size=1000, discriminator_lr=0.1, generator_lr=0.0001: 391.853634595871 secondes\n",
      "pMSE: 0.01140560504019118\n"
     ]
    },
    {
     "data": {
      "application/vnd.jupyter.widget-view+json": {
       "model_id": "f307f108d92b4c8e8a6bcedcd4598457",
       "version_major": 2,
       "version_minor": 0
      },
      "text/plain": [
       "Downloading artifacts:   0%|          | 0/1 [00:00<?, ?it/s]"
      ]
     },
     "metadata": {},
     "output_type": "display_data"
    },
    {
     "name": "stderr",
     "output_type": "stream",
     "text": [
      "Gen. (-1540.36) | Discrim. (-453.44): 100%|██████████| 500/500 [06:20<00:00,  1.31it/s]\n"
     ]
    },
    {
     "name": "stdout",
     "output_type": "stream",
     "text": [
      "Temps pris pour entraîner le modèle avec batch_size=1000, discriminator_lr=0.1, generator_lr=1e-08: 386.48134446144104 secondes\n",
      "pMSE: 0.012057353899630675\n"
     ]
    },
    {
     "data": {
      "application/vnd.jupyter.widget-view+json": {
       "model_id": "bb732b73bfa54a40999abe8645b46db2",
       "version_major": 2,
       "version_minor": 0
      },
      "text/plain": [
       "Downloading artifacts:   0%|          | 0/1 [00:00<?, ?it/s]"
      ]
     },
     "metadata": {},
     "output_type": "display_data"
    },
    {
     "name": "stderr",
     "output_type": "stream",
     "text": [
      "Gen. (3.69) | Discrim. (-3.81): 100%|██████████| 500/500 [06:25<00:00,  1.30it/s]\n"
     ]
    },
    {
     "name": "stdout",
     "output_type": "stream",
     "text": [
      "Temps pris pour entraîner le modèle avec batch_size=1000, discriminator_lr=0.0001, generator_lr=0.1: 390.7351677417755 secondes\n",
      "pMSE: 0.013143601998696502\n"
     ]
    },
    {
     "data": {
      "application/vnd.jupyter.widget-view+json": {
       "model_id": "ceaca2630ea54614999d1bb5a6ea8269",
       "version_major": 2,
       "version_minor": 0
      },
      "text/plain": [
       "Downloading artifacts:   0%|          | 0/1 [00:00<?, ?it/s]"
      ]
     },
     "metadata": {},
     "output_type": "display_data"
    },
    {
     "name": "stderr",
     "output_type": "stream",
     "text": [
      "Gen. (-0.78) | Discrim. (-0.21): 100%|██████████| 500/500 [06:18<00:00,  1.32it/s]\n"
     ]
    },
    {
     "name": "stdout",
     "output_type": "stream",
     "text": [
      "Temps pris pour entraîner le modèle avec batch_size=1000, discriminator_lr=0.0001, generator_lr=0.0001: 383.8818597793579 secondes\n",
      "pMSE: 0.010862480990658266\n"
     ]
    },
    {
     "data": {
      "application/vnd.jupyter.widget-view+json": {
       "model_id": "7c1241cfe0e34e3fb5a606aeeda18222",
       "version_major": 2,
       "version_minor": 0
      },
      "text/plain": [
       "Downloading artifacts:   0%|          | 0/1 [00:00<?, ?it/s]"
      ]
     },
     "metadata": {},
     "output_type": "display_data"
    },
    {
     "name": "stderr",
     "output_type": "stream",
     "text": [
      "Gen. (2.13) | Discrim. (-7.41): 100%|██████████| 500/500 [06:20<00:00,  1.31it/s]\n"
     ]
    },
    {
     "name": "stdout",
     "output_type": "stream",
     "text": [
      "Temps pris pour entraîner le modèle avec batch_size=1000, discriminator_lr=0.0001, generator_lr=1e-08: 385.9486515522003 secondes\n",
      "pMSE: 0.012926352378883336\n"
     ]
    },
    {
     "data": {
      "application/vnd.jupyter.widget-view+json": {
       "model_id": "bdd70be4ebdf4d2190c448427b70faca",
       "version_major": 2,
       "version_minor": 0
      },
      "text/plain": [
       "Downloading artifacts:   0%|          | 0/1 [00:00<?, ?it/s]"
      ]
     },
     "metadata": {},
     "output_type": "display_data"
    },
    {
     "name": "stderr",
     "output_type": "stream",
     "text": [
      "Gen. (-0.08) | Discrim. (0.14): 100%|██████████| 500/500 [06:39<00:00,  1.25it/s]\n"
     ]
    },
    {
     "name": "stdout",
     "output_type": "stream",
     "text": [
      "Temps pris pour entraîner le modèle avec batch_size=1000, discriminator_lr=1e-08, generator_lr=0.1: 404.811491727829 secondes\n",
      "pMSE: 0.011731479469910927\n"
     ]
    },
    {
     "data": {
      "application/vnd.jupyter.widget-view+json": {
       "model_id": "7990f6a629984d628a7317a15cde7901",
       "version_major": 2,
       "version_minor": 0
      },
      "text/plain": [
       "Downloading artifacts:   0%|          | 0/1 [00:00<?, ?it/s]"
      ]
     },
     "metadata": {},
     "output_type": "display_data"
    },
    {
     "name": "stderr",
     "output_type": "stream",
     "text": [
      "Gen. (-0.23) | Discrim. (0.19): 100%|██████████| 500/500 [06:23<00:00,  1.31it/s]\n"
     ]
    },
    {
     "name": "stdout",
     "output_type": "stream",
     "text": [
      "Temps pris pour entraîner le modèle avec batch_size=1000, discriminator_lr=1e-08, generator_lr=0.0001: 388.68825125694275 secondes\n",
      "pMSE: 0.010536606560938518\n"
     ]
    },
    {
     "data": {
      "application/vnd.jupyter.widget-view+json": {
       "model_id": "25cf2ca08d34460e8de3b9850317f9e9",
       "version_major": 2,
       "version_minor": 0
      },
      "text/plain": [
       "Downloading artifacts:   0%|          | 0/1 [00:00<?, ?it/s]"
      ]
     },
     "metadata": {},
     "output_type": "display_data"
    },
    {
     "name": "stderr",
     "output_type": "stream",
     "text": [
      "Gen. (1.24) | Discrim. (-0.02): 100%|██████████| 500/500 [06:38<00:00,  1.25it/s]\n"
     ]
    },
    {
     "name": "stdout",
     "output_type": "stream",
     "text": [
      "Temps pris pour entraîner le modèle avec batch_size=1000, discriminator_lr=1e-08, generator_lr=1e-08: 404.54001665115356 secondes\n",
      "pMSE: 0.012709102759070171\n"
     ]
    },
    {
     "data": {
      "application/vnd.jupyter.widget-view+json": {
       "model_id": "f9c87e488298487eb6c568c7748ed297",
       "version_major": 2,
       "version_minor": 0
      },
      "text/plain": [
       "Downloading artifacts:   0%|          | 0/1 [00:00<?, ?it/s]"
      ]
     },
     "metadata": {},
     "output_type": "display_data"
    },
    {
     "name": "stderr",
     "output_type": "stream",
     "text": [
      "Gen. (-160.76) | Discrim. (15.92): 100%|██████████| 500/500 [08:29<00:00,  1.02s/it]    \n"
     ]
    },
    {
     "name": "stdout",
     "output_type": "stream",
     "text": [
      "Temps pris pour entraîner le modèle avec batch_size=500, discriminator_lr=0.1, generator_lr=0.1: 515.1154751777649 secondes\n",
      "pMSE: 0.01509884857701499\n"
     ]
    },
    {
     "data": {
      "application/vnd.jupyter.widget-view+json": {
       "model_id": "a8c9f64bc9a7459580bbd775dd67e807",
       "version_major": 2,
       "version_minor": 0
      },
      "text/plain": [
       "Downloading artifacts:   0%|          | 0/1 [00:00<?, ?it/s]"
      ]
     },
     "metadata": {},
     "output_type": "display_data"
    },
    {
     "name": "stderr",
     "output_type": "stream",
     "text": [
      "Gen. (-23.09) | Discrim. (38.28): 100%|██████████| 500/500 [08:16<00:00,  1.01it/s]     \n"
     ]
    },
    {
     "name": "stdout",
     "output_type": "stream",
     "text": [
      "Temps pris pour entraîner le modèle avec batch_size=500, discriminator_lr=0.1, generator_lr=0.0001: 502.5890772342682 secondes\n",
      "pMSE: 0.010427981751031936\n"
     ]
    },
    {
     "data": {
      "application/vnd.jupyter.widget-view+json": {
       "model_id": "f578b6e497964a75a25b8262b5565f33",
       "version_major": 2,
       "version_minor": 0
      },
      "text/plain": [
       "Downloading artifacts:   0%|          | 0/1 [00:00<?, ?it/s]"
      ]
     },
     "metadata": {},
     "output_type": "display_data"
    },
    {
     "name": "stderr",
     "output_type": "stream",
     "text": [
      "Gen. (63.15) | Discrim. (14.42): 100%|██████████| 500/500 [09:44<00:00,  1.17s/it]     \n"
     ]
    },
    {
     "name": "stdout",
     "output_type": "stream",
     "text": [
      "Temps pris pour entraîner le modèle avec batch_size=500, discriminator_lr=0.1, generator_lr=1e-08: 590.0950338840485 secondes\n",
      "pMSE: 0.014121225287855746\n"
     ]
    },
    {
     "data": {
      "application/vnd.jupyter.widget-view+json": {
       "model_id": "37cedd0637bf4bea88474c3ddc9def2e",
       "version_major": 2,
       "version_minor": 0
      },
      "text/plain": [
       "Downloading artifacts:   0%|          | 0/1 [00:00<?, ?it/s]"
      ]
     },
     "metadata": {},
     "output_type": "display_data"
    },
    {
     "name": "stderr",
     "output_type": "stream",
     "text": [
      "Gen. (2.66) | Discrim. (-2.49): 100%|██████████| 500/500 [09:54<00:00,  1.19s/it]\n"
     ]
    },
    {
     "name": "stdout",
     "output_type": "stream",
     "text": [
      "Temps pris pour entraîner le modèle avec batch_size=500, discriminator_lr=0.0001, generator_lr=0.1: 601.1336843967438 secondes\n",
      "pMSE: 0.014447099717575494\n"
     ]
    },
    {
     "data": {
      "application/vnd.jupyter.widget-view+json": {
       "model_id": "82861d560a044b2fb745628d61e458e4",
       "version_major": 2,
       "version_minor": 0
      },
      "text/plain": [
       "Downloading artifacts:   0%|          | 0/1 [00:00<?, ?it/s]"
      ]
     },
     "metadata": {},
     "output_type": "display_data"
    },
    {
     "name": "stderr",
     "output_type": "stream",
     "text": [
      "Gen. (-1.13) | Discrim. (0.02): 100%|██████████| 500/500 [11:45<00:00,  1.41s/it] \n"
     ]
    },
    {
     "name": "stdout",
     "output_type": "stream",
     "text": [
      "Temps pris pour entraîner le modèle avec batch_size=500, discriminator_lr=0.0001, generator_lr=0.0001: 712.6644465923309 secondes\n",
      "pMSE: 0.010427981751031936\n"
     ]
    },
    {
     "data": {
      "application/vnd.jupyter.widget-view+json": {
       "model_id": "21249df666e14c728358d2ca61a567c2",
       "version_major": 2,
       "version_minor": 0
      },
      "text/plain": [
       "Downloading artifacts:   0%|          | 0/1 [00:00<?, ?it/s]"
      ]
     },
     "metadata": {},
     "output_type": "display_data"
    },
    {
     "name": "stderr",
     "output_type": "stream",
     "text": [
      "Gen. (1.28) | Discrim. (-7.14): 100%|██████████| 500/500 [08:22<00:00,  1.01s/it]\n"
     ]
    },
    {
     "name": "stdout",
     "output_type": "stream",
     "text": [
      "Temps pris pour entraîner le modèle avec batch_size=500, discriminator_lr=0.0001, generator_lr=1e-08: 508.6518998146057 secondes\n",
      "pMSE: 0.012709102759070171\n"
     ]
    },
    {
     "data": {
      "application/vnd.jupyter.widget-view+json": {
       "model_id": "3fed5fb5b2a54c1189b376eef930ed11",
       "version_major": 2,
       "version_minor": 0
      },
      "text/plain": [
       "Downloading artifacts:   0%|          | 0/1 [00:00<?, ?it/s]"
      ]
     },
     "metadata": {},
     "output_type": "display_data"
    },
    {
     "name": "stderr",
     "output_type": "stream",
     "text": [
      "Gen. (-0.17) | Discrim. (0.11): 100%|██████████| 500/500 [09:21<00:00,  1.12s/it]\n"
     ]
    },
    {
     "name": "stdout",
     "output_type": "stream",
     "text": [
      "Temps pris pour entraîner le modèle avec batch_size=500, discriminator_lr=1e-08, generator_lr=0.1: 567.5373756885529 secondes\n",
      "pMSE: 0.010319356941125353\n"
     ]
    },
    {
     "data": {
      "application/vnd.jupyter.widget-view+json": {
       "model_id": "0635811c5a5346c286e573f4a7e19efb",
       "version_major": 2,
       "version_minor": 0
      },
      "text/plain": [
       "Downloading artifacts:   0%|          | 0/1 [00:00<?, ?it/s]"
      ]
     },
     "metadata": {},
     "output_type": "display_data"
    },
    {
     "name": "stderr",
     "output_type": "stream",
     "text": [
      "Gen. (-0.20) | Discrim. (0.19): 100%|██████████| 500/500 [29:37<00:00,  3.56s/it]  \n"
     ]
    },
    {
     "name": "stdout",
     "output_type": "stream",
     "text": [
      "Temps pris pour entraîner le modèle avec batch_size=500, discriminator_lr=1e-08, generator_lr=0.0001: 1784.4041848182678 secondes\n",
      "pMSE: 0.014664349337388659\n"
     ]
    },
    {
     "data": {
      "application/vnd.jupyter.widget-view+json": {
       "model_id": "6fb640e4c94d4c0880afa079491aab73",
       "version_major": 2,
       "version_minor": 0
      },
      "text/plain": [
       "Downloading artifacts:   0%|          | 0/1 [00:00<?, ?it/s]"
      ]
     },
     "metadata": {},
     "output_type": "display_data"
    },
    {
     "name": "stderr",
     "output_type": "stream",
     "text": [
      "Gen. (1.26) | Discrim. (-0.00): 100%|██████████| 500/500 [08:18<00:00,  1.00it/s]\n"
     ]
    },
    {
     "name": "stdout",
     "output_type": "stream",
     "text": [
      "Temps pris pour entraîner le modèle avec batch_size=500, discriminator_lr=1e-08, generator_lr=1e-08: 504.95829248428345 secondes\n",
      "pMSE: 0.012057353899630675\n"
     ]
    },
    {
     "data": {
      "application/vnd.jupyter.widget-view+json": {
       "model_id": "763b3ea9a56b4682a6d480c6d58b8767",
       "version_major": 2,
       "version_minor": 0
      },
      "text/plain": [
       "Downloading artifacts:   0%|          | 0/1 [00:00<?, ?it/s]"
      ]
     },
     "metadata": {},
     "output_type": "display_data"
    },
    {
     "name": "stderr",
     "output_type": "stream",
     "text": [
      "Gen. (-111.17) | Discrim. (-610.74): 100%|██████████| 500/500 [29:09<00:00,  3.50s/it] \n"
     ]
    },
    {
     "name": "stdout",
     "output_type": "stream",
     "text": [
      "Temps pris pour entraîner le modèle avec batch_size=100, discriminator_lr=0.1, generator_lr=0.1: 1755.004902124405 secondes\n",
      "pMSE: 0.011622854660004345\n"
     ]
    },
    {
     "data": {
      "application/vnd.jupyter.widget-view+json": {
       "model_id": "417f80465a5f49c682ebcb1c68393c7a",
       "version_major": 2,
       "version_minor": 0
      },
      "text/plain": [
       "Downloading artifacts:   0%|          | 0/1 [00:00<?, ?it/s]"
      ]
     },
     "metadata": {},
     "output_type": "display_data"
    },
    {
     "name": "stderr",
     "output_type": "stream",
     "text": [
      "Gen. (161.04) | Discrim. (264.29): 100%|██████████| 500/500 [29:13<00:00,  3.51s/it]    \n"
     ]
    },
    {
     "name": "stdout",
     "output_type": "stream",
     "text": [
      "Temps pris pour entraîner le modèle avec batch_size=100, discriminator_lr=0.1, generator_lr=0.0001: 1758.949729681015 secondes\n",
      "pMSE: 0.015207473386921572\n"
     ]
    },
    {
     "data": {
      "application/vnd.jupyter.widget-view+json": {
       "model_id": "e9c55b41919c483c900cd06e42ee4593",
       "version_major": 2,
       "version_minor": 0
      },
      "text/plain": [
       "Downloading artifacts:   0%|          | 0/1 [00:00<?, ?it/s]"
      ]
     },
     "metadata": {},
     "output_type": "display_data"
    },
    {
     "name": "stderr",
     "output_type": "stream",
     "text": [
      "Gen. (-1142.96) | Discrim. (39.81): 100%|██████████| 500/500 [29:04<00:00,  3.49s/it]  \n"
     ]
    },
    {
     "name": "stdout",
     "output_type": "stream",
     "text": [
      "Temps pris pour entraîner le modèle avec batch_size=100, discriminator_lr=0.1, generator_lr=1e-08: 1750.2776701450348 secondes\n",
      "pMSE: 0.011079730610471432\n"
     ]
    },
    {
     "data": {
      "application/vnd.jupyter.widget-view+json": {
       "model_id": "42e5379417bb4fc89887ace974b0bb75",
       "version_major": 2,
       "version_minor": 0
      },
      "text/plain": [
       "Downloading artifacts:   0%|          | 0/1 [00:00<?, ?it/s]"
      ]
     },
     "metadata": {},
     "output_type": "display_data"
    },
    {
     "name": "stderr",
     "output_type": "stream",
     "text": [
      "Gen. (4.32) | Discrim. (-4.21): 100%|██████████| 500/500 [30:02<00:00,  3.61s/it]\n"
     ]
    },
    {
     "name": "stdout",
     "output_type": "stream",
     "text": [
      "Temps pris pour entraîner le modèle avec batch_size=100, discriminator_lr=0.0001, generator_lr=0.1: 1808.4013040065765 secondes\n",
      "pMSE: 0.010753856180751684\n"
     ]
    },
    {
     "data": {
      "application/vnd.jupyter.widget-view+json": {
       "model_id": "e29a3be997e24beba2cd3a8b4cf1c8db",
       "version_major": 2,
       "version_minor": 0
      },
      "text/plain": [
       "Downloading artifacts:   0%|          | 0/1 [00:00<?, ?it/s]"
      ]
     },
     "metadata": {},
     "output_type": "display_data"
    },
    {
     "name": "stderr",
     "output_type": "stream",
     "text": [
      "Gen. (-0.68) | Discrim. (0.77): 100%|██████████| 500/500 [55:57<00:00,  6.71s/it]   \n"
     ]
    },
    {
     "name": "stdout",
     "output_type": "stream",
     "text": [
      "Temps pris pour entraîner le modèle avec batch_size=100, discriminator_lr=0.0001, generator_lr=0.0001: 3363.130167722702 secondes\n",
      "pMSE: 0.011731479469910927\n"
     ]
    },
    {
     "data": {
      "application/vnd.jupyter.widget-view+json": {
       "model_id": "ccc003cfa2ef44f7891e67637c95b712",
       "version_major": 2,
       "version_minor": 0
      },
      "text/plain": [
       "Downloading artifacts:   0%|          | 0/1 [00:00<?, ?it/s]"
      ]
     },
     "metadata": {},
     "output_type": "display_data"
    },
    {
     "name": "stderr",
     "output_type": "stream",
     "text": [
      "Gen. (1.58) | Discrim. (-7.61): 100%|██████████| 500/500 [29:38<00:00,  3.56s/it] \n"
     ]
    },
    {
     "name": "stdout",
     "output_type": "stream",
     "text": [
      "Temps pris pour entraîner le modèle avec batch_size=100, discriminator_lr=0.0001, generator_lr=1e-08: 1784.522857427597 secondes\n",
      "pMSE: 0.012057353899630675\n"
     ]
    },
    {
     "data": {
      "application/vnd.jupyter.widget-view+json": {
       "model_id": "a8b2606bee4b4c0991452322e4433d21",
       "version_major": 2,
       "version_minor": 0
      },
      "text/plain": [
       "Downloading artifacts:   0%|          | 0/1 [00:00<?, ?it/s]"
      ]
     },
     "metadata": {},
     "output_type": "display_data"
    },
    {
     "name": "stderr",
     "output_type": "stream",
     "text": [
      "Gen. (0.05) | Discrim. (0.09): 100%|██████████| 500/500 [44:53<00:00,  5.39s/it]   \n"
     ]
    },
    {
     "name": "stdout",
     "output_type": "stream",
     "text": [
      "Temps pris pour entraîner le modèle avec batch_size=100, discriminator_lr=1e-08, generator_lr=0.1: 2699.2863824367523 secondes\n",
      "pMSE: 0.009884857701499022\n"
     ]
    },
    {
     "data": {
      "application/vnd.jupyter.widget-view+json": {
       "model_id": "25d0e93bee4849b7a615f3c7e4acbcfe",
       "version_major": 2,
       "version_minor": 0
      },
      "text/plain": [
       "Downloading artifacts:   0%|          | 0/1 [00:00<?, ?it/s]"
      ]
     },
     "metadata": {},
     "output_type": "display_data"
    },
    {
     "name": "stderr",
     "output_type": "stream",
     "text": [
      "Gen. (-0.06) | Discrim. (0.07): 100%|██████████| 500/500 [37:13<00:00,  4.47s/it]  \n"
     ]
    },
    {
     "name": "stdout",
     "output_type": "stream",
     "text": [
      "Temps pris pour entraîner le modèle avec batch_size=100, discriminator_lr=1e-08, generator_lr=0.0001: 2239.33203792572 secondes\n",
      "pMSE: 0.011188355420378014\n"
     ]
    },
    {
     "data": {
      "application/vnd.jupyter.widget-view+json": {
       "model_id": "72a417954154445794e5642537a0c705",
       "version_major": 2,
       "version_minor": 0
      },
      "text/plain": [
       "Downloading artifacts:   0%|          | 0/1 [00:00<?, ?it/s]"
      ]
     },
     "metadata": {},
     "output_type": "display_data"
    },
    {
     "name": "stderr",
     "output_type": "stream",
     "text": [
      "Gen. (1.22) | Discrim. (-0.04): 100%|██████████| 500/500 [35:20<00:00,  4.24s/it] \n"
     ]
    },
    {
     "name": "stdout",
     "output_type": "stream",
     "text": [
      "Temps pris pour entraîner le modèle avec batch_size=100, discriminator_lr=1e-08, generator_lr=1e-08: 2125.996749162674 secondes\n",
      "pMSE: 0.013360851618509667\n"
     ]
    },
    {
     "data": {
      "application/vnd.jupyter.widget-view+json": {
       "model_id": "165eef94b1684369b5a277d22c4d50ed",
       "version_major": 2,
       "version_minor": 0
      },
      "text/plain": [
       "Downloading artifacts:   0%|          | 0/1 [00:00<?, ?it/s]"
      ]
     },
     "metadata": {},
     "output_type": "display_data"
    }
   ],
   "source": [
    "import itertools\n",
    "import yaml\n",
    "from yaml.loader import SafeLoader\n",
    "import mlflow\n",
    "from sdv.single_table import CTGANSynthesizer\n",
    "import mlflow.pyfunc\n",
    "import joblib\n",
    "import os\n",
    "import time\n",
    "from sklearn.tree import DecisionTreeClassifier\n",
    "from sklearn.metrics import mean_squared_error\n",
    "from sklearn.model_selection import train_test_split\n",
    "import pandas as pd\n",
    "\n",
    "# Charger les configurations du fichier YAML\n",
    "with open(\"SDV/config.yml\") as f:\n",
    "    config = yaml.load(f, Loader=SafeLoader)\n",
    "\n",
    "class CTGANWrapper(mlflow.pyfunc.PythonModel):\n",
    "    def __init__(self):\n",
    "        self.model = None\n",
    "\n",
    "    def load_context(self, context):\n",
    "        self.model = joblib.load(context.artifacts[\"model_path\"])\n",
    "\n",
    "    def predict(self, context, model_input):\n",
    "        return self.model.sample(len(model_input))\n",
    "\n",
    "remote_server_uri = os.environ[\"MLFLOW_TRACKING_URI\"]\n",
    "experiment_name = 'Default'\n",
    "run_name = 'grid_search'\n",
    "\n",
    "mlflow.set_tracking_uri(remote_server_uri)\n",
    "mlflow.set_experiment(experiment_name)\n",
    "\n",
    "batch_size_values = config['batch_size']\n",
    "discriminator_lr_values = config['discriminator_lr']\n",
    "generator_lr_values = config['generator_lr']\n",
    "\n",
    "param_combinations = list(itertools.product(batch_size_values, discriminator_lr_values, generator_lr_values))\n",
    "\n",
    "for param_set in param_combinations:\n",
    "    batch_size, discriminator_lr, generator_lr = param_set\n",
    "    run_name = f\"epochs_500_bs_{batch_size}_disc_lr_{discriminator_lr}_gen_lr_{generator_lr}\"\n",
    "\n",
    "    with mlflow.start_run(run_name=run_name):\n",
    "        # Log des paramètres de configuration\n",
    "        mlflow.log_param('batch_size', batch_size)\n",
    "        mlflow.log_param('discriminator_lr', discriminator_lr)\n",
    "        mlflow.log_param('generator_lr', generator_lr)\n",
    "        mlflow.log_param('run_name', run_name)\n",
    "\n",
    "        # Entraînement\n",
    "        start_time1 = time.time()\n",
    "        ctgan = CTGANSynthesizer(metadata, verbose=True, batch_size=batch_size, discriminator_lr=discriminator_lr, generator_lr=generator_lr, epochs=500)\n",
    "        ctgan.fit(original)\n",
    "        end_time1 = time.time()\n",
    "\n",
    "        elapsed_time1 = end_time1 - start_time1\n",
    "        mlflow.log_metric(\"elapsed_time\", elapsed_time1)\n",
    "        print(f\"Temps pris pour entraîner le modèle avec batch_size={batch_size}, discriminator_lr={discriminator_lr}, generator_lr={generator_lr}: {elapsed_time1} secondes\")\n",
    "\n",
    "        # Calcul du pMSE\n",
    "        synthetique = ctgan.predict(original)\n",
    "        synthetique['t'] = 1\n",
    "        original['t'] = 0\n",
    "        c = synthetique.shape[0] / (synthetique.shape[0] + original.shape[0])\n",
    "        \n",
    "        df_comb = pd.concat([original, synthetique], ignore_index=True)\n",
    "        df_comb_enc = pd.get_dummies(df_comb, columns=fac)\n",
    "        X = df_comb_enc.drop(columns=['t'])\n",
    "        y = df_comb_enc['t']\n",
    "        \n",
    "        model = DecisionTreeClassifier(random_state=1)\n",
    "        model.fit(X, y)\n",
    "        prop = model.predict(X)\n",
    "        pMSE = mean_squared_error(c, prop)\n",
    "        print(f'pMSE: {pMSE}')\n",
    "\n",
    "        # Log des pertes du générateur et du discriminateur\n",
    "        loss = ctgan.get_loss_values()\n",
    "        generator_losses = loss['Generator Loss'].tolist()\n",
    "        discriminator_losses = loss['Discriminator Loss'].tolist()\n",
    "        for epoch, loss in enumerate(generator_losses):\n",
    "            mlflow.log_metric(\"generator_loss\", loss, step=epoch)\n",
    "        for epoch, loss in enumerate(discriminator_losses):\n",
    "            mlflow.log_metric(\"discriminator_loss\", loss, step=epoch)\n",
    "\n",
    "        # Sauvegarde du modèle\n",
    "        model_path = f\"ctgan_model_{run_name}.pkl\"\n",
    "        joblib.dump(ctgan, model_path)\n",
    "        mlflow.pyfunc.log_model(\n",
    "            artifact_path=\"ctgan_model\",\n",
    "            python_model=CTGANWrapper(),\n",
    "            artifacts={\"model_path\": model_path},\n",
    "        )\n",
    "    mlflow.end_run()"
   ]
  },
  {
   "cell_type": "markdown",
   "id": "b29340d4-da1a-4ca9-89f5-7c9d36c6d59f",
   "metadata": {},
   "source": [
    "## Tests pMSE"
   ]
  },
  {
   "cell_type": "code",
   "execution_count": 126,
   "id": "0338620f-4334-494e-b81d-82fa5edb22f9",
   "metadata": {},
   "outputs": [
    {
     "data": {
      "application/vnd.jupyter.widget-view+json": {
       "model_id": "6933bd3be622437384de28897c866139",
       "version_major": 2,
       "version_minor": 0
      },
      "text/plain": [
       "Downloading artifacts:   0%|          | 0/10 [00:00<?, ?it/s]"
      ]
     },
     "metadata": {},
     "output_type": "display_data"
    }
   ],
   "source": [
    "ctgan_test = mlflow.pyfunc.load_model(\"runs:/d682b1f373e14cedbcac2ddff64ab9d2/ctgan_model\")"
   ]
  },
  {
   "cell_type": "code",
   "execution_count": 170,
   "id": "8e1162cf-9ab9-452b-99e5-651c977adb6c",
   "metadata": {},
   "outputs": [
    {
     "name": "stdout",
     "output_type": "stream",
     "text": [
      "pMSE: 0.011948729089724093\n"
     ]
    }
   ],
   "source": [
    "original['t'] = 0\n",
    "synthetique = ctgan_test.predict(original)\n",
    "synthetique['t'] = 1\n",
    "c = synthetique.shape[0] / (synthetique.shape[0] + original.shape[0])\n",
    "\n",
    "df_comb = pd.concat([original, synthetique], ignore_index=True)\n",
    "df_comb_enc = pd.get_dummies(df_comb, columns=fac)\n",
    "X = df_comb_enc.drop(columns=['t'])\n",
    "y = df_comb_enc['t']\n",
    "\n",
    "model = DecisionTreeClassifier(random_state=1)\n",
    "model.fit(X, y)\n",
    "prop = model.predict(X)\n",
    "pMSE = mean_squared_error(c, prop)\n",
    "print(f'pMSE: {pMSE}')"
   ]
  },
  {
   "cell_type": "markdown",
   "id": "69290ebf-5623-4a40-9b99-a9df18001f1b",
   "metadata": {},
   "source": [
    "## Comparatif avec CART"
   ]
  },
  {
   "cell_type": "code",
   "execution_count": 167,
   "id": "e90cd09e-2967-493d-b4be-b6b05eca08e7",
   "metadata": {},
   "outputs": [
    {
     "name": "stdout",
     "output_type": "stream",
     "text": [
      "pMSE: 0.1596784705626765\n"
     ]
    }
   ],
   "source": [
    "original['t'] = 0\n",
    "cart['t'] = 1\n",
    "c1 = cart.shape[0] / (cart.shape[0] + original.shape[0])\n",
    "\n",
    "df_comb1 = pd.concat([original, cart], ignore_index=True)\n",
    "df_comb_enc1 = pd.get_dummies(df_comb1, columns=fac)\n",
    "X1 = df_comb_enc1.drop(columns=['t'])\n",
    "y1 = df_comb_enc1['t']\n",
    "\n",
    "model1 = DecisionTreeClassifier(random_state=1)\n",
    "model1.fit(X1, y1)\n",
    "prop1 = model1.predict_proba(X1)\n",
    "pMSE1 = mean_squared_error(c1, prop1)\n",
    "print(f'pMSE: {pMSE1}')"
   ]
  },
  {
   "cell_type": "markdown",
   "id": "7d824350-1bd9-4a36-8d91-807e40b7aa1a",
   "metadata": {},
   "source": [
    "## Combinaison unique"
   ]
  },
  {
   "cell_type": "code",
   "execution_count": null,
   "id": "4b5de184-fa8b-4fbd-a0f0-081f61fd54bc",
   "metadata": {},
   "outputs": [
    {
     "name": "stderr",
     "output_type": "stream",
     "text": [
      "Gen. (0.54) | Discrim. (0.77):   0%|          | 1/500 [00:48<6:39:15, 48.01s/it]"
     ]
    }
   ],
   "source": [
    "import itertools\n",
    "import yaml\n",
    "from yaml.loader import SafeLoader\n",
    "import mlflow\n",
    "from sdv.single_table import CTGANSynthesizer\n",
    "import mlflow.pyfunc\n",
    "import joblib\n",
    "import os\n",
    "import time\n",
    "from sklearn.tree import DecisionTreeClassifier\n",
    "from sklearn.metrics import mean_squared_error\n",
    "from sklearn.model_selection import train_test_split\n",
    "import pandas as pd\n",
    "\n",
    "# Charger les configurations du fichier YAML\n",
    "with open(\"SDV/config.yml\") as f:\n",
    "    config = yaml.load(f, Loader=SafeLoader)\n",
    "\n",
    "class CTGANWrapper(mlflow.pyfunc.PythonModel):\n",
    "    def __init__(self):\n",
    "        self.model = None\n",
    "\n",
    "    def load_context(self, context):\n",
    "        self.model = joblib.load(context.artifacts[\"model_path\"])\n",
    "\n",
    "    def predict(self, context, model_input):\n",
    "        return self.model.sample(len(model_input))\n",
    "\n",
    "remote_server_uri = os.environ[\"MLFLOW_TRACKING_URI\"]\n",
    "experiment_name = 'Default'\n",
    "run_name = 'run'\n",
    "\n",
    "mlflow.set_tracking_uri(remote_server_uri)\n",
    "mlflow.set_experiment(experiment_name)\n",
    "\n",
    "batch_size = 10\n",
    "discriminator_lr = 0.0001\n",
    "generator_lr = 0.0001\n",
    "\n",
    "run_name = f\"epochs_500_bs_{batch_size}_disc_lr_{discriminator_lr}_gen_lr_{generator_lr}\"\n",
    "\n",
    "with mlflow.start_run(run_name=run_name):\n",
    "    # Log des paramètres de configuration\n",
    "    mlflow.log_param('batch_size', batch_size)\n",
    "    mlflow.log_param('discriminator_lr', discriminator_lr)\n",
    "    mlflow.log_param('generator_lr', generator_lr)\n",
    "    mlflow.log_param('run_name', run_name)\n",
    "\n",
    "    # Entraînement\n",
    "    start_time1 = time.time()\n",
    "    ctgan = CTGANSynthesizer(metadata,\n",
    "                             verbose=True,\n",
    "                             batch_size=batch_size, \n",
    "                             discriminator_lr=discriminator_lr,\n",
    "                             generator_lr=generator_lr,\n",
    "                             epochs=500)\n",
    "    ctgan.fit(original)\n",
    "    end_time1 = time.time()\n",
    "\n",
    "    elapsed_time1 = end_time1 - start_time1\n",
    "    mlflow.log_metric(\"elapsed_time\", elapsed_time1)\n",
    "    print(f\"Temps pris pour entraîner le modèle avec batch_size={batch_size}, discriminator_lr={discriminator_lr}, generator_lr={generator_lr}: {elapsed_time1} secondes\")\n",
    "\n",
    "    # Log des pertes du générateur et du discriminateur\n",
    "    loss = ctgan.get_loss_values()\n",
    "    generator_losses = loss['Generator Loss'].tolist()\n",
    "    discriminator_losses = loss['Discriminator Loss'].tolist()\n",
    "    for epoch, loss in enumerate(generator_losses):\n",
    "        mlflow.log_metric(\"generator_loss\", loss, step=epoch)\n",
    "    for epoch, loss in enumerate(discriminator_losses):\n",
    "        mlflow.log_metric(\"discriminator_loss\", loss, step=epoch)\n",
    "\n",
    "    # Sauvegarde du modèle\n",
    "    model_path = f\"ctgan_model_{run_name}.pkl\"\n",
    "    joblib.dump(ctgan, model_path)\n",
    "    mlflow.pyfunc.log_model(\n",
    "        artifact_path=\"ctgan_model\",\n",
    "        python_model=CTGANWrapper(),\n",
    "        artifacts={\"model_path\": model_path},\n",
    "    )\n",
    "    mlflow.end_run()"
   ]
  }
 ],
 "metadata": {
  "kernelspec": {
   "display_name": "Python 3 (ipykernel)",
   "language": "python",
   "name": "python3"
  },
  "language_info": {
   "codemirror_mode": {
    "name": "ipython",
    "version": 3
   },
   "file_extension": ".py",
   "mimetype": "text/x-python",
   "name": "python",
   "nbconvert_exporter": "python",
   "pygments_lexer": "ipython3",
   "version": "3.12.4"
  }
 },
 "nbformat": 4,
 "nbformat_minor": 5
}
