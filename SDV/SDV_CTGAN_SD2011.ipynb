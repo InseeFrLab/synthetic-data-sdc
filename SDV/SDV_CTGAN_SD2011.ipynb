{
 "cells": [
  {
   "cell_type": "code",
   "execution_count": null,
   "id": "9e9988ef-96a3-4b28-ad0e-a96bc830206c",
   "metadata": {},
   "outputs": [],
   "source": []
  },
  {
   "cell_type": "code",
   "execution_count": 2,
   "id": "9758f139-e7d7-4a9e-90a4-15809b4a1f24",
   "metadata": {},
   "outputs": [],
   "source": [
    "import itertools\n",
    "import yaml\n",
    "from yaml.loader import SafeLoader\n",
    "import mlflow\n",
    "import mlflow.pyfunc\n",
    "import joblib\n",
    "import pandas as pd\n",
    "import os\n",
    "import time\n",
    "import matplotlib.pyplot as plt\n",
    "import matplotlib\n",
    "import numpy as np\n",
    "from sdv.evaluation.single_table import run_diagnostic\n",
    "from sdv.metadata import SingleTableMetadata\n",
    "from sdv.single_table import CTGANSynthesizer\n",
    "from sdv.metadata import SingleTableMetadata\n",
    "from sdv.evaluation.single_table import get_column_plot\n",
    "from sdv.evaluation.single_table import get_column_pair_plot\n",
    "from sdv.evaluation.single_table import evaluate_quality\n",
    "from sklearn.tree import DecisionTreeClassifier\n",
    "from sklearn.metrics import mean_squared_error\n",
    "from sklearn.model_selection import train_test_split\n",
    "\n",
    "os.chdir('/home/onyxia/work/synthetic-data-sdc/')\n",
    "os.environ[\"MLFLOW_TRACKING_URI\"] = \"https://projet-donnees-synthetiques-mlflow.user.lab.sspcloud.fr/\" "
   ]
  },
  {
   "cell_type": "code",
   "execution_count": 3,
   "id": "0d26cf94-877f-4b3a-b9f4-9b60046eed55",
   "metadata": {},
   "outputs": [],
   "source": [
    "variables = ['sex','age','agegr','placesize','edu','socprof','marital','ls','depress','trust','trustfam','trustneigh','sport','nofriend','smoke','alcabuse','alcsol','wkabint','englang','height','weight','bmi']"
   ]
  },
  {
   "cell_type": "code",
   "execution_count": 4,
   "id": "63f1de85-e2bd-4b06-b236-34576a79ed5d",
   "metadata": {},
   "outputs": [],
   "source": [
    "original = pd.read_csv('SDV/df_original.csv', names = variables)"
   ]
  },
  {
   "cell_type": "code",
   "execution_count": 5,
   "id": "f9b78c3e-e02b-4b61-b5fd-dfc7fa082d48",
   "metadata": {},
   "outputs": [],
   "source": [
    "metadata = SingleTableMetadata()\n",
    "metadata.detect_from_dataframe(original)"
   ]
  },
  {
   "cell_type": "code",
   "execution_count": 9,
   "id": "5d51b4e1-9434-4fe9-8dab-d22ac7f5a077",
   "metadata": {},
   "outputs": [],
   "source": [
    "with open(\"SDV/config_ctgan.yml\") as f:\n",
    "    config = yaml.load(f, Loader=SafeLoader)\n",
    "\n",
    "class CTGANWrapper(mlflow.pyfunc.PythonModel):\n",
    "    def __init__(self):\n",
    "        self.model = None\n",
    "\n",
    "    def load_context(self, context):\n",
    "        self.model = joblib.load(context.artifacts[\"model_path\"])\n",
    "\n",
    "    def predict(self, context, model_input):\n",
    "        return self.model.sample(len(model_input))\n"
   ]
  },
  {
   "cell_type": "code",
   "execution_count": null,
   "id": "592c2c5d-b699-47b8-a063-4a97f1d377a4",
   "metadata": {},
   "outputs": [
    {
     "name": "stderr",
     "output_type": "stream",
     "text": [
      "/opt/conda/lib/python3.12/site-packages/sdv/single_table/base.py:97: UserWarning: We strongly recommend saving the metadata using 'save_to_json' for replicability in future SDV versions.\n",
      "  warnings.warn(\n"
     ]
    }
   ],
   "source": [
    "start_time = time.time()\n",
    "ctgan = CTGANSynthesizer(metadata, \n",
    "                         verbose=False,\n",
    "                         discriminator_lr=config['discriminator_lr'],\n",
    "                         generator_lr=config['generator_lr'],\n",
    "                         batch_size=config['batch_size'],\n",
    "                         epochs = config['epochs'],\n",
    "                         cuda = True)\n",
    "ctgan.fit(original)\n",
    "end_time = time.time()"
   ]
  },
  {
   "cell_type": "code",
   "execution_count": null,
   "id": "f7f2f3ae-9649-4e68-a247-a27ee9f0bd3d",
   "metadata": {},
   "outputs": [],
   "source": [
    "ctgan.get_loss_values()"
   ]
  },
  {
   "cell_type": "code",
   "execution_count": null,
   "id": "69df3f7f-f316-41ac-b816-8b94120fcc49",
   "metadata": {},
   "outputs": [],
   "source": [
    "remote_server_uri = os.environ[\"MLFLOW_TRACKING_URI\"]\n",
    "experiment_name = 'Default'\n",
    "run_name = 'ctgan_sd2011_dlr' + str(config['discriminator_lr']) + '_glr' + str(config['generator_lr']) + '_b' + str(config['batch_size']) + '_e' + str(config['epochs']) + '_gpu'\n",
    "\n",
    "mlflow.set_tracking_uri(remote_server_uri)\n",
    "mlflow.set_experiment(experiment_name)\n",
    "\n",
    "with mlflow.start_run(run_name=run_name):\n",
    "    for param_key, param_value in config.items():\n",
    "        if param_key != 'mlflow':\n",
    "            mlflow.log_param(param_key, param_value)\n",
    "    mlflow.log_param('run_name', run_name)\n",
    "\n",
    "    #Entraînement\n",
    "    start_time = time.time()\n",
    "    ctgan = CTGANSynthesizer(metadata, \n",
    "                            verbose=False,\n",
    "                            discriminator_lr=config['discriminator_lr'],\n",
    "                            generator_lr=config['generator_lr'],\n",
    "                            batch_size=config['batch_size'],\n",
    "                            epochs = config['epochs'])\n",
    "    ctgan.fit(original)\n",
    "    end_time = time.time()\n",
    "    \n",
    "    elapsed_time = end_time - start_time\n",
    "    mlflow.log_metric(\"elapsed_time\", elapsed_time)\n",
    "    print(f\"Temps pris entraîner le modèle : {elapsed_time} secondes\")\n",
    "    \n",
    "    params_tvae = ctgan.get_parameters()\n",
    "   \n",
    "\n",
    "    # Log des paramètres du modèle\n",
    "    for param_key, param_value in params_tvae.items():\n",
    "        with mlflow.start_run(nested=True):\n",
    "            mlflow.log_param(param_key, param_value)\n",
    "\n",
    "    loss_by_epoch = ctgan.get_loss_values().groupby(['Epoch'])['Loss'].mean().tolist()\n",
    "    for epoch, loss in enumerate(loss_by_epoch):\n",
    "        mlflow.log_metric(\"loss\", loss, step=epoch+1)\n",
    "\n",
    "    model_path = run_name + \".pkl\"\n",
    "    joblib.dump(ctgan, model_path)\n",
    "    mlflow.pyfunc.log_model(\n",
    "        artifact_path=\"ctgan_model\",\n",
    "        python_model=CTGANWrapper(),\n",
    "        artifacts={\"model_path\": model_path},\n",
    "    )\n",
    "    mlflow.log_artifact(\"SDV/config_ctgan.yml\", artifact_path = \"config_model\")\n",
    "    \n",
    "mlflow.end_run()"
   ]
  },
  {
   "cell_type": "markdown",
   "id": "c90c536e-9d7c-4dc8-b349-6af991721279",
   "metadata": {},
   "source": [
    "## Variabilité du modèle"
   ]
  },
  {
   "cell_type": "code",
   "execution_count": null,
   "id": "7987e28f-33d5-4cc2-84fa-acad86641ae6",
   "metadata": {},
   "outputs": [],
   "source": [
    "with open(\"SDV/config_ctgan.yml\") as f:\n",
    "    config = yaml.load(f, Loader=SafeLoader)"
   ]
  },
  {
   "cell_type": "code",
   "execution_count": null,
   "id": "5d7dcf7c-5b02-4285-bcb0-27dc0aeca8ec",
   "metadata": {},
   "outputs": [],
   "source": [
    "remote_server_uri = os.environ[\"MLFLOW_TRACKING_URI\"]\n",
    "experiment_name = 'Default'\n",
    "\n",
    "all_loss = {'epoch': [i for i in range(config['epochs'])]}\n",
    "\n",
    "for i in range(100):\n",
    "    if (i+1)%10 == 0:\n",
    "        print(i+1)\n",
    "    run_name = 'ctgan_sd2011_dlr' + str(config['discriminator_lr']) + '_glr' + str(config['generator_lr']) + '_b' + str(config['batch_size']) + '_e' + str(config['epochs']) + '_iter' + str(i) + '_gpu'\n",
    "    \n",
    "    mlflow.set_tracking_uri(remote_server_uri)\n",
    "    mlflow.set_experiment(experiment_name)\n",
    "    \n",
    "    with mlflow.start_run(run_name=run_name):\n",
    "        for param_key, param_value in config.items():\n",
    "            if param_key != 'mlflow':\n",
    "                mlflow.log_param(param_key, param_value)\n",
    "        mlflow.log_param('run_name', run_name)\n",
    "    \n",
    "        #Entraînement\n",
    "        start_time = time.time()\n",
    "        ctgan = CTGANSynthesizer(metadata, \n",
    "                                 verbose=False,\n",
    "                                 discriminator_lr=config['discriminator_lr'],\n",
    "                                 generator_lr=config['generator_lr'],\n",
    "                                 batch_size=config['batch_size'],\n",
    "                                 epochs = config['epochs'])\n",
    "        ctgan.fit(original)\n",
    "        end_time = time.time()\n",
    "        \n",
    "        elapsed_time = end_time - start_time\n",
    "        mlflow.log_metric(\"elapsed_time\", elapsed_time)\n",
    "        print(f\"Temps pris entraîner le modèle : {elapsed_time} secondes\")\n",
    "        \n",
    "        params_ctgan = ctgan.get_parameters()\n",
    "\n",
    "        loss_by_epoch = ctgan.get_loss_values().groupby(['Epoch'])['Loss'].mean().tolist()\n",
    "        nom_iter = 'iter'+str(i)\n",
    "        all_loss[nom_iter] = loss_by_epoch\n",
    "       \n",
    "        # Log des paramètres du modèle\n",
    "        for param_key, param_value in params_tvae.items():\n",
    "            with mlflow.start_run(nested=True):\n",
    "                mlflow.log_param(param_key, param_value)    \n",
    "        \n",
    "        for epoch, loss in enumerate(loss_by_epoch):\n",
    "            mlflow.log_metric(\"loss\", loss, step=epoch+1)\n",
    "    \n",
    "        model_path = run_name + \".pkl\"\n",
    "        joblib.dump(ctgan, model_path)\n",
    "        mlflow.pyfunc.log_model(\n",
    "            artifact_path=\"ctgan_model\",\n",
    "            python_model=CTGANWrapper(),\n",
    "            artifacts={\"model_path\": model_path},\n",
    "        )\n",
    "        mlflow.log_artifact(\"SDV/config_ctgan.yml\", artifact_path = \"config_model\")\n",
    "        \n",
    "    mlflow.end_run()"
   ]
  }
 ],
 "metadata": {
  "kernelspec": {
   "display_name": "Python 3 (ipykernel)",
   "language": "python",
   "name": "python3"
  },
  "language_info": {
   "codemirror_mode": {
    "name": "ipython",
    "version": 3
   },
   "file_extension": ".py",
   "mimetype": "text/x-python",
   "name": "python",
   "nbconvert_exporter": "python",
   "pygments_lexer": "ipython3",
   "version": "3.12.4"
  }
 },
 "nbformat": 4,
 "nbformat_minor": 5
}
