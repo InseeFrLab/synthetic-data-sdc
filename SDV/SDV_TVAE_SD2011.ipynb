{
 "cells": [
  {
   "cell_type": "code",
   "execution_count": 11,
   "id": "0f63185e-caf4-4446-8717-c28eeecbacf6",
   "metadata": {},
   "outputs": [],
   "source": [
    "import itertools\n",
    "import yaml\n",
    "from yaml.loader import SafeLoader\n",
    "import mlflow\n",
    "import mlflow.pyfunc\n",
    "import joblib\n",
    "import pandas as pd\n",
    "import os\n",
    "import time\n",
    "import matplotlib.pyplot as plt\n",
    "import matplotlib\n",
    "import numpy as np\n",
    "from sdv.evaluation.single_table import run_diagnostic\n",
    "from sdv.metadata import SingleTableMetadata\n",
    "from sdv.single_table import TVAESynthesizer\n",
    "from sdv.metadata import SingleTableMetadata\n",
    "from sdv.evaluation.single_table import get_column_plot\n",
    "from sdv.evaluation.single_table import get_column_pair_plot\n",
    "from sdv.evaluation.single_table import evaluate_quality\n",
    "from sklearn.tree import DecisionTreeClassifier\n",
    "from sklearn.metrics import mean_squared_error\n",
    "from sklearn.model_selection import train_test_split\n",
    "\n",
    "os.chdir('/home/onyxia/work/synthetic-data-sdc/')\n",
    "os.environ[\"MLFLOW_TRACKING_URI\"] = \"https://projet-donnees-synthetiques-mlflow.user.lab.sspcloud.fr/\" "
   ]
  },
  {
   "cell_type": "code",
   "execution_count": 12,
   "id": "465f77c4-3594-4f82-bdda-b673dbb4f2e9",
   "metadata": {},
   "outputs": [],
   "source": [
    "variables = ['sex','age','agegr','placesize','edu','socprof','marital','ls','depress','trust','trustfam','trustneigh','sport','nofriend','smoke','alcabuse','alcsol','wkabint','englang','height','weight','bmi']"
   ]
  },
  {
   "cell_type": "code",
   "execution_count": 13,
   "id": "01b5783d-ab43-4ad2-a7c3-1722b168ca67",
   "metadata": {},
   "outputs": [],
   "source": [
    "original = pd.read_csv('SDV/df_original.csv', names = variables)"
   ]
  },
  {
   "cell_type": "code",
   "execution_count": 14,
   "id": "c6e2d307-f701-4b0d-aba8-4af51050ffb6",
   "metadata": {},
   "outputs": [
    {
     "data": {
      "text/plain": [
       "{\n",
       "    \"columns\": {\n",
       "        \"sex\": {\n",
       "            \"sdtype\": \"categorical\"\n",
       "        },\n",
       "        \"age\": {\n",
       "            \"sdtype\": \"numerical\"\n",
       "        },\n",
       "        \"agegr\": {\n",
       "            \"sdtype\": \"categorical\"\n",
       "        },\n",
       "        \"placesize\": {\n",
       "            \"sdtype\": \"categorical\"\n",
       "        },\n",
       "        \"edu\": {\n",
       "            \"sdtype\": \"categorical\"\n",
       "        },\n",
       "        \"socprof\": {\n",
       "            \"sdtype\": \"categorical\"\n",
       "        },\n",
       "        \"marital\": {\n",
       "            \"sdtype\": \"categorical\"\n",
       "        },\n",
       "        \"ls\": {\n",
       "            \"sdtype\": \"categorical\"\n",
       "        },\n",
       "        \"depress\": {\n",
       "            \"sdtype\": \"numerical\"\n",
       "        },\n",
       "        \"trust\": {\n",
       "            \"sdtype\": \"categorical\"\n",
       "        },\n",
       "        \"trustfam\": {\n",
       "            \"sdtype\": \"categorical\"\n",
       "        },\n",
       "        \"trustneigh\": {\n",
       "            \"sdtype\": \"categorical\"\n",
       "        },\n",
       "        \"sport\": {\n",
       "            \"sdtype\": \"categorical\"\n",
       "        },\n",
       "        \"nofriend\": {\n",
       "            \"sdtype\": \"numerical\"\n",
       "        },\n",
       "        \"smoke\": {\n",
       "            \"sdtype\": \"categorical\"\n",
       "        },\n",
       "        \"alcabuse\": {\n",
       "            \"sdtype\": \"categorical\"\n",
       "        },\n",
       "        \"alcsol\": {\n",
       "            \"sdtype\": \"categorical\"\n",
       "        },\n",
       "        \"wkabint\": {\n",
       "            \"sdtype\": \"categorical\"\n",
       "        },\n",
       "        \"englang\": {\n",
       "            \"sdtype\": \"categorical\"\n",
       "        },\n",
       "        \"height\": {\n",
       "            \"sdtype\": \"numerical\"\n",
       "        },\n",
       "        \"weight\": {\n",
       "            \"sdtype\": \"numerical\"\n",
       "        },\n",
       "        \"bmi\": {\n",
       "            \"sdtype\": \"numerical\"\n",
       "        }\n",
       "    },\n",
       "    \"METADATA_SPEC_VERSION\": \"SINGLE_TABLE_V1\"\n",
       "}"
      ]
     },
     "execution_count": 14,
     "metadata": {},
     "output_type": "execute_result"
    }
   ],
   "source": [
    "metadata = SingleTableMetadata()\n",
    "metadata.detect_from_dataframe(original)\n",
    "metadata"
   ]
  },
  {
   "cell_type": "code",
   "execution_count": 15,
   "id": "40efd406-596c-428a-9de3-aec95272b3bc",
   "metadata": {},
   "outputs": [
    {
     "name": "stderr",
     "output_type": "stream",
     "text": [
      "/opt/conda/lib/python3.12/site-packages/sdv/single_table/base.py:92: UserWarning: We strongly recommend saving the metadata using 'save_to_json' for replicability in future SDV versions.\n",
      "  warnings.warn(\n",
      "Loss: 29.249: 100%|██████████| 300/300 [25:52<00:00,  5.18s/it]\n",
      "2024/08/28 18:22:07 INFO mlflow.tracking._tracking_service.client: 🏃 View run efficient-robin-206 at: https://projet-donnees-synthetiques-mlflow.user.lab.sspcloud.fr/#/experiments/0/runs/3b70c99acdd84672b8106cc0794fdfb0.\n",
      "2024/08/28 18:22:07 INFO mlflow.tracking._tracking_service.client: 🧪 View experiment at: https://projet-donnees-synthetiques-mlflow.user.lab.sspcloud.fr/#/experiments/0.\n"
     ]
    },
    {
     "name": "stdout",
     "output_type": "stream",
     "text": [
      "Temps pris entraîner le modèle : 1566.6616985797882 secondes\n"
     ]
    },
    {
     "name": "stderr",
     "output_type": "stream",
     "text": [
      "2024/08/28 18:22:07 INFO mlflow.tracking._tracking_service.client: 🏃 View run flawless-swan-777 at: https://projet-donnees-synthetiques-mlflow.user.lab.sspcloud.fr/#/experiments/0/runs/70ef8281f050404cb7d8d8f6deb1f63b.\n",
      "2024/08/28 18:22:07 INFO mlflow.tracking._tracking_service.client: 🧪 View experiment at: https://projet-donnees-synthetiques-mlflow.user.lab.sspcloud.fr/#/experiments/0.\n",
      "2024/08/28 18:22:07 INFO mlflow.tracking._tracking_service.client: 🏃 View run abundant-mole-458 at: https://projet-donnees-synthetiques-mlflow.user.lab.sspcloud.fr/#/experiments/0/runs/31fb79215d5d4731a32c17a6052ee778.\n",
      "2024/08/28 18:22:07 INFO mlflow.tracking._tracking_service.client: 🧪 View experiment at: https://projet-donnees-synthetiques-mlflow.user.lab.sspcloud.fr/#/experiments/0.\n",
      "2024/08/28 18:22:07 INFO mlflow.tracking._tracking_service.client: 🏃 View run adventurous-koi-989 at: https://projet-donnees-synthetiques-mlflow.user.lab.sspcloud.fr/#/experiments/0/runs/a1f1beba1ef543eca8f214cd4acb2627.\n",
      "2024/08/28 18:22:07 INFO mlflow.tracking._tracking_service.client: 🧪 View experiment at: https://projet-donnees-synthetiques-mlflow.user.lab.sspcloud.fr/#/experiments/0.\n",
      "2024/08/28 18:22:07 INFO mlflow.tracking._tracking_service.client: 🏃 View run peaceful-doe-628 at: https://projet-donnees-synthetiques-mlflow.user.lab.sspcloud.fr/#/experiments/0/runs/88761d275976449991311006fa493c59.\n",
      "2024/08/28 18:22:07 INFO mlflow.tracking._tracking_service.client: 🧪 View experiment at: https://projet-donnees-synthetiques-mlflow.user.lab.sspcloud.fr/#/experiments/0.\n",
      "2024/08/28 18:22:07 INFO mlflow.tracking._tracking_service.client: 🏃 View run intrigued-midge-393 at: https://projet-donnees-synthetiques-mlflow.user.lab.sspcloud.fr/#/experiments/0/runs/17a22d86268d4c3db8bf8c4c4fb910f6.\n",
      "2024/08/28 18:22:07 INFO mlflow.tracking._tracking_service.client: 🧪 View experiment at: https://projet-donnees-synthetiques-mlflow.user.lab.sspcloud.fr/#/experiments/0.\n",
      "2024/08/28 18:22:07 INFO mlflow.tracking._tracking_service.client: 🏃 View run unique-ray-71 at: https://projet-donnees-synthetiques-mlflow.user.lab.sspcloud.fr/#/experiments/0/runs/46e1325c680b4f8c88190b6f256003fa.\n",
      "2024/08/28 18:22:07 INFO mlflow.tracking._tracking_service.client: 🧪 View experiment at: https://projet-donnees-synthetiques-mlflow.user.lab.sspcloud.fr/#/experiments/0.\n",
      "2024/08/28 18:22:07 INFO mlflow.tracking._tracking_service.client: 🏃 View run skillful-kite-562 at: https://projet-donnees-synthetiques-mlflow.user.lab.sspcloud.fr/#/experiments/0/runs/955c2b6de41d46d0b8af6bc1a4644751.\n",
      "2024/08/28 18:22:07 INFO mlflow.tracking._tracking_service.client: 🧪 View experiment at: https://projet-donnees-synthetiques-mlflow.user.lab.sspcloud.fr/#/experiments/0.\n",
      "2024/08/28 18:22:08 INFO mlflow.tracking._tracking_service.client: 🏃 View run caring-koi-510 at: https://projet-donnees-synthetiques-mlflow.user.lab.sspcloud.fr/#/experiments/0/runs/f8a8d792f2db43cc8610ec5dec225fe1.\n",
      "2024/08/28 18:22:08 INFO mlflow.tracking._tracking_service.client: 🧪 View experiment at: https://projet-donnees-synthetiques-mlflow.user.lab.sspcloud.fr/#/experiments/0.\n",
      "2024/08/28 18:22:08 INFO mlflow.tracking._tracking_service.client: 🏃 View run efficient-snipe-970 at: https://projet-donnees-synthetiques-mlflow.user.lab.sspcloud.fr/#/experiments/0/runs/e365ecec55b24e97812df1ba288cbe23.\n",
      "2024/08/28 18:22:08 INFO mlflow.tracking._tracking_service.client: 🧪 View experiment at: https://projet-donnees-synthetiques-mlflow.user.lab.sspcloud.fr/#/experiments/0.\n",
      "2024/08/28 18:22:08 INFO mlflow.tracking._tracking_service.client: 🏃 View run adorable-mole-234 at: https://projet-donnees-synthetiques-mlflow.user.lab.sspcloud.fr/#/experiments/0/runs/aec9c86dfa34479d99e67e433bdcd5f2.\n",
      "2024/08/28 18:22:08 INFO mlflow.tracking._tracking_service.client: 🧪 View experiment at: https://projet-donnees-synthetiques-mlflow.user.lab.sspcloud.fr/#/experiments/0.\n",
      "/opt/conda/lib/python3.12/site-packages/tqdm/auto.py:21: TqdmWarning: IProgress not found. Please update jupyter and ipywidgets. See https://ipywidgets.readthedocs.io/en/stable/user_install.html\n",
      "  from .autonotebook import tqdm as notebook_tqdm\n",
      "Downloading artifacts: 100%|██████████| 1/1 [00:00<00:00, 581.25it/s] \n",
      "2024/08/28 18:31:00 WARNING mlflow.models.model: Input example should be provided to infer model signature if the model signature is not provided when logging the model.\n",
      "2024/08/28 18:31:00 INFO mlflow.tracking._tracking_service.client: 🏃 View run tvae_jj at: https://projet-donnees-synthetiques-mlflow.user.lab.sspcloud.fr/#/experiments/0/runs/b54add682a3b4897bfe54166030c314d.\n",
      "2024/08/28 18:31:00 INFO mlflow.tracking._tracking_service.client: 🧪 View experiment at: https://projet-donnees-synthetiques-mlflow.user.lab.sspcloud.fr/#/experiments/0.\n"
     ]
    }
   ],
   "source": [
    "with open(\"SDV/config_tvae_2.yml\") as f:\n",
    "    config = yaml.load(f, Loader=SafeLoader)\n",
    "\n",
    "class TVAEWrapper(mlflow.pyfunc.PythonModel):\n",
    "    def __init__(self):\n",
    "        self.model = None\n",
    "\n",
    "    def load_context(self, context):\n",
    "        self.model = joblib.load(context.artifacts[\"model_path\"])\n",
    "\n",
    "    def predict(self, context, model_input):\n",
    "        return self.model.sample(len(model_input))\n",
    "\n",
    "remote_server_uri = os.environ[\"MLFLOW_TRACKING_URI\"]\n",
    "experiment_name = 'Default'\n",
    "run_name = 'tvae_jj'\n",
    "\n",
    "mlflow.set_tracking_uri(remote_server_uri)\n",
    "mlflow.set_experiment(experiment_name)\n",
    "\n",
    "with mlflow.start_run(run_name=run_name):\n",
    "    for param_key, param_value in config.items():\n",
    "        if param_key != 'mlflow':\n",
    "            mlflow.log_param(param_key, param_value)\n",
    "    mlflow.log_param('run_name', run_name)\n",
    "\n",
    "    #Entraînement\n",
    "    start_time = time.time()\n",
    "    tvae = TVAESynthesizer(metadata,\n",
    "                           verbose=True,\n",
    "                           compress_dims=config['compress_dims'],\n",
    "                           decompress_dims=config['decompress_dims'],\n",
    "                           batch_size=config['batch_size'],\n",
    "                           epochs = config['epochs'])\n",
    "    tvae.fit(original)\n",
    "    end_time = time.time()\n",
    "    \n",
    "    elapsed_time = end_time - start_time\n",
    "    mlflow.log_metric(\"elapsed_time\", elapsed_time)\n",
    "    print(f\"Temps pris entraîner le modèle : {elapsed_time} secondes\")\n",
    "    \n",
    "    params_tvae = tvae.get_parameters()\n",
    "   \n",
    "\n",
    "    # Log des paramètres du modèle\n",
    "    for param_key, param_value in params_tvae.items():\n",
    "        with mlflow.start_run(nested=True):\n",
    "            mlflow.log_param(param_key, param_value)\n",
    "\n",
    "    loss_by_epoch = tvae.get_loss_values().groupby(['Epoch'])['Loss'].mean().tolist()\n",
    "    for epoch, loss in enumerate(loss_by_epoch):\n",
    "        mlflow.log_metric(\"loss\", loss, step=epoch+1)\n",
    "\n",
    "    model_path = \"tvae_model.pkl\"\n",
    "    joblib.dump(tvae, model_path)\n",
    "    mlflow.pyfunc.log_model(\n",
    "        artifact_path=\"tvae_model\",\n",
    "        python_model=TVAEWrapper(),\n",
    "        artifacts={\"model_path\": model_path},\n",
    "    )\n",
    "    mlflow.log_artifact(\"SDV/config_tvae_2.yml\", artifact_path = \"config_model\")\n",
    "    \n",
    "mlflow.end_run()"
   ]
  },
  {
   "cell_type": "code",
   "execution_count": 19,
   "id": "58f53325-3a05-427c-b7e5-6a0f932d0c8e",
   "metadata": {},
   "outputs": [
    {
     "data": {
      "text/plain": [
       "{'enforce_min_max_values': True,\n",
       " 'enforce_rounding': True,\n",
       " 'embedding_dim': 128,\n",
       " 'compress_dims': [1024, 1024, 1024, 1024],\n",
       " 'decompress_dims': [1024, 1024, 1024, 1024],\n",
       " 'l2scale': 1e-05,\n",
       " 'batch_size': 100,\n",
       " 'verbose': True,\n",
       " 'epochs': 300,\n",
       " 'loss_factor': 2,\n",
       " 'cuda': True}"
      ]
     },
     "execution_count": 19,
     "metadata": {},
     "output_type": "execute_result"
    }
   ],
   "source": [
    "tvae.get_parameters()"
   ]
  },
  {
   "cell_type": "code",
   "execution_count": 27,
   "id": "39667170-ee9e-42ec-b4db-f33fbb222b30",
   "metadata": {},
   "outputs": [],
   "source": [
    "loss_by_epoch = tvae.get_loss_values().groupby(['Epoch'])['Loss'].mean()\n",
    "nb_epochs = config['epochs']"
   ]
  },
  {
   "cell_type": "code",
   "execution_count": 42,
   "id": "f2047156-e051-4146-87aa-7270f2112319",
   "metadata": {},
   "outputs": [
    {
     "data": {
      "text/plain": [
       "Text(0.5, 1.0, \"Loss d'un modèle TVAE sur SD2011\")"
      ]
     },
     "execution_count": 42,
     "metadata": {},
     "output_type": "execute_result"
    },
    {
     "data": {
      "image/png": "[encoded data removed]",
      "text/plain": [
       "<Figure size 1400x1000 with 1 Axes>"
      ]
     },
     "metadata": {},
     "output_type": "display_data"
    }
   ],
   "source": [
    "steps = range(1, nb_epochs+1)\n",
    "\n",
    "plt.figure(figsize=(14, 10))\n",
    "\n",
    "plt.plot(steps, loss_by_epoch, color='blue')\n",
    "plt.xlabel('Epoch')\n",
    "plt.ylabel('Loss')\n",
    "plt.title(\"Loss d'un modèle TVAE sur SD2011\")\n",
    "#plt.legend()S"
   ]
  },
  {
   "cell_type": "code",
   "execution_count": 40,
   "id": "f0b230fe-4a14-4094-aadf-2450ef70a311",
   "metadata": {},
   "outputs": [
    {
     "data": {
      "text/plain": [
       "Epoch\n",
       "0      55.643644\n",
       "1      45.709139\n",
       "2      43.911029\n",
       "3      42.659662\n",
       "4      41.738037\n",
       "         ...    \n",
       "295    24.405432\n",
       "296    24.543731\n",
       "297    24.719252\n",
       "298    24.888723\n",
       "299    24.493433\n",
       "Name: Loss, Length: 300, dtype: float64"
      ]
     },
     "execution_count": 40,
     "metadata": {},
     "output_type": "execute_result"
    }
   ],
   "source": []
  },
  {
   "cell_type": "code",
   "execution_count": null,
   "id": "4d4df249-a656-48ec-8da6-62f1d1d452e5",
   "metadata": {},
   "outputs": [],
   "source": []
  }
 ],
 "metadata": {
  "kernelspec": {
   "display_name": "Python 3 (ipykernel)",
   "language": "python",
   "name": "python3"
  },
  "language_info": {
   "codemirror_mode": {
    "name": "ipython",
    "version": 3
   },
   "file_extension": ".py",
   "mimetype": "text/x-python",
   "name": "python",
   "nbconvert_exporter": "python",
   "pygments_lexer": "ipython3",
   "version": "3.12.4"
  }
 },
 "nbformat": 4,
 "nbformat_minor": 5
}
