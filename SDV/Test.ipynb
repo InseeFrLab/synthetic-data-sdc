{
 "cells": [
  {
   "cell_type": "code",
   "execution_count": 6,
   "id": "2016f90d-f545-4de6-933d-6e03e459c1c8",
   "metadata": {},
   "outputs": [],
   "source": [
    "import pandas as pd\n",
    "import os\n",
    "import time\n",
    "import matplotlib.pyplot as plt\n",
    "import matplotlib\n",
    "import numpy as np\n",
    "from sdv.evaluation.single_table import run_diagnostic\n",
    "from sdv.metadata import SingleTableMetadata\n",
    "from sdv.single_table import CTGANSynthesizer\n",
    "from sdv.metadata import SingleTableMetadata\n",
    "from sdv.evaluation.single_table import get_column_plot\n",
    "from sdv.evaluation.single_table import get_column_pair_plot\n",
    "from sdv.evaluation.single_table import evaluate_quality\n",
    "from sklearn.tree import DecisionTreeClassifier\n",
    "from sklearn.metrics import mean_squared_error\n",
    "from sklearn.model_selection import train_test_split\n",
    "import itertools\n",
    "import yaml\n",
    "from yaml.loader import SafeLoader\n",
    "import mlflow\n",
    "from sdv.single_table import CTGANSynthesizer\n",
    "import mlflow.pyfunc\n",
    "import joblib\n",
    "from sklearn.tree import DecisionTreeClassifier\n",
    "from sklearn.metrics import mean_squared_error\n",
    "from sklearn.model_selection import train_test_split\n",
    "\n",
    "os.chdir('/home/onyxia/work/synthetic-data-sdc/')\n",
    "os.environ[\"MLFLOW_TRACKING_URI\"] = \"https://projet-donnees-synthetiques-mlflow.user.lab.sspcloud.fr/\" "
   ]
  },
  {
   "cell_type": "code",
   "execution_count": 2,
   "id": "0b64f6f7-e65f-48cc-92e4-d17ca3afe1e3",
   "metadata": {},
   "outputs": [],
   "source": [
    "variables = ['sex','age','agegr','placesize','edu','socprof','marital','ls','depress','trust','trustfam','trustneigh','sport','nofriend','smoke','alcabuse','alcsol','wkabint','englang','height','weight','bmi']\n",
    "original = pd.read_csv('SDV/df_original.csv', names = variables)\n",
    "sample = pd.read_csv('SDV/df1_sample.csv', names = variables)\n",
    "cart = pd.read_csv('SDV/df1_cart.csv', names = variables)\n",
    "ctree = pd.read_csv('SDV/df1_ctree.csv', names = variables)\n",
    "parametric = pd.read_csv('SDV/df1_parametric.csv', names = variables)\n",
    "rf = pd.read_csv('SDV/df1_rf.csv', names = variables)\n",
    "bag = pd.read_csv('SDV/df1_bag.csv', names = variables)"
   ]
  },
  {
   "cell_type": "code",
   "execution_count": 3,
   "id": "74f6d32a-46ac-45c2-bffb-31ceb111e521",
   "metadata": {},
   "outputs": [],
   "source": [
    "num = ['age', 'depress', 'nofriend', 'height', 'weight', 'bmi']\n",
    "fac = ['sex', 'agegr', 'placesize', 'edu', 'socprof', 'marital',\n",
    "       'ls', 'trust', 'trustfam', 'trustneigh', 'sport', 'smoke',\n",
    "       'alcabuse', 'alcsol', 'wkabint', 'englang']"
   ]
  },
  {
   "cell_type": "code",
   "execution_count": 7,
   "id": "70b1e87f-5134-47b7-9d5e-4e3377cdf431",
   "metadata": {},
   "outputs": [
    {
     "data": {
      "application/vnd.jupyter.widget-view+json": {
       "model_id": "920898e035074df4859e432004e74cdd",
       "version_major": 2,
       "version_minor": 0
      },
      "text/plain": [
       "Downloading artifacts:   0%|          | 0/10 [00:00<?, ?it/s]"
      ]
     },
     "metadata": {},
     "output_type": "display_data"
    },
    {
     "name": "stdout",
     "output_type": "stream",
     "text": [
      "pMSE: 0.00934173365196611\n"
     ]
    }
   ],
   "source": [
    "ctgan_test = mlflow.pyfunc.load_model(\"runs:/d682b1f373e14cedbcac2ddff64ab9d2/ctgan_model\")\n",
    "\n",
    "original['t'] = 0\n",
    "synthetique = ctgan_test.predict(original)\n",
    "synthetique['t'] = 1\n",
    "\n",
    "df_comb = pd.concat([original, synthetique], ignore_index=True)\n",
    "df_comb_enc = pd.get_dummies(df_comb, columns=fac)\n",
    "X = df_comb_enc.drop(columns=['t'])\n",
    "y = df_comb_enc['t']\n",
    "X_train, X_test, y_train, y_test = train_test_split(X, y, test_size=0.3, random_state=1)\n",
    "\n",
    "model = DecisionTreeClassifier(random_state=1)\n",
    "model.fit(X_train, y_train)\n",
    "prop = model.predict(X)\n",
    "pMSE = mean_squared_error(y, prop)\n",
    "print(f'pMSE: {pMSE}')"
   ]
  },
  {
   "cell_type": "code",
   "execution_count": 8,
   "id": "73a825a6-8cfd-476d-be53-e5ab2b0df018",
   "metadata": {},
   "outputs": [
    {
     "name": "stdout",
     "output_type": "stream",
     "text": [
      "pMSE: 0.1596784705626765\n"
     ]
    }
   ],
   "source": [
    "original['t'] = 0\n",
    "cart['t'] = 1\n",
    "\n",
    "df_comb1 = pd.concat([original, cart], ignore_index=True)\n",
    "df_comb_enc1 = pd.get_dummies(df_comb1, columns=fac)\n",
    "X1 = df_comb_enc1.drop(columns=['t'])\n",
    "y1 = df_comb_enc1['t']\n",
    "X_train1, X_test1, y_train1, y_test1 = train_test_split(X1, y1, test_size=0.3, random_state=1)\n",
    "\n",
    "model1 = DecisionTreeClassifier(random_state=1)\n",
    "model1.fit(X_train1, y_train1)\n",
    "prop1 = model1.predict_proba(X1)[:, 1]\n",
    "pMSE = mean_squared_error(y1, prop1)\n",
    "print(f'pMSE: {pMSE}')"
   ]
  }
 ],
 "metadata": {
  "kernelspec": {
   "display_name": "Python 3 (ipykernel)",
   "language": "python",
   "name": "python3"
  },
  "language_info": {
   "codemirror_mode": {
    "name": "ipython",
    "version": 3
   },
   "file_extension": ".py",
   "mimetype": "text/x-python",
   "name": "python",
   "nbconvert_exporter": "python",
   "pygments_lexer": "ipython3",
   "version": "3.12.3"
  }
 },
 "nbformat": 4,
 "nbformat_minor": 5
}
