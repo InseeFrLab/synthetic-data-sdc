{
 "cells": [
  {
   "cell_type": "code",
   "execution_count": 1,
   "id": "2016f90d-f545-4de6-933d-6e03e459c1c8",
   "metadata": {},
   "outputs": [],
   "source": [
    "import pandas as pd\n",
    "import seaborn as sns\n",
    "import matplotlib.pyplot as plt\n",
    "import warnings"
   ]
  },
  {
   "cell_type": "code",
   "execution_count": 2,
   "id": "a5095dcd-68c9-45d5-a681-087b584ba77e",
   "metadata": {},
   "outputs": [
    {
     "name": "stdout",
     "output_type": "stream",
     "text": [
      "<class 'pandas.core.frame.DataFrame'>\n",
      "RangeIndex: 4602 entries, 0 to 4601\n",
      "Data columns (total 22 columns):\n",
      " #   Column                    Non-Null Count  Dtype  \n",
      "---  ------                    --------------  -----  \n",
      " 0   FEMALE                    4602 non-null   object \n",
      " 1   57                        4602 non-null   int64  \n",
      " 2   45-59                     4602 non-null   object \n",
      " 3   URBAN 100,000-200,000     4602 non-null   object \n",
      " 4   VOCATIONAL/GRAMMAR        4602 non-null   object \n",
      " 5   RETIRED                   4602 non-null   object \n",
      " 6   MARRIED                   4602 non-null   object \n",
      " 7   PLEASED                   4602 non-null   object \n",
      " 8   6                         4602 non-null   int64  \n",
      " 9   ONE CAN`T BE TOO CAREFUL  4602 non-null   object \n",
      " 10  YES                       4602 non-null   object \n",
      " 11  NO                        4602 non-null   object \n",
      " 12  NO.1                      4602 non-null   object \n",
      " 13  6.1                       4602 non-null   int64  \n",
      " 14  NO.2                      4602 non-null   object \n",
      " 15  NO.3                      4602 non-null   object \n",
      " 16  NO.4                      4602 non-null   object \n",
      " 17  NO.5                      4602 non-null   object \n",
      " 18  NONE                      4602 non-null   object \n",
      " 19  170                       4602 non-null   int64  \n",
      " 20  89                        4602 non-null   int64  \n",
      " 21  30.795847750865054        4602 non-null   float64\n",
      "dtypes: float64(1), int64(5), object(16)\n",
      "memory usage: 791.1+ KB\n",
      "   FEMALE  57  45-59   URBAN 100,000-200,000    VOCATIONAL/GRAMMAR  \\\n",
      "0    MALE  20  16-24             RURAL AREAS    VOCATIONAL/GRAMMAR   \n",
      "1  FEMALE  18  16-24  URBAN 500,000 AND OVER    VOCATIONAL/GRAMMAR   \n",
      "2  FEMALE  78    65+             RURAL AREAS  PRIMARY/NO EDUCATION   \n",
      "3  FEMALE  54  45-59   URBAN 100,000-200,000    VOCATIONAL/GRAMMAR   \n",
      "4    MALE  20  16-24   URBAN 100,000-200,000             SECONDARY   \n",
      "\n",
      "            RETIRED  MARRIED           PLEASED   6  \\\n",
      "0  PUPIL OR STUDENT   SINGLE  MOSTLY SATISFIED   0   \n",
      "1  PUPIL OR STUDENT   SINGLE           PLEASED   0   \n",
      "2           RETIRED  WIDOWED             MIXED  16   \n",
      "3     SELF-EMPLOYED  MARRIED  MOSTLY SATISFIED   4   \n",
      "4  PUPIL OR STUDENT   SINGLE           PLEASED   5   \n",
      "\n",
      "     ONE CAN`T BE TOO CAREFUL  ... NO.1 6.1 NO.2  NO.3 NO.4 NO.5    NONE  170  \\\n",
      "0      IT`S DIFFICULT TO TELL  ...   NO   4   NO    NO   NO   NO  ACTIVE  187   \n",
      "1  MOST PEOPLE CAN BE TRUSTED  ...   NO  20   NO    NO   NO   NO  ACTIVE  165   \n",
      "2    ONE CAN`T BE TOO CAREFUL  ...  YES   0   NO    NO   NO   NO    NONE  160   \n",
      "3    ONE CAN`T BE TOO CAREFUL  ...  YES   6  YES    NO   NO   NO    NONE  158   \n",
      "4    ONE CAN`T BE TOO CAREFUL  ...   NO  10   NO    NO   NO   NO  ACTIVE  165   \n",
      "\n",
      "   89  30.795847750865054  \n",
      "0  82           23.449341  \n",
      "1  50           18.365473  \n",
      "2  78           30.468750  \n",
      "3  50           20.028842  \n",
      "4  65           23.875115  \n",
      "\n",
      "[5 rows x 22 columns] None\n"
     ]
    }
   ],
   "source": [
    "filepath = r\"df_original.csv\"\n",
    "data = pd.read_csv(filepath)\n",
    "\n",
    "print(data.head(), data.info())"
   ]
  },
  {
   "cell_type": "code",
   "execution_count": 3,
   "id": "e4819497-57e3-4715-bf41-ba0112074a17",
   "metadata": {},
   "outputs": [],
   "source": [
    "from sdv.metadata import SingleTableMetadata\n",
    "\n",
    "metadata = SingleTableMetadata()\n",
    "metadata.detect_from_dataframe(data)"
   ]
  },
  {
   "cell_type": "code",
   "execution_count": null,
   "id": "8dfd2374-baeb-40e4-9ffa-a87ee51679ea",
   "metadata": {},
   "outputs": [],
   "source": [
    "from sdv.single_table import CTGANSynthesizer\n",
    "\n",
    "synthesizer = CTGANSynthesizer(metadata, epochs = 10)\n",
    "synthesizer.fit(data)"
   ]
  },
  {
   "cell_type": "code",
   "execution_count": 5,
   "id": "26b6c2ac-85bd-4bca-b90b-0ff36020a55b",
   "metadata": {},
   "outputs": [
    {
     "name": "stdout",
     "output_type": "stream",
     "text": [
      "No Python documentation found for 'CTGANSynthesizer()'.\n",
      "Use help() to get the interactive help utility.\n",
      "Use help(str) for help on the str class.\n",
      "\n"
     ]
    }
   ],
   "source": [
    "import time\n",
    "\n",
    "start_time = time.time()\n",
    "synthetic_data = synthesizer.sample(num_rows = len(data))\n",
    "end_time = time.time()\n",
    "\n",
    "elapsed_time = end_time - start_time\n",
    "print(f\"Temps pris pour générer les données synthétiques : {elapsed_time} secondes\")"
   ]
  }
 ],
 "metadata": {
  "kernelspec": {
   "display_name": "Python 3 (ipykernel)",
   "language": "python",
   "name": "python3"
  },
  "language_info": {
   "codemirror_mode": {
    "name": "ipython",
    "version": 3
   },
   "file_extension": ".py",
   "mimetype": "text/x-python",
   "name": "python",
   "nbconvert_exporter": "python",
   "pygments_lexer": "ipython3",
   "version": "3.12.3"
  }
 },
 "nbformat": 4,
 "nbformat_minor": 5
}
