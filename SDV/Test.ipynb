{
 "cells": [
  {
   "cell_type": "code",
   "execution_count": 6,
   "id": "2016f90d-f545-4de6-933d-6e03e459c1c8",
   "metadata": {},
   "outputs": [],
   "source": [
    "import pandas as pd\n",
    "import os\n",
    "import time\n",
    "import matplotlib.pyplot as plt\n",
    "import matplotlib\n",
    "import numpy as np\n",
    "from sdv.evaluation.single_table import run_diagnostic\n",
    "from sdv.metadata import SingleTableMetadata\n",
    "from sdv.single_table import CTGANSynthesizer\n",
    "from sdv.metadata import SingleTableMetadata\n",
    "from sdv.evaluation.single_table import get_column_plot\n",
    "from sdv.evaluation.single_table import get_column_pair_plot\n",
    "from sdv.evaluation.single_table import evaluate_quality\n",
    "from sklearn.tree import DecisionTreeClassifier\n",
    "from sklearn.metrics import mean_squared_error\n",
    "from sklearn.model_selection import train_test_split\n",
    "import itertools\n",
    "import yaml\n",
    "from yaml.loader import SafeLoader\n",
    "import mlflow\n",
    "from sdv.single_table import CTGANSynthesizer\n",
    "import mlflow.pyfunc\n",
    "import joblib\n",
    "from sklearn.tree import DecisionTreeClassifier\n",
    "from sklearn.metrics import mean_squared_error\n",
    "from sklearn.model_selection import train_test_split\n",
    "\n",
    "os.chdir('/home/onyxia/work/synthetic-data-sdc/')\n",
    "os.environ[\"MLFLOW_TRACKING_URI\"] = \"https://projet-donnees-synthetiques-mlflow.user.lab.sspcloud.fr/\" "
   ]
  },
  {
   "cell_type": "code",
   "execution_count": 2,
   "id": "0b64f6f7-e65f-48cc-92e4-d17ca3afe1e3",
   "metadata": {},
   "outputs": [],
   "source": [
    "variables = ['sex','age','agegr','placesize','edu','socprof','marital','ls','depress','trust','trustfam','trustneigh','sport','nofriend','smoke','alcabuse','alcsol','wkabint','englang','height','weight','bmi']\n",
    "original = pd.read_csv('SDV/df_original.csv', names = variables)\n",
    "sample = pd.read_csv('SDV/df1_sample.csv', names = variables)\n",
    "cart = pd.read_csv('SDV/df1_cart.csv', names = variables)\n",
    "ctree = pd.read_csv('SDV/df1_ctree.csv', names = variables)\n",
    "parametric = pd.read_csv('SDV/df1_parametric.csv', names = variables)\n",
    "rf = pd.read_csv('SDV/df1_rf.csv', names = variables)\n",
    "bag = pd.read_csv('SDV/df1_bag.csv', names = variables)"
   ]
  },
  {
   "cell_type": "code",
   "execution_count": 3,
   "id": "74f6d32a-46ac-45c2-bffb-31ceb111e521",
   "metadata": {},
   "outputs": [],
   "source": [
    "num = ['age', 'depress', 'nofriend', 'height', 'weight', 'bmi']\n",
    "fac = ['sex', 'agegr', 'placesize', 'edu', 'socprof', 'marital',\n",
    "       'ls', 'trust', 'trustfam', 'trustneigh', 'sport', 'smoke',\n",
    "       'alcabuse', 'alcsol', 'wkabint', 'englang']"
   ]
  },
  {
   "cell_type": "code",
   "execution_count": 28,
   "id": "70b1e87f-5134-47b7-9d5e-4e3377cdf431",
   "metadata": {},
   "outputs": [
    {
     "data": {
      "application/vnd.jupyter.widget-view+json": {
       "model_id": "6d465b794a2c4ab59af4ea8529dfd22a",
       "version_major": 2,
       "version_minor": 0
      },
      "text/plain": [
       "Downloading artifacts:   0%|          | 0/10 [00:00<?, ?it/s]"
      ]
     },
     "metadata": {},
     "output_type": "display_data"
    }
   ],
   "source": [
    "ctgan_test = mlflow.pyfunc.load_model(\"runs:/d682b1f373e14cedbcac2ddff64ab9d2/ctgan_model\")\n",
    "\n",
    "#original['t'] = 0\n",
    "synthetique = ctgan_test.predict(original)\n",
    "#synthetique['t'] = 1\n",
    "\n",
    "#df_comb = pd.concat([original, synthetique], ignore_index=True)\n",
    "#df_comb_enc = pd.get_dummies(df_comb, columns=fac)\n",
    "#X = df_comb_enc.drop(columns=['t'])\n",
    "#y = df_comb_enc['t']\n",
    "#X_train, X_test, y_train, y_test = train_test_split(X, y, test_size=0.3, random_state=1)\n",
    "\n",
    "#model = DecisionTreeClassifier(random_state=1)\n",
    "#model.fit(X_train, y_train)\n",
    "#prop = model.predict(X)\n",
    "#pMSE = mean_squared_error(y, prop)\n",
    "#print(f'pMSE: {pMSE}')"
   ]
  },
  {
   "cell_type": "code",
   "execution_count": 29,
   "id": "8580f631-0ce8-4121-ab22-e3206d531a2a",
   "metadata": {},
   "outputs": [
    {
     "data": {
      "text/plain": [
       "<bound method NDFrame.head of          sex  age  agegr               placesize                   edu  \\\n",
       "0     FEMALE   26  16-24    URBAN 20,000-100,000  PRIMARY/NO EDUCATION   \n",
       "1     FEMALE   82  45-59    URBAN 20,000-100,000  PRIMARY/NO EDUCATION   \n",
       "2     FEMALE   82  16-24  URBAN 500,000 AND OVER  PRIMARY/NO EDUCATION   \n",
       "3     FEMALE   62  45-59             RURAL AREAS             SECONDARY   \n",
       "4     FEMALE   82    65+             RURAL AREAS  PRIMARY/NO EDUCATION   \n",
       "...      ...  ...    ...                     ...                   ...   \n",
       "4598  FEMALE   63  16-24             RURAL AREAS  PRIMARY/NO EDUCATION   \n",
       "4599  FEMALE   82  16-24    URBAN 20,000-100,000  PRIMARY/NO EDUCATION   \n",
       "4600  FEMALE   82    65+    URBAN 20,000-100,000             SECONDARY   \n",
       "4601    MALE   77  45-59   URBAN 200,000-500,000             SECONDARY   \n",
       "4602  FEMALE   58  45-59             RURAL AREAS  PRIMARY/NO EDUCATION   \n",
       "\n",
       "                         socprof   marital                ls  depress  \\\n",
       "0                     UNEMPLOYED   MARRIED             MIXED        4   \n",
       "1     EMPLOYED IN PRIVATE SECTOR  DIVORCED  MOSTLY SATISFIED        2   \n",
       "2      EMPLOYED IN PUBLIC SECTOR   MARRIED         DELIGHTED        4   \n",
       "3                         FARMER  DIVORCED           PLEASED        2   \n",
       "4      EMPLOYED IN PUBLIC SECTOR    SINGLE  MOSTLY SATISFIED        2   \n",
       "...                          ...       ...               ...      ...   \n",
       "4598                     RETIRED   MARRIED  MOSTLY SATISFIED        0   \n",
       "4599  EMPLOYED IN PRIVATE SECTOR   MARRIED  MOSTLY SATISFIED        2   \n",
       "4600   EMPLOYED IN PUBLIC SECTOR   MARRIED           PLEASED        2   \n",
       "4601  EMPLOYED IN PRIVATE SECTOR   MARRIED         DELIGHTED        2   \n",
       "4602   EMPLOYED IN PUBLIC SECTOR    SINGLE           PLEASED        2   \n",
       "\n",
       "                           trust  ... nofriend smoke alcabuse  alcsol  \\\n",
       "0     MOST PEOPLE CAN BE TRUSTED  ...        7   YES       NO      NO   \n",
       "1       ONE CAN`T BE TOO CAREFUL  ...       11    NO       NO      NO   \n",
       "2       ONE CAN`T BE TOO CAREFUL  ...        7    NO       NO      NO   \n",
       "3         IT`S DIFFICULT TO TELL  ...        0    NO       NO      NO   \n",
       "4       ONE CAN`T BE TOO CAREFUL  ...        7    NO       NO      NO   \n",
       "...                          ...  ...      ...   ...      ...     ...   \n",
       "4598  MOST PEOPLE CAN BE TRUSTED  ...       12    NO       NO      NO   \n",
       "4599    ONE CAN`T BE TOO CAREFUL  ...        7    NO       NO      NO   \n",
       "4600    ONE CAN`T BE TOO CAREFUL  ...       13    NO       NO      NO   \n",
       "4601    ONE CAN`T BE TOO CAREFUL  ...        7    NO      YES      NO   \n",
       "4602    ONE CAN`T BE TOO CAREFUL  ...        7    NO       NO     YES   \n",
       "\n",
       "                 wkabint  englang height weight        bmi  t  \n",
       "0                     NO     NONE    168    118  23.371560  0  \n",
       "1                     NO     NONE    167     63  15.776507  0  \n",
       "2                     NO  PASSIVE    171     53  35.690689  0  \n",
       "3                     NO     NONE    160     37  18.453777  0  \n",
       "4                     NO     NONE    177     38  32.645990  0  \n",
       "...                  ...      ...    ...    ...        ... ..  \n",
       "4598                  NO     NONE    168     63  31.668441  0  \n",
       "4599                  NO     NONE    168     63  32.645977  0  \n",
       "4600                  NO     NONE    177     37  32.646197  0  \n",
       "4601                  NO  PASSIVE    175     37  12.962963  0  \n",
       "4602  YES, TO EU COUNTRY     NONE    176     69  31.702206  0  \n",
       "\n",
       "[4603 rows x 23 columns]>"
      ]
     },
     "execution_count": 29,
     "metadata": {},
     "output_type": "execute_result"
    }
   ],
   "source": [
    "synthetique.head"
   ]
  },
  {
   "cell_type": "code",
   "execution_count": 8,
   "id": "73a825a6-8cfd-476d-be53-e5ab2b0df018",
   "metadata": {},
   "outputs": [
    {
     "name": "stdout",
     "output_type": "stream",
     "text": [
      "pMSE: 0.1596784705626765\n"
     ]
    }
   ],
   "source": [
    "original['t'] = 0\n",
    "cart['t'] = 1\n",
    "\n",
    "df_comb1 = pd.concat([original, cart], ignore_index=True)\n",
    "df_comb_enc1 = pd.get_dummies(df_comb1, columns=fac)\n",
    "X1 = df_comb_enc1.drop(columns=['t'])\n",
    "y1 = df_comb_enc1['t']\n",
    "X_train1, X_test1, y_train1, y_test1 = train_test_split(X1, y1, test_size=0.3, random_state=1)\n",
    "\n",
    "model1 = DecisionTreeClassifier(random_state=1)\n",
    "model1.fit(X_train1, y_train1)\n",
    "prop1 = model1.predict_proba(X1)[:, 1]\n",
    "pMSE = mean_squared_error(y1, prop1)\n",
    "print(f'pMSE: {pMSE}')"
   ]
  },
  {
   "cell_type": "code",
   "execution_count": 39,
   "id": "717f7166-54e1-4ee8-b306-86e99abdfc49",
   "metadata": {},
   "outputs": [
    {
     "data": {
      "application/vnd.jupyter.widget-view+json": {
       "model_id": "2b784918bb154ce89d7f8402d82f1454",
       "version_major": 2,
       "version_minor": 0
      },
      "text/plain": [
       "Downloading artifacts:   0%|          | 0/10 [00:00<?, ?it/s]"
      ]
     },
     "metadata": {},
     "output_type": "display_data"
    }
   ],
   "source": [
    "ctgan = mlflow.pyfunc.load_model(\"runs:/0693b3fd675e43e68fa7f0e7f889e36c/ctgan_model\")\n",
    "\n",
    "ctgan.predict(original).to_csv(\"bs_100_disc_lr_0.0001_gen_lr_1e-08.csv\")\n",
    "\n",
    "\n",
    "\n",
    "\n"
   ]
  }
 ],
 "metadata": {
  "kernelspec": {
   "display_name": "Python 3 (ipykernel)",
   "language": "python",
   "name": "python3"
  },
  "language_info": {
   "codemirror_mode": {
    "name": "ipython",
    "version": 3
   },
   "file_extension": ".py",
   "mimetype": "text/x-python",
   "name": "python",
   "nbconvert_exporter": "python",
   "pygments_lexer": "ipython3",
   "version": "3.12.3"
  }
 },
 "nbformat": 4,
 "nbformat_minor": 5
}
