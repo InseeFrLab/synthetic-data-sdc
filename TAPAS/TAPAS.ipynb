{
 "cells": [
  {
   "cell_type": "markdown",
   "id": "6906b871-82a0-4fc1-a39e-bce28a592489",
   "metadata": {},
   "source": [
    "Pour cet exemple, nous appliquons l'attaque Groundhog de Stadler et al. au fichier d'enseignement du recensement 1% du recensement d'Angleterre et du Pays de Galles et au générateur Raw le plus simple.\n",
    "\n",
    "L'objectif de TAPAS est d'évaluer la possibilité d'une attaque, plutôt que de former et de déployer des attaques contre des ensembles de données réels. Cela éclaire les décisions de conception prises, notamment en ce qui concerne les connaissances auxiliaires.\n",
    "\n",
    "Cet exemple se veut une introduction générale à TAPAS et explique certains choix de conception importants à faire lors de l'utilisation de la boîte à outils.\n",
    "\n",
    "Nous importons d’abord les dépendances nécessaires pour exécuter notre attaque (dans ce cas, les différents modules TAPAS)."
   ]
  },
  {
   "cell_type": "code",
   "execution_count": 42,
   "id": "a5731fb3-b5e9-487d-87a1-b1f2f6004ab6",
   "metadata": {},
   "outputs": [],
   "source": [
    "import tapas.datasets\n",
    "import tapas.generators\n",
    "import tapas.threat_models\n",
    "import tapas.attacks\n",
    "import tapas.report"
   ]
  },
  {
   "cell_type": "code",
   "execution_count": 50,
   "id": "e93f5cc2-6eec-48c4-982f-a8150f9ea4ac",
   "metadata": {},
   "outputs": [
    {
     "ename": "FileNotFoundError",
     "evalue": "[Errno 2] No such file or directory: 'examples/census.json'",
     "output_type": "error",
     "traceback": [
      "\u001b[0;31m---------------------------------------------------------------------------\u001b[0m",
      "\u001b[0;31mFileNotFoundError\u001b[0m                         Traceback (most recent call last)",
      "Cell \u001b[0;32mIn[50], line 1\u001b[0m\n\u001b[0;32m----> 1\u001b[0m data \u001b[38;5;241m=\u001b[39m \u001b[43mtapas\u001b[49m\u001b[38;5;241;43m.\u001b[39;49m\u001b[43mdatasets\u001b[49m\u001b[38;5;241;43m.\u001b[39;49m\u001b[43mTabularDataset\u001b[49m\u001b[38;5;241;43m.\u001b[39;49m\u001b[43mread\u001b[49m\u001b[43m(\u001b[49m\u001b[38;5;124;43m\"\u001b[39;49m\u001b[38;5;124;43mexamples/census\u001b[39;49m\u001b[38;5;124;43m\"\u001b[39;49m\u001b[43m)\u001b[49m\n",
      "File \u001b[0;32m/opt/mamba/envs/py39/lib/python3.9/site-packages/tapas/datasets/dataset.py:260\u001b[0m, in \u001b[0;36mTabularDataset.read\u001b[0;34m(cls, filepath, label)\u001b[0m\n\u001b[1;32m    241\u001b[0m \u001b[38;5;129m@classmethod\u001b[39m\n\u001b[1;32m    242\u001b[0m \u001b[38;5;28;01mdef\u001b[39;00m \u001b[38;5;21mread\u001b[39m(\u001b[38;5;28mcls\u001b[39m, filepath, label \u001b[38;5;241m=\u001b[39m \u001b[38;5;28;01mNone\u001b[39;00m):\n\u001b[1;32m    243\u001b[0m \u001b[38;5;250m    \u001b[39m\u001b[38;5;124;03m\"\"\"\u001b[39;00m\n\u001b[1;32m    244\u001b[0m \u001b[38;5;124;03m    Read csv and json files for dataframe and schema respectively.\u001b[39;00m\n\u001b[1;32m    245\u001b[0m \n\u001b[0;32m   (...)\u001b[0m\n\u001b[1;32m    258\u001b[0m \n\u001b[1;32m    259\u001b[0m \u001b[38;5;124;03m    \"\"\"\u001b[39;00m\n\u001b[0;32m--> 260\u001b[0m     \u001b[38;5;28;01mwith\u001b[39;00m \u001b[38;5;28;43mopen\u001b[39;49m\u001b[43m(\u001b[49m\u001b[38;5;124;43mf\u001b[39;49m\u001b[38;5;124;43m\"\u001b[39;49m\u001b[38;5;132;43;01m{\u001b[39;49;00m\u001b[43mfilepath\u001b[49m\u001b[38;5;132;43;01m}\u001b[39;49;00m\u001b[38;5;124;43m.json\u001b[39;49m\u001b[38;5;124;43m\"\u001b[39;49m\u001b[43m)\u001b[49m \u001b[38;5;28;01mas\u001b[39;00m f:\n\u001b[1;32m    261\u001b[0m         schema \u001b[38;5;241m=\u001b[39m json\u001b[38;5;241m.\u001b[39mload(f)\n\u001b[1;32m    263\u001b[0m     \u001b[38;5;28;01mreturn\u001b[39;00m _parse_csv(\u001b[38;5;124mf\u001b[39m\u001b[38;5;124m\"\u001b[39m\u001b[38;5;132;01m{\u001b[39;00mfilepath\u001b[38;5;132;01m}\u001b[39;00m\u001b[38;5;124m.csv\u001b[39m\u001b[38;5;124m\"\u001b[39m, schema, label \u001b[38;5;129;01mor\u001b[39;00m filepath)\n",
      "\u001b[0;31mFileNotFoundError\u001b[0m: [Errno 2] No such file or directory: 'examples/census.json'"
     ]
    }
   ],
   "source": [
    "data = tapas.datasets.TabularDataset.read(\"examples/census\")"
   ]
  },
  {
   "cell_type": "code",
   "execution_count": 17,
   "id": "2cff07c1-bb58-428f-8eff-bae366a359c3",
   "metadata": {},
   "outputs": [],
   "source": [
    "generator = tapas.generators.Raw()"
   ]
  },
  {
   "cell_type": "markdown",
   "id": "c039f229-4b18-4b2a-ab79-e5989b2d6e61",
   "metadata": {},
   "source": [
    "Nous définissons maintenant le modèle de menace. Les modèles de menace sont au cœur de TAPAS: elle englobe toutes les hypothèses faites à l'encontre de l'attaquant. Un modèle de menace a trois composantes: 1) ce que l'attaquant sait sur l'ensemble de données, 2) ce que l'attaquant sait sur le générateur, et 3) ce qu'il essaie d'en déduire.\n",
    "\n",
    "Tout d'abord, nous définissons les connaissances de l'attaquant sur l'ensemble de données. Ici, nous supposons que l'attaquant a accès à un ensemble de données auxiliaires à partir de la même distribution, à partir de laquelle ils peuvent échantillonner des ensembles de données d'entraînement\n",
    "\n",
    "Dans cet example, l'attaquant a accès à 50% du jeu de données total comme information auxiliaire. Ces informations seront utilisées pour produire des ensembles de données de formation. L'attaquant sait que l'ensemble de données réel contient 5000 échantillons. Cela reflète ainsi la connaissance de l'attaquant sur les données réelles.\n",
    "\n",
    "Nous définissons ensuite ce que l'attaquant sait sur le générateur de données synthétiques. Il s'agirait généralement d'une connaissance de la boîte noire: l'attaquant est capable d'exécuter le modèle (exact) des ODD sur n'importe quel ensemble de données qu'il choisit mais ne peut observer que les paires (entrée, sortie) et non les paramètres internes. L'attaquant spécifie également la taille de l'ensemble de données de sortie (synthétique)."
   ]
  },
  {
   "cell_type": "code",
   "execution_count": 18,
   "id": "765502ed-a5b0-4bcb-b733-07119d280781",
   "metadata": {},
   "outputs": [
    {
     "ename": "NameError",
     "evalue": "name 'data' is not defined",
     "output_type": "error",
     "traceback": [
      "\u001b[0;31m---------------------------------------------------------------------------\u001b[0m",
      "\u001b[0;31mNameError\u001b[0m                                 Traceback (most recent call last)",
      "Cell \u001b[0;32mIn[18], line 2\u001b[0m\n\u001b[1;32m      1\u001b[0m data_knowledge \u001b[38;5;241m=\u001b[39m tapas\u001b[38;5;241m.\u001b[39mthreat_models\u001b[38;5;241m.\u001b[39mAuxiliaryDataKnowledge(\n\u001b[0;32m----> 2\u001b[0m       \u001b[43mdata\u001b[49m,\n\u001b[1;32m      3\u001b[0m       auxiliary_split\u001b[38;5;241m=\u001b[39m\u001b[38;5;241m0.5\u001b[39m,\n\u001b[1;32m      4\u001b[0m       num_training_records\u001b[38;5;241m=\u001b[39m\u001b[38;5;241m5000\u001b[39m\n\u001b[1;32m      5\u001b[0m )\n\u001b[1;32m      7\u001b[0m sdg_knowledge \u001b[38;5;241m=\u001b[39m tapas\u001b[38;5;241m.\u001b[39mthreat_models\u001b[38;5;241m.\u001b[39mBlackBoxKnowledge(\n\u001b[1;32m      8\u001b[0m     generator,\n\u001b[1;32m      9\u001b[0m     num_synthetic_records\u001b[38;5;241m=\u001b[39m\u001b[38;5;241m5000\u001b[39m,\n\u001b[1;32m     10\u001b[0m )\n",
      "\u001b[0;31mNameError\u001b[0m: name 'data' is not defined"
     ]
    }
   ],
   "source": [
    "data_knowledge = tapas.threat_models.AuxiliaryDataKnowledge(\n",
    "      data,\n",
    "      auxiliary_split = 0.5,\n",
    "      num_training_records = 5000\n",
    ")\n",
    "\n",
    "sdg_knowledge = tapas.threat_models.BlackBoxKnowledge(\n",
    "    generator,\n",
    "    num_synthetic_records = 5000,\n",
    ")"
   ]
  },
  {
   "cell_type": "markdown",
   "id": "eb253f20-76a7-4371-a9b2-43d4319ce4a7",
   "metadata": {},
   "source": [
    "Enfin, après avoir défini les connaissances de l’attaquant, nous précisons leur objectif – ce qu’il essaie de déduire. Nous nous concentrerons ici sur une attaque d'inférence de membres sur un registre cible. Nous sélectionnons ici (arbitrairement) le premier enregistrement dans l'ensemble de données.\n",
    "\n",
    "Les trois premiers paramètres spécifient les composants de la connaissance de l'attaquant que nous avons définis ci-dessus, et l'enregistrement de la cible. Les deux derniers paramètres indiquent comment l'attaquant sera formé (par exemple, nous générons des paires pour former l'attaque). Pour plus de détails, veuillez consulter la documentation de l'API."
   ]
  },
  {
   "cell_type": "code",
   "execution_count": null,
   "id": "451ef7f2-303e-4a14-8e8f-44a29fb8c0c4",
   "metadata": {},
   "outputs": [],
   "source": [
    "threat_model = tapas.threat_models.TargetedMIA(\n",
    "   attacker_knowledge_data = data_knowledge,\n",
    "   target_record = data.get_records([0]),\n",
    "   attacker_knowledge_generator = sdg_knowledge,\n",
    "   generate_pairs = True,\n",
    "   replace_target = True\n",
    ")"
   ]
  },
  {
   "cell_type": "markdown",
   "id": "1ef9b45d-fef3-4fd7-a390-f5d091cf8830",
   "metadata": {},
   "source": [
    "Le modèle de menace représente ce qu'un attaquant peut faire. Nous pouvons maintenant définir un attaquant dont les capacités sont autorisées par le modèle de menace. Dans cet example, on instancie l'attaque GroundHog avec des paramètres standards (de Stadler et al., 2022), qui est fournie comme c'est le cas à l'intérieur tapas."
   ]
  },
  {
   "cell_type": "code",
   "execution_count": null,
   "id": "9be3990a-dc48-4702-8776-d912403ba51d",
   "metadata": {},
   "outputs": [],
   "source": [
    "attacker = tapas.attacks.GroundhogAttack()"
   ]
  },
  {
   "cell_type": "markdown",
   "id": "9ddf9a62-4bf6-46ca-b4d6-8862b020cf45",
   "metadata": {},
   "source": [
    "L'attaque au sol est en fait une instanciation particulière d'une plus grande classe d'attaques. Il pourrait être rédigé de manière équivalente en utilisant les éléments suivants: TAPASclasses (se référer à la documentation pour plus de détails):"
   ]
  },
  {
   "cell_type": "code",
   "execution_count": null,
   "id": "ca18c000-fd0d-428b-a5af-00540657500e",
   "metadata": {},
   "outputs": [],
   "source": [
    "from sklearn.ensemble import RandomForestClassifier\n",
    "\n",
    "attacker = tapas.attacks.ShadowModellingAttack(\n",
    "   tapas.attacks.FeatureBasedSetClassifier(\n",
    "      tapas.attacks.NaiveSetFeature() + tapas.attacks.HistSetFeature() + tapas.attacks.CorrSetFeature(),\n",
    "      RandomForestClassifier(n_estimators = 100)\n",
    "   ),\n",
    "   label = \"Groundhog\"\n",
    ")"
   ]
  },
  {
   "cell_type": "markdown",
   "id": "32da846e-2cd6-45a5-93f1-d4bc94947ae9",
   "metadata": {},
   "source": [
    "En TAPAS, les attaques doivent être formées pour un modèle de menace spécifique. Cette formation implique 1) des paramètres de réglage liés à l'ensemble de données (comme le nom des attributs et le nombre de catégories), et 2) l'entraînement de paramètres de modèle interne pour l'attaque. Dans la phase d'entraînement, l'attaquant voit un grand nombre d'ensembles de données « réels » générés en fonction des connaissances de l'attaquant et des ensembles de données synthétiques générés à partir de ces ensembles de données réels. Ces paires peuvent être utilisées pour, par exemple, former un classificateur pour inférer quelque chose sur l'ensemble de données réel à partir de l'ensemble de données synthétiques. Dans ce cas, le classificateur sera formé pour déterminer si un enregistrement spécifique figure dans l'ensemble de données réel. Cela se fait à l'aide de la .trainméthode, qui nécessite également de spécifier le nombre d'échantillons de formation (paires d'ensembles de données réelles et synthétiques):"
   ]
  },
  {
   "cell_type": "code",
   "execution_count": null,
   "id": "1b396bc4-30ac-49ba-9414-1cd318df587d",
   "metadata": {},
   "outputs": [],
   "source": [
    "attacker.train(threat_model, num_samples = 1000)"
   ]
  },
  {
   "cell_type": "markdown",
   "id": "97ba66ae-47f9-44f0-bc29-5583d1bb801b",
   "metadata": {},
   "source": [
    "Le TargetedMIAle modèle de menace est un modèle de menace TrainableThreatModelil définit une méthode pour générer des échantillons d'apprentissage (synthétique-dosset, target-in-real-dataset). C'est pourquoi le modèle de menace est passé pour former l'attaquant. Le num_samplesparamètre est le nombre de paires d'apprentissage générées par le modèle de menace pour former l'attaquant.\n",
    "\n",
    "L'évaluation de l'attaque se fait dans le cadre de l'objet modèle de menace. En effet, conceptuellement, l'évaluation nécessite un accès à des informations que l'attaquant ne connaît pas (par exemple, les 50 % restants de l'ensemble de données). L'évaluation fonctionne de manière similaire à la formation en ce sens qu'un grand nombre d'ensembles de données « réels » et synthétiques sont générés, l'attaque est appliquée à chaque ensemble de données synthétiques et le taux de réussite de l'attaque est mesuré. Cela peut être fait avec le threat_model.testfonction:"
   ]
  },
  {
   "cell_type": "code",
   "execution_count": null,
   "id": "2c72f6ae-1bd4-4e74-8c65-66d34dc7ae58",
   "metadata": {},
   "outputs": [],
   "source": [
    "attack_summary = threat_model.test(attacker, num_samples = 100)"
   ]
  },
  {
   "cell_type": "markdown",
   "id": "01f62f91-bb5c-4de0-b236-284150a0a26a",
   "metadata": {},
   "source": [
    "Ces produits a tapas.report.MIAttackSummaryobjet, qui contient les étiquettes des ensembles de données « réelles » d'apprentissage et l'étiquette (et le score) prédit par l'attaque. Vous pouvez soit utiliser ce résumé directement (il contient une gamme de statistiques agrégées) :"
   ]
  },
  {
   "cell_type": "code",
   "execution_count": null,
   "id": "ef05ccc3-2361-485a-ae62-10faa31f8867",
   "metadata": {},
   "outputs": [],
   "source": [
    "metrics = attack_summary.get_metrics()\n",
    "print(\"Results:\\n\", metrics.head())"
   ]
  },
  {
   "cell_type": "code",
   "execution_count": null,
   "id": "59b0b4e8-e0bb-41df-900a-ff6aa67c3492",
   "metadata": {},
   "outputs": [],
   "source": [
    "report = tapas.report.BinaryAIAttackReport(\n",
    "   [attack_summary], metrics = [\"accuracy\", \"privacy_gain\", \"auc\"]\n",
    ")\n",
    "report.publish('groundhog-census')"
   ]
  }
 ],
 "metadata": {
  "kernelspec": {
   "display_name": "Python 3.9",
   "language": "python",
   "name": "py39"
  },
  "language_info": {
   "codemirror_mode": {
    "name": "ipython",
    "version": 3
   },
   "file_extension": ".py",
   "mimetype": "text/x-python",
   "name": "python",
   "nbconvert_exporter": "python",
   "pygments_lexer": "ipython3",
   "version": "3.9.19"
  }
 },
 "nbformat": 4,
 "nbformat_minor": 5
}
